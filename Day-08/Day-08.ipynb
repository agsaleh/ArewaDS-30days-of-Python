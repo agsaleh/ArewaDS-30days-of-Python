{
 "cells": [
  {
   "cell_type": "markdown",
   "metadata": {},
   "source": [
    "# Day 8 Exercises\n",
    "\n",
    "### Exercise Level 1: \n",
    "### Number 1: Creating an empty dictionary"
   ]
  },
  {
   "cell_type": "code",
   "execution_count": 27,
   "metadata": {},
   "outputs": [
    {
     "name": "stdout",
     "output_type": "stream",
     "text": [
      "{}\n"
     ]
    }
   ],
   "source": [
    "dog = {}\n",
    "\n",
    "print(dog)"
   ]
  },
  {
   "cell_type": "markdown",
   "metadata": {},
   "source": [
    "### Number 2: Adding items to the dictionary"
   ]
  },
  {
   "cell_type": "code",
   "execution_count": 28,
   "metadata": {},
   "outputs": [
    {
     "name": "stdout",
     "output_type": "stream",
     "text": [
      "{'name:': 'Gucco', 'color:': 'Yellow', 'breed:': 'Labrador', 'legs:': 4, 'age:': 6}\n"
     ]
    }
   ],
   "source": [
    "dog = {\n",
    "    'name:': 'Gucco',\n",
    "    'color:': 'Yellow',\n",
    "    'breed:': 'Labrador',\n",
    "    'legs:': 4,\n",
    "    'age:': 6\n",
    "}\n",
    "print(dog)"
   ]
  },
  {
   "cell_type": "markdown",
   "metadata": {},
   "source": [
    "### Number 3: Creating a new dictionary"
   ]
  },
  {
   "cell_type": "code",
   "execution_count": 29,
   "metadata": {},
   "outputs": [
    {
     "name": "stdout",
     "output_type": "stream",
     "text": [
      "{'first_name:': 'Abubakar', 'last_name:': 'Saleh', 'gender:': 'Male', 'age:': 30, 'marital_status:': 'Single', 'skills:': ['Python', 'Web Development'], 'country:': 'Nigeria', 'city:': 'Bauchi', 'address:': 'Nassarawa Street'}\n"
     ]
    }
   ],
   "source": [
    "student = {\n",
    "    'first_name:': 'Abubakar',\n",
    "    'last_name:': 'Saleh',\n",
    "    'gender:': 'Male',\n",
    "    'age:': 30,\n",
    "    'marital_status:': 'Single',\n",
    "    'skills:': ['Python', 'Web Development'],\n",
    "    'country:': 'Nigeria',\n",
    "    'city:': 'Bauchi',\n",
    "    'address:': 'Nassarawa Street'        \n",
    "\n",
    "}\n",
    "print(student)"
   ]
  },
  {
   "cell_type": "markdown",
   "metadata": {},
   "source": [
    "### Number 4: Getting the length of a dictionary"
   ]
  },
  {
   "cell_type": "code",
   "execution_count": 30,
   "metadata": {},
   "outputs": [
    {
     "name": "stdout",
     "output_type": "stream",
     "text": [
      "9\n"
     ]
    }
   ],
   "source": [
    "print(len(student))"
   ]
  },
  {
   "cell_type": "markdown",
   "metadata": {},
   "source": [
    "### 5: Getting the value of skills and checking the data type"
   ]
  },
  {
   "cell_type": "code",
   "execution_count": 31,
   "metadata": {},
   "outputs": [
    {
     "name": "stdout",
     "output_type": "stream",
     "text": [
      "['Python', 'Web Development']\n",
      "<class 'list'>\n"
     ]
    }
   ],
   "source": [
    "skills_value = student['skills:']\n",
    "print(skills_value)\n",
    "\n",
    "data_type = type(skills_value)\n",
    "print(data_type)"
   ]
  },
  {
   "cell_type": "markdown",
   "metadata": {},
   "source": [
    "### 6: Modifying the skills value"
   ]
  },
  {
   "cell_type": "code",
   "execution_count": 32,
   "metadata": {},
   "outputs": [
    {
     "name": "stdout",
     "output_type": "stream",
     "text": [
      "['Python', 'Web Development', 'Visual Basic', 'Cloud Computing']\n"
     ]
    }
   ],
   "source": [
    "student['skills:'].extend(['Visual Basic', 'Cloud Computing'])\n",
    "print(skills_value)"
   ]
  },
  {
   "cell_type": "markdown",
   "metadata": {},
   "source": [
    "### 7: Getting the dictionary keys as a list"
   ]
  },
  {
   "cell_type": "code",
   "execution_count": 33,
   "metadata": {},
   "outputs": [
    {
     "name": "stdout",
     "output_type": "stream",
     "text": [
      "['first_name:', 'last_name:', 'gender:', 'age:', 'marital_status:', 'skills:', 'country:', 'city:', 'address:']\n"
     ]
    }
   ],
   "source": [
    "student_keys = list(student.keys())\n",
    "print(student_keys)"
   ]
  },
  {
   "cell_type": "markdown",
   "metadata": {},
   "source": [
    "### 8: Getting the dictionary values as a list"
   ]
  },
  {
   "cell_type": "code",
   "execution_count": 34,
   "metadata": {},
   "outputs": [
    {
     "name": "stdout",
     "output_type": "stream",
     "text": [
      "['Abubakar', 'Saleh', 'Male', 30, 'Single', ['Python', 'Web Development', 'Visual Basic', 'Cloud Computing'], 'Nigeria', 'Bauchi', 'Nassarawa Street']\n"
     ]
    }
   ],
   "source": [
    "student_values = list(student.values())\n",
    "print(student_values)"
   ]
  },
  {
   "cell_type": "markdown",
   "metadata": {},
   "source": [
    "### 9: Changing dictionary to a list of tuples"
   ]
  },
  {
   "cell_type": "code",
   "execution_count": 35,
   "metadata": {},
   "outputs": [
    {
     "name": "stdout",
     "output_type": "stream",
     "text": [
      "[('first_name:', 'Abubakar'), ('last_name:', 'Saleh'), ('gender:', 'Male'), ('age:', 30), ('marital_status:', 'Single'), ('skills:', ['Python', 'Web Development', 'Visual Basic', 'Cloud Computing']), ('country:', 'Nigeria'), ('city:', 'Bauchi'), ('address:', 'Nassarawa Street')]\n"
     ]
    }
   ],
   "source": [
    "student_list = list(student.items())\n",
    "print(student_list)"
   ]
  },
  {
   "cell_type": "markdown",
   "metadata": {},
   "source": [
    "### 10: Deleting an item from the dictionary"
   ]
  },
  {
   "cell_type": "code",
   "execution_count": 36,
   "metadata": {},
   "outputs": [
    {
     "name": "stdout",
     "output_type": "stream",
     "text": [
      "{'first_name:': 'Abubakar', 'last_name:': 'Saleh', 'gender:': 'Male', 'age:': 30, 'marital_status:': 'Single', 'skills:': ['Python', 'Web Development', 'Visual Basic', 'Cloud Computing'], 'country:': 'Nigeria', 'city:': 'Bauchi'}\n"
     ]
    }
   ],
   "source": [
    "del student['address:']\n",
    "print(student)"
   ]
  },
  {
   "cell_type": "markdown",
   "metadata": {},
   "source": [
    "### 11: Deleting one of the dictionaries"
   ]
  },
  {
   "cell_type": "code",
   "execution_count": 37,
   "metadata": {},
   "outputs": [
    {
     "name": "stdout",
     "output_type": "stream",
     "text": [
      "Deleted!\n"
     ]
    }
   ],
   "source": [
    "del dog\n",
    "\n",
    "print('Deleted!')"
   ]
  }
 ],
 "metadata": {
  "kernelspec": {
   "display_name": "Python 3",
   "language": "python",
   "name": "python3"
  },
  "language_info": {
   "codemirror_mode": {
    "name": "ipython",
    "version": 3
   },
   "file_extension": ".py",
   "mimetype": "text/x-python",
   "name": "python",
   "nbconvert_exporter": "python",
   "pygments_lexer": "ipython3",
   "version": "3.11.5"
  }
 },
 "nbformat": 4,
 "nbformat_minor": 2
}
