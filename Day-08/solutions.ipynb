{
 "cells": [
  {
   "cell_type": "code",
   "execution_count": null,
   "metadata": {},
   "outputs": [],
   "source": [
    "Day 9 Solns"
   ]
  },
  {
   "cell_type": "code",
   "execution_count": null,
   "metadata": {},
   "outputs": [],
   "source": [
    "# Check if the person dictionary has skills key, if so print out the middle skill in the skills list.\n",
    "if 'skills' in person:\n",
    "    skills = person['skills']\n",
    "    middle_skill = skills[len(skills) // 2]\n",
    "    print(middle_skill)\n",
    "\n",
    "# Check if the person dictionary has skills key, if so check if the person has 'Python' skill and print out the result.\n",
    "if 'skills' in person:\n",
    "    has_python_skill = 'Python' in person['skills']\n",
    "    print(has_python_skill)\n",
    "\n",
    "# Conditions to determine the developer type based on skills\n",
    "if 'skills' in person:\n",
    "    skills = person['skills']\n",
    "    if skills == ['JavaScript', 'React']:\n",
    "        print('He is a front end developer')\n",
    "    elif set(['Node', 'Python', 'MongoDB']).issubset(set(skills)):\n",
    "        print('He is a backend developer')\n",
    "    elif set(['React', 'Node', 'MongoDB']).issubset(set(skills)):\n",
    "        print('He is a fullstack developer')\n",
    "    else:\n",
    "        print('Unknown title')\n",
    "\n",
    "# If the person is married and lives in Finland, print the information in the specified format.\n",
    "if person.get('is_married') and person.get('country') == 'Finland':\n",
    "    print(f\"{person['first_name']} {person['last_name']} lives in {person['country']}. He is married.\")\n"
   ]
  },
  {
   "cell_type": "markdown",
   "metadata": {},
   "source": [
    "Level 2"
   ]
  },
  {
   "cell_type": "code",
   "execution_count": null,
   "metadata": {},
   "outputs": [],
   "source": [
    "score = 87\n",
    "\n",
    "if score >= 80 and score <= 100:\n",
    "    grade = 'A'\n",
    "elif score >= 70 and score <= 89:\n",
    "    grade = 'B'\n",
    "elif score >= 60 and score <= 69:\n",
    "    grade = 'C'\n",
    "elif score >= 50 and score <= 59:\n",
    "    grade = 'D'\n",
    "else:\n",
    "    grade = 'F'\n"
   ]
  },
  {
   "cell_type": "markdown",
   "metadata": {},
   "source": [
    "Level 3"
   ]
  },
  {
   "cell_type": "code",
   "execution_count": null,
   "metadata": {},
   "outputs": [],
   "source": [
    "# Given person dictionary\n",
    "person = {\n",
    "    'first_name': 'Asabeneh',\n",
    "    'last_name': 'Yetayeh',\n",
    "    'age': 250,\n",
    "    'country': 'Finland',\n",
    "    'is_married': True,\n",
    "    'skills': ['JavaScript', 'React', 'Node', 'MongoDB', 'Python'],\n",
    "    'address': {\n",
    "        'street': 'Space street',\n",
    "        'zipcode': '02210'\n",
    "    }\n",
    "}\n",
    "\n",
    "# You are 5 years older than me.\n",
    "your_age = 245\n",
    "person['age'] = your_age\n"
   ]
  },
  {
   "cell_type": "markdown",
   "metadata": {},
   "source": [
    "Day 10"
   ]
  },
  {
   "cell_type": "code",
   "execution_count": null,
   "metadata": {},
   "outputs": [],
   "source": [
    "# for loop\n",
    "for i in range(11):\n",
    "    print(i)\n",
    "# while loop\n",
    "i = 0\n",
    "while i <= 10:\n",
    "    print(i)\n",
    "    i += 1\n",
    "# Iterate 10 to 0 using for loop, do the same using while loop.\n",
    "#Using for loop:\n",
    "for i in range(10, -1, -1):\n",
    "    print(i)\n",
    "# Using while loop:\n",
    "i = 10\n",
    "while i >= 0:\n",
    "    print(i)\n",
    "    i -= 1\n",
    "#Write a loop that makes seven calls to print(), creating a triangle:\n",
    "for i in range(1, 8):\n",
    "    print('*' * i)\n",
    "#Use nested loops to create the following:\n",
    "for i in range(8):\n",
    "    print('# ' * 8)\n",
    "# Print the following pattern:\n",
    "for i in range(11):\n",
    "    print(f\"{i} x {i} = {i * i}\")\n",
    "#Iterate through the list, ['Python', 'Numpy', 'Pandas', 'Django', 'Flask'], using a for loop and print out the items:\n",
    "frameworks = ['Python', 'Numpy', 'Pandas', 'Django', 'Flask']\n",
    "for framework in frameworks:\n",
    "    print(framework)\n",
    "#Use a for loop to iterate from 0 to 100 and print only even numbers:\n",
    "for i in range(0, 101, 2):\n",
    "    print(i)\n",
    "#Use a for loop to iterate from 0 to 100 and print only odd numbers:\n",
    "for i in range(1, 101, 2):\n",
    "    print(i)\n",
    "#Level 2:\n",
    "#Use a for loop to iterate from 0 to 100 and print the sum of all numbers:\n",
    "total = sum(range(101))\n",
    "print(f\"The sum of all numbers is {total}.\")\n",
    "# Use a for loop to iterate from 0 to 100 and print the sum of all evens and the sum of all odds:\n",
    "sum_even = sum(range(0, 101, 2))\n",
    "sum_odd = sum(range(1, 101, 2))\n",
    "print(f\"The sum of all evens is {sum_even}. And the sum of all odds is {sum_odd}.\")\n",
    "# Level 3:\n",
    "#Loop through the countries and extract all the countries containing the word 'land':\n",
    "from data.countries import countries\n",
    "\n",
    "countries_with_land = [country for country in countries if 'land' in country.lower()]\n",
    "print(countries_with_land)\n",
    "#Reverse the order of the fruit list:\n",
    "fruits = ['banana', 'orange', 'mango', 'lemon']\n",
    "reversed_fruits = []\n",
    "for fruit in reversed(fruits):\n",
    "    reversed_fruits.append(fruit)\n",
    "print(reversed_fruits)\n",
    "#From countries_data.py:\n",
    "from data.countries_data import countries_data\n",
    "\n",
    "# i. What are the total number of languages in the data\n",
    "languages = set()\n",
    "for country in countries_data:\n",
    "    languages.update(country['languages'])\n",
    "total_languages = len(languages)\n",
    "print(f\"The total number of languages in the data is {total_languages}.\")\n",
    "\n",
    "# ii. Find the ten most spoken languages from the data\n",
    "from collections import Counter\n",
    "\n",
    "all_languages = [language for country in countries_data for language in country['languages']]\n",
    "language_counts = Counter(all_languages)\n",
    "most_spoken_languages = language_counts.most_common(10)\n",
    "print(f\"The ten most spoken languages are: {most_spoken_languages}\")\n",
    "\n",
    "# iii. Find the 10 most populated countries in the world\n",
    "sorted_countries = sorted(countries_data, key=lambda x: x['population'], reverse=True)\n",
    "most_populated_countries = [country['name'] for country in sorted_countries[:10]]\n",
    "print(f\"The 10 most populated countries in the world are: {most_populated_countries}\")\n",
    "# "
   ]
  }
 ],
 "metadata": {
  "kernelspec": {
   "display_name": "Python 3",
   "language": "python",
   "name": "python3"
  },
  "language_info": {
   "name": "python",
   "version": "3.11.5"
  }
 },
 "nbformat": 4,
 "nbformat_minor": 2
}
