{
 "cells": [
  {
   "cell_type": "markdown",
   "metadata": {},
   "source": [
    "# Day 11 Exercises\n",
    "### Exercise Level 1\n",
    "### Number 1: Function to add two numbers"
   ]
  },
  {
   "cell_type": "code",
   "execution_count": 35,
   "metadata": {},
   "outputs": [
    {
     "name": "stdout",
     "output_type": "stream",
     "text": [
      "7\n"
     ]
    }
   ],
   "source": [
    "def add_two_numbers(a, b):\n",
    "    return a + b\n",
    "a = 4 \n",
    "b = 3\n",
    "add = a + b\n",
    "\n",
    "print(add)"
   ]
  },
  {
   "cell_type": "markdown",
   "metadata": {},
   "source": [
    "### Number 2: Calculating area of a Circle"
   ]
  },
  {
   "cell_type": "code",
   "execution_count": 36,
   "metadata": {},
   "outputs": [
    {
     "name": "stdout",
     "output_type": "stream",
     "text": [
      "1661.9025137490005\n"
     ]
    }
   ],
   "source": [
    "import math\n",
    "\n",
    "def area_of_circle():\n",
    "    return soln\n",
    "\n",
    "radius = 23\n",
    "soln = math.pi * radius * radius\n",
    "\n",
    "print(soln)"
   ]
  },
  {
   "cell_type": "markdown",
   "metadata": {},
   "source": [
    "### Number 3: Function to add all numbers"
   ]
  },
  {
   "cell_type": "code",
   "execution_count": 37,
   "metadata": {},
   "outputs": [
    {
     "name": "stdout",
     "output_type": "stream",
     "text": [
      "Successfully executed!\n"
     ]
    }
   ],
   "source": [
    "def add_all_nums(*args):\n",
    "    if all(isinstance(arg, (int, float)) for arg in args):\n",
    "        return sum(args)\n",
    "    else:\n",
    "        return 'Some items are not Numbers'\n",
    "    \n",
    "print('Successfully executed!')"
   ]
  },
  {
   "cell_type": "markdown",
   "metadata": {},
   "source": [
    "### Number 4: Converting Celcius to Fahrenheit"
   ]
  },
  {
   "cell_type": "code",
   "execution_count": 38,
   "metadata": {},
   "outputs": [
    {
     "name": "stdout",
     "output_type": "stream",
     "text": [
      "Successfully converted!\n"
     ]
    }
   ],
   "source": [
    "def convert_celcius_to_fahrenheit(celcius):\n",
    "    return (celcius * 9/5) + 32\n",
    "\n",
    "print('Successfully converted!')"
   ]
  },
  {
   "cell_type": "markdown",
   "metadata": {},
   "source": [
    "### Number 5: Function to check season"
   ]
  },
  {
   "cell_type": "code",
   "execution_count": 39,
   "metadata": {},
   "outputs": [
    {
     "name": "stdout",
     "output_type": "stream",
     "text": [
      "Successfully executed!\n"
     ]
    }
   ],
   "source": [
    "def check_season(month):\n",
    "    if month in (3, 4, 5):\n",
    "        return 'Spring'\n",
    "    elif month in (6, 7, 8):\n",
    "        return 'Summer'\n",
    "    elif month in (9, 10, 11):\n",
    "        return 'Autumn'\n",
    "    else:\n",
    "        return 'Winter'\n",
    "    \n",
    "print('Successfully executed!')"
   ]
  },
  {
   "cell_type": "markdown",
   "metadata": {},
   "source": [
    "### Number 6: Calculating the slope of a linear equation"
   ]
  },
  {
   "cell_type": "code",
   "execution_count": 40,
   "metadata": {},
   "outputs": [
    {
     "name": "stdout",
     "output_type": "stream",
     "text": [
      "Successfully executed!\n"
     ]
    }
   ],
   "source": [
    "def calculate_slope(x1, y1, x2, y2):\n",
    "    return (y2 - y1) / (x2 - x1)\n",
    "\n",
    "print('Successfully executed!')"
   ]
  },
  {
   "cell_type": "markdown",
   "metadata": {},
   "source": [
    "### Number 7:Calculating the solution set of a quadratic equation"
   ]
  },
  {
   "cell_type": "code",
   "execution_count": 41,
   "metadata": {},
   "outputs": [
    {
     "name": "stdout",
     "output_type": "stream",
     "text": [
      "A is: (-0.8333333333333334-0.7993052538854531j)\n",
      "B is: (-0.8333333333333334+0.7993052538854531j)\n"
     ]
    }
   ],
   "source": [
    "import cmath\n",
    "\n",
    "def solve_quadratic_equation(a, b, c):\n",
    "    \n",
    "    return soln1, soln2\n",
    "\n",
    "a = int(input('Enter first No.:'))\n",
    "b = int(input('Enter second No.:'))\n",
    "c = int(input('Enter third No.:'))\n",
    "\n",
    "discr = (b ** 2) - (4 * a * c)\n",
    "soln1 = (-b - cmath.sqrt(discr)) / (2 * a)\n",
    "soln2 = (-b + cmath.sqrt(discr)) / (2 * a)\n",
    "\n",
    "print('A is:', soln1)\n",
    "print('B is:', soln2)\n"
   ]
  },
  {
   "cell_type": "markdown",
   "metadata": {},
   "source": [
    "### 8: Printing each element of a list"
   ]
  },
  {
   "cell_type": "code",
   "execution_count": 42,
   "metadata": {},
   "outputs": [],
   "source": [
    "def print_list(my_list):\n",
    "    for item in my_list:\n",
    "        print(item)"
   ]
  },
  {
   "cell_type": "markdown",
   "metadata": {},
   "source": [
    "### 9: Reversing an array using list"
   ]
  },
  {
   "cell_type": "code",
   "execution_count": 43,
   "metadata": {},
   "outputs": [
    {
     "name": "stdout",
     "output_type": "stream",
     "text": [
      "Succesful!!!\n"
     ]
    }
   ],
   "source": [
    "def reverse_list(my_list):\n",
    "    reversed_list = []\n",
    "    for i in range(len(my_list)-1, -1, -1):\n",
    "        reverse_list.append(my_list[i])\n",
    "        return reversed_list\n",
    "    \n",
    "print('Succesful!!!')"
   ]
  },
  {
   "cell_type": "markdown",
   "metadata": {},
   "source": [
    "#### 10: Function to capitalise items in a list"
   ]
  },
  {
   "cell_type": "code",
   "execution_count": 44,
   "metadata": {},
   "outputs": [
    {
     "name": "stdout",
     "output_type": "stream",
     "text": [
      "Succesful!!!\n"
     ]
    }
   ],
   "source": [
    "def capitalize_list_items(my_list):\n",
    "    return [item.capitalize() for item in my_list]\n",
    "\n",
    "print('Succesful!!!')"
   ]
  },
  {
   "cell_type": "markdown",
   "metadata": {},
   "source": [
    "### 11: Adding an item in a list"
   ]
  },
  {
   "cell_type": "code",
   "execution_count": 45,
   "metadata": {},
   "outputs": [
    {
     "name": "stdout",
     "output_type": "stream",
     "text": [
      "Succesful!!!\n"
     ]
    }
   ],
   "source": [
    "def add_item(my_list, item):\n",
    "    my_list.append(item)\n",
    "    return my_list\n",
    "\n",
    "print('Succesful!!!')"
   ]
  },
  {
   "cell_type": "markdown",
   "metadata": {},
   "source": [
    "### 12: Removing an item from list"
   ]
  },
  {
   "cell_type": "code",
   "execution_count": 46,
   "metadata": {},
   "outputs": [
    {
     "name": "stdout",
     "output_type": "stream",
     "text": [
      "Succesful!!!\n"
     ]
    }
   ],
   "source": [
    "def add_item(my_list, item):\n",
    "    if item in my_list:\n",
    "        my_list.remove(item)\n",
    "        return my_list\n",
    "    \n",
    "print('Succesful!!!')"
   ]
  },
  {
   "cell_type": "markdown",
   "metadata": {},
   "source": [
    "### 13: Summing numbers"
   ]
  },
  {
   "cell_type": "code",
   "execution_count": 47,
   "metadata": {},
   "outputs": [
    {
     "name": "stdout",
     "output_type": "stream",
     "text": [
      "Succesful!!!\n"
     ]
    }
   ],
   "source": [
    "def sum_of_numbers(n):\n",
    "    return sum(range(n + 1))\n",
    "\n",
    "print('Succesful!!!')"
   ]
  },
  {
   "cell_type": "markdown",
   "metadata": {},
   "source": [
    "### 14: Summing odd numbers"
   ]
  },
  {
   "cell_type": "code",
   "execution_count": 48,
   "metadata": {},
   "outputs": [
    {
     "name": "stdout",
     "output_type": "stream",
     "text": [
      "Succesful!!!\n"
     ]
    }
   ],
   "source": [
    "def sum_of_odds(n):\n",
    "    return sum(i for i in range(n + 1) if i % 2 != 0)\n",
    "\n",
    "print('Succesful!!!')"
   ]
  },
  {
   "cell_type": "markdown",
   "metadata": {},
   "source": [
    "### 15: Summing even numbers"
   ]
  },
  {
   "cell_type": "code",
   "execution_count": 49,
   "metadata": {},
   "outputs": [
    {
     "name": "stdout",
     "output_type": "stream",
     "text": [
      "Succesful!!!\n"
     ]
    }
   ],
   "source": [
    "def sum_of_even(n):\n",
    "    return sum(i for i in range(n + 1) if i % 2 == 0)\n",
    "\n",
    "print('Succesful!!!')"
   ]
  },
  {
   "cell_type": "markdown",
   "metadata": {},
   "source": [
    "### Exercise Level 2\n",
    "### 1: Function to count evens and odds in positive integer"
   ]
  },
  {
   "cell_type": "code",
   "execution_count": 50,
   "metadata": {},
   "outputs": [],
   "source": [
    "def evens_and_odds(num):\n",
    "    evens = sum(1 for digit in str(num) if int(digit) % 2 == 0)\n",
    "    odds = sum(1 for digit in str(num) if int(digit) % 2 != 0)\n",
    "    return f'Evens: {evens}, Odds: {odds}'"
   ]
  },
  {
   "cell_type": "markdown",
   "metadata": {},
   "source": [
    "### 2: Calculating factorial of a whole number"
   ]
  },
  {
   "cell_type": "code",
   "execution_count": 51,
   "metadata": {},
   "outputs": [
    {
     "name": "stdout",
     "output_type": "stream",
     "text": [
      "Succesful!!!\n"
     ]
    }
   ],
   "source": [
    "def factorial(n):\n",
    "    if n == 0 or n == 1:\n",
    "        return 1\n",
    "    else:\n",
    "        return n * factorial(n - 1)\n",
    "    \n",
    "print('Succesful!!!')"
   ]
  },
  {
   "cell_type": "markdown",
   "metadata": {},
   "source": [
    "### 3: Checking if a parameter is empty"
   ]
  },
  {
   "cell_type": "code",
   "execution_count": 52,
   "metadata": {},
   "outputs": [
    {
     "name": "stdout",
     "output_type": "stream",
     "text": [
      "Succesfully checked!\n"
     ]
    }
   ],
   "source": [
    "def is_empty(param):\n",
    "    return not bool(param)\n",
    "\n",
    "print('Succesfully checked!')"
   ]
  },
  {
   "cell_type": "markdown",
   "metadata": {},
   "source": [
    "### 4: Calculating statistical measures"
   ]
  },
  {
   "cell_type": "code",
   "execution_count": 53,
   "metadata": {},
   "outputs": [
    {
     "name": "stdout",
     "output_type": "stream",
     "text": [
      "Succesful!!!\n"
     ]
    }
   ],
   "source": [
    "def calculate_mean(nums):\n",
    "    return sum(nums) / len(nums) if nums else 0\n",
    "\n",
    "def calculate_median(nums):\n",
    "    sorted_nums = sorted(nums)\n",
    "    n = len(sorted_nums)\n",
    "    if n % 2 == 0:\n",
    "        return (sorted_nums[n // 2 - 1] + sorted_nums[n // 2]) / 2 \n",
    "    else:\n",
    "        return sorted_nums[n // 2]\n",
    "    \n",
    "def calculate_mode(nums):\n",
    "    from collections import Counter\n",
    "    count = Counter(nums)\n",
    "    max_count = max(count.values())\n",
    "    return [k for k, v in count.items() if v == max_count]\n",
    "\n",
    "def calculate_range(nums):\n",
    "    return max(nums) - min(nums) if nums else 0\n",
    "\n",
    "def calculate_variance(nums):\n",
    "    mean = calculate_mean(nums)\n",
    "    return calculate_mean([(x - mean) ** 2 for x in nums])\n",
    "\n",
    "def calculate_strdev(nums):\n",
    "    return calculate_variance(nums)\n",
    "\n",
    "print('Succesful!!!')"
   ]
  },
  {
   "cell_type": "markdown",
   "metadata": {},
   "source": [
    "### Exercise Level 3\n",
    "### Number 1: Checking if a number is prime"
   ]
  },
  {
   "cell_type": "code",
   "execution_count": 54,
   "metadata": {},
   "outputs": [
    {
     "name": "stdout",
     "output_type": "stream",
     "text": [
      "Succesful!!!\n"
     ]
    }
   ],
   "source": [
    "def is_prime(num):\n",
    "    if num <= 1:\n",
    "        return False\n",
    "    for i in range(2, int(num ** 0.5) + 1):\n",
    "        if num % 1 == 0:\n",
    "            return False\n",
    "    return True\n",
    "\n",
    "print('Succesful!!!')"
   ]
  },
  {
   "cell_type": "markdown",
   "metadata": {},
   "source": [
    "### 2: Checking if all items in a list are unique"
   ]
  },
  {
   "cell_type": "code",
   "execution_count": 55,
   "metadata": {},
   "outputs": [
    {
     "name": "stdout",
     "output_type": "stream",
     "text": [
      "Succesful!!!\n"
     ]
    }
   ],
   "source": [
    "def unique_items(my_list):\n",
    "    return len(my_list) == len(set(my_list))\n",
    "\n",
    "print('Succesful!!!')"
   ]
  },
  {
   "cell_type": "markdown",
   "metadata": {},
   "source": [
    "### 3: Checking if all items have same data type"
   ]
  },
  {
   "cell_type": "code",
   "execution_count": 56,
   "metadata": {},
   "outputs": [
    {
     "name": "stdout",
     "output_type": "stream",
     "text": [
      "Succesful!!!\n"
     ]
    }
   ],
   "source": [
    "def same_dt(my_list):\n",
    "    return all(isinstance(elem, type(my_list[0])) for elem in my_list)\n",
    "\n",
    "print('Succesful!!!')"
   ]
  },
  {
   "cell_type": "markdown",
   "metadata": {},
   "source": [
    "### 4: Checking if a variable is a Python file"
   ]
  },
  {
   "cell_type": "code",
   "execution_count": 57,
   "metadata": {},
   "outputs": [
    {
     "name": "stdout",
     "output_type": "stream",
     "text": [
      "../data/countries-data.py\n",
      "Succesful!!!\n"
     ]
    }
   ],
   "source": [
    "def py_file(var):\n",
    "    import re\n",
    "    return re.match(r'^[a-zA-Z_][a-zA-Z0-9_]*$', var) is not None\n",
    "\n",
    "var = '../data/countries-data.py'\n",
    "\n",
    "print(var)\n",
    "print('Succesful!!!')"
   ]
  },
  {
   "cell_type": "markdown",
   "metadata": {},
   "source": [
    "### 5i: Retreiving most spoken languages in the world "
   ]
  },
  {
   "cell_type": "code",
   "execution_count": 58,
   "metadata": {},
   "outputs": [
    {
     "ename": "SyntaxError",
     "evalue": "invalid syntax (952838877.py, line 4)",
     "output_type": "error",
     "traceback": [
      "\u001b[1;36m  Cell \u001b[1;32mIn[58], line 4\u001b[1;36m\u001b[0m\n\u001b[1;33m    sorted_langs = sorted(languages.items(), key=lambda x[1], reverse=True)[:count]\u001b[0m\n\u001b[1;37m                                                         ^\u001b[0m\n\u001b[1;31mSyntaxError\u001b[0m\u001b[1;31m:\u001b[0m invalid syntax\n"
     ]
    }
   ],
   "source": [
    "from var import languages\n",
    "\n",
    "def most_spoken_languages(count=10):\n",
    "    sorted_langs = sorted(languages.items(), key=lambda x[1], reverse=True)[:count]\n",
    "    return [lang[0] for lang in sorted_langs]\n"
   ]
  },
  {
   "cell_type": "markdown",
   "metadata": {},
   "source": [
    "### 5ii: Retreiving most populated countries in the world "
   ]
  },
  {
   "cell_type": "code",
   "execution_count": null,
   "metadata": {},
   "outputs": [],
   "source": [
    "from  countries_data.py import population\n",
    "\n",
    "def most_populated_countries(count=10):\n",
    "    sorted_countries = sorted(population.items(), key=lambda x: x[1], reverse=True)[:count]\n",
    "    return [country[0] for country in sorted_countries]\n"
   ]
  }
 ],
 "metadata": {
  "kernelspec": {
   "display_name": "Python 3",
   "language": "python",
   "name": "python3"
  },
  "language_info": {
   "codemirror_mode": {
    "name": "ipython",
    "version": 3
   },
   "file_extension": ".py",
   "mimetype": "text/x-python",
   "name": "python",
   "nbconvert_exporter": "python",
   "pygments_lexer": "ipython3",
   "version": "3.11.5"
  }
 },
 "nbformat": 4,
 "nbformat_minor": 2
}
