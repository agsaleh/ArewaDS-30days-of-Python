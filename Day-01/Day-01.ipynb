{
 "cells": [
  {
   "cell_type": "markdown",
   "metadata": {},
   "source": [
    "# Exercise 1\n",
    "\n",
    "## 1 "
   ]
  },
  {
   "cell_type": "code",
   "execution_count": null,
   "metadata": {},
   "outputs": [],
   "source": [
    "!python --version"
   ]
  },
  {
   "cell_type": "markdown",
   "metadata": {},
   "source": [
    "## 2 "
   ]
  },
  {
   "cell_type": "code",
   "execution_count": null,
   "metadata": {},
   "outputs": [],
   "source": [
    "print(3 + 4)   \n",
    "print(3 - 4)   \n",
    "print(3 * 4)   \n",
    "print(3 / 4)   \n",
    "print(3 ** 4)  \n",
    "print(3 % 4)   \n",
    "print(3 // 4)  \n"
   ]
  },
  {
   "cell_type": "markdown",
   "metadata": {},
   "source": [
    "## 3"
   ]
  },
  {
   "cell_type": "code",
   "execution_count": null,
   "metadata": {},
   "outputs": [],
   "source": [
    "print('Abubakar') \n",
    "print('Saleh')\n",
    "print('Nigeria')\n",
    "print('I am enjoying 30 days of python')"
   ]
  },
  {
   "cell_type": "markdown",
   "metadata": {},
   "source": [
    "## 4"
   ]
  },
  {
   "cell_type": "code",
   "execution_count": 1,
   "metadata": {},
   "outputs": [
    {
     "ename": "SyntaxError",
     "evalue": "invalid syntax (4178033084.py, line 6)",
     "output_type": "error",
     "traceback": [
      "\u001b[1;36m  Cell \u001b[1;32mIn[1], line 6\u001b[1;36m\u001b[0m\n\u001b[1;33m    print(type('name':'Abubakar'))\u001b[0m\n\u001b[1;37m                     ^\u001b[0m\n\u001b[1;31mSyntaxError\u001b[0m\u001b[1;31m:\u001b[0m invalid syntax\n"
     ]
    }
   ],
   "source": [
    "print(type(10))                 \n",
    "print(type(9.8))                \n",
    "print(type(3.14))              \n",
    "print(type(4 - 4j))          \n",
    "print(type(['Asabeneh', 'Python', 'Finland']))           \n",
    "print(type('name':'Abubakar')) \n",
    "print(type('family_name':'Saleh'))\n",
    "print(type('country':'Nigeria'))\n",
    "   \n"
   ]
  },
  {
   "cell_type": "markdown",
   "metadata": {},
   "source": [
    "# Exercise 2"
   ]
  },
  {
   "cell_type": "code",
   "execution_count": null,
   "metadata": {},
   "outputs": [],
   "source": [
    " {\n",
    "\n",
    "    'First_Name' :'Abubakar',\n",
    "    'Last_Name'  :'Saleh',\n",
    "    'Country'  :'Nigeria',\n",
    "    'Age'  :300,\n",
    "    'is_married' : True,\n",
    "    'Skills'  :['Python', 'Networking', 'IT Support', 'Data Analysis']\n",
    "}\n",
    "\n"
   ]
  }
 ],
 "metadata": {
  "kernelspec": {
   "display_name": "Python 3",
   "language": "python",
   "name": "python3"
  },
  "language_info": {
   "codemirror_mode": {
    "name": "ipython",
    "version": 3
   },
   "file_extension": ".py",
   "mimetype": "text/x-python",
   "name": "python",
   "nbconvert_exporter": "python",
   "pygments_lexer": "ipython3",
   "version": "3.11.5"
  }
 },
 "nbformat": 4,
 "nbformat_minor": 2
}
