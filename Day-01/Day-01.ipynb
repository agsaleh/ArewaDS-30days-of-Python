{
 "cells": [
  {
   "cell_type": "markdown",
   "metadata": {},
   "source": [
    "# Day 1 Exercises\n",
    "### Exercise Level 1\n",
    "### Number 1: "
   ]
  },
  {
   "cell_type": "code",
   "execution_count": 14,
   "metadata": {},
   "outputs": [
    {
     "name": "stdout",
     "output_type": "stream",
     "text": [
      "Python 3.11.5\n"
     ]
    }
   ],
   "source": [
    "!python --version"
   ]
  },
  {
   "cell_type": "markdown",
   "metadata": {},
   "source": [
    "### Number 2: "
   ]
  },
  {
   "cell_type": "code",
   "execution_count": 15,
   "metadata": {},
   "outputs": [
    {
     "name": "stdout",
     "output_type": "stream",
     "text": [
      "7\n",
      "-1\n",
      "12\n",
      "0.75\n",
      "81\n",
      "3\n",
      "0\n"
     ]
    }
   ],
   "source": [
    "print(3 + 4)   \n",
    "print(3 - 4)   \n",
    "print(3 * 4)   \n",
    "print(3 / 4)   \n",
    "print(3 ** 4)  \n",
    "print(3 % 4)   \n",
    "print(3 // 4)  \n"
   ]
  },
  {
   "cell_type": "markdown",
   "metadata": {},
   "source": [
    "### Number 3:"
   ]
  },
  {
   "cell_type": "code",
   "execution_count": 16,
   "metadata": {},
   "outputs": [
    {
     "name": "stdout",
     "output_type": "stream",
     "text": [
      "Abubakar\n",
      "Saleh\n",
      "Nigeria\n",
      "I am enjoying 30 days of python\n"
     ]
    }
   ],
   "source": [
    "print('Abubakar') \n",
    "print('Saleh')\n",
    "print('Nigeria')\n",
    "print('I am enjoying 30 days of python')"
   ]
  },
  {
   "cell_type": "markdown",
   "metadata": {},
   "source": [
    "### Number 4:"
   ]
  },
  {
   "cell_type": "code",
   "execution_count": 17,
   "metadata": {},
   "outputs": [
    {
     "name": "stdout",
     "output_type": "stream",
     "text": [
      "<class 'int'>\n",
      "<class 'float'>\n",
      "<class 'float'>\n",
      "<class 'complex'>\n",
      "<class 'list'>\n",
      "<class 'str'>\n",
      "<class 'str'>\n",
      "<class 'str'>\n"
     ]
    }
   ],
   "source": [
    "print(type(10))                 \n",
    "print(type(9.8))                \n",
    "print(type(3.14))              \n",
    "print(type(4 - 4j))          \n",
    "print(type(['Asabeneh', 'Python', 'Finland']))           \n",
    "print(type('name' 'Abubakar')) \n",
    "print(type('family_name' 'Saleh'))\n",
    "print(type('country' 'Nigeria'))\n",
    "   \n"
   ]
  },
  {
   "cell_type": "markdown",
   "metadata": {},
   "source": [
    "### Exercise Level 2\n",
    "### Number 1:"
   ]
  },
  {
   "cell_type": "code",
   "execution_count": 18,
   "metadata": {},
   "outputs": [
    {
     "data": {
      "text/plain": [
       "{'First_Name': 'Abubakar',\n",
       " 'Last_Name': 'Saleh',\n",
       " 'Country': 'Nigeria',\n",
       " 'Age': 300,\n",
       " 'is_married': True,\n",
       " 'Skills': ['Python', 'Networking', 'IT Support', 'Data Analysis']}"
      ]
     },
     "execution_count": 18,
     "metadata": {},
     "output_type": "execute_result"
    }
   ],
   "source": [
    " {\n",
    "\n",
    "    'First_Name' :'Abubakar',\n",
    "    'Last_Name'  :'Saleh',\n",
    "    'Country'  :'Nigeria',\n",
    "    'Age'  :300,\n",
    "    'is_married' : True,\n",
    "    'Skills'  :['Python', 'Networking', 'IT Support', 'Data Analysis']\n",
    "}\n"
   ]
  }
 ],
 "metadata": {
  "kernelspec": {
   "display_name": "Python 3",
   "language": "python",
   "name": "python3"
  },
  "language_info": {
   "codemirror_mode": {
    "name": "ipython",
    "version": 3
   },
   "file_extension": ".py",
   "mimetype": "text/x-python",
   "name": "python",
   "nbconvert_exporter": "python",
   "pygments_lexer": "ipython3",
   "version": "3.11.5"
  }
 },
 "nbformat": 4,
 "nbformat_minor": 2
}
