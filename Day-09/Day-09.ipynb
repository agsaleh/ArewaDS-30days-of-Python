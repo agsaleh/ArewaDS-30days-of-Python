{
 "cells": [
  {
   "cell_type": "markdown",
   "metadata": {},
   "source": [
    "# Day 9 Exercises\n",
    "\n",
    "### Exercise Level 1\n",
    "### Number 1: Checking if User is above or below 18"
   ]
  },
  {
   "cell_type": "code",
   "execution_count": null,
   "metadata": {},
   "outputs": [],
   "source": [
    "min_age = 18\n",
    "req_age = min_age - age\n",
    "\n",
    "age = int(input('Enter your age: '))\n",
    "if age >= min_age:\n",
    "    print('You are old enough to learn to drive.')\n",
    "else:\n",
    "\n",
    "    print('You need ', req_age, 'more years to learn to drive.')\n",
    "    "
   ]
  },
  {
   "cell_type": "markdown",
   "metadata": {},
   "source": [
    "### Number 2: Comparing the values of my_age and your_age using if … else. "
   ]
  },
  {
   "cell_type": "code",
   "execution_count": 137,
   "metadata": {},
   "outputs": [
    {
     "name": "stdout",
     "output_type": "stream",
     "text": [
      "You are 1 older than me\n",
      "You are 26  year older than me\n"
     ]
    }
   ],
   "source": [
    "my_age = 25\n",
    "your_age = int(input('Enter your age: '))\n",
    "years = your_age - my_age\n",
    "year = my_age + 1\n",
    "young_age = my_age - your_age\n",
    "\n",
    "if your_age > my_age:\n",
    "    print('You are',  years, 'older than me')\n",
    "    if your_age == year:\n",
    "        print('You are',  year, ' year older than me')\n",
    "    elif your_age == my_age:\n",
    "        print('We\\'re age mates!')\n",
    "else:\n",
    "    print('You are', young_age, ' years younger  than me')\n",
    "    \n",
    "\n",
    "      "
   ]
  },
  {
   "cell_type": "markdown",
   "metadata": {},
   "source": [
    "### Number 3: Getting and comparing two numbers from a user "
   ]
  },
  {
   "cell_type": "code",
   "execution_count": null,
   "metadata": {},
   "outputs": [],
   "source": [
    "A = int(input('Enter Number One: '))\n",
    "B = int(input('Enter Number Two: '))\n",
    "\n",
    "if A > B: print('A is greater than B')\n",
    "elif A > B: \n",
    "    \n",
    "    print('A is smaller than B')\n",
    "else:   print('A is equal to B')\n",
    "\n"
   ]
  },
  {
   "cell_type": "markdown",
   "metadata": {},
   "source": [
    "### Exercise Level 2\n",
    "\n",
    "### Number 1: Students grade"
   ]
  },
  {
   "cell_type": "code",
   "execution_count": null,
   "metadata": {},
   "outputs": [],
   "source": [
    "score = int(input('Enter your Score:'))\n",
    "\n",
    "if score >= 80 and score <= 100:\n",
    "    print('Your Grade is A')\n",
    "elif score >= 70 and score < 79:\n",
    "    print('Your Grade is B')\n",
    "elif score >= 60 and score < 69:\n",
    "    print('Your Grade is C')\n",
    "elif score >= 50 and score < 59:\n",
    "    print('Your Grade is D')\n",
    "else: \n",
    "    print('Your Grade is F')"
   ]
  },
  {
   "cell_type": "markdown",
   "metadata": {},
   "source": [
    "### Number 2: Checking Season"
   ]
  },
  {
   "cell_type": "code",
   "execution_count": null,
   "metadata": {},
   "outputs": [],
   "source": [
    "Autumn = ['September', 'October', 'November']\n",
    "Winter = ['December', 'January', 'February']\n",
    "Spring = ['March', 'April', 'May']\n",
    "Summer = ['June', 'July', 'August']\n",
    "\n",
    "month = input('Enter Month:')\n",
    "\n",
    "if month in Autumn:\n",
    "    print('The Season is Autumn')\n",
    "elif month in Winter:\n",
    "    print('The Season is Winter')\n",
    "elif month in Spring:\n",
    "    print('The Season is Spring')\n",
    "else:\n",
    "    print('The Season Summer')"
   ]
  },
  {
   "cell_type": "markdown",
   "metadata": {},
   "source": [
    "### Number 3: Checking for fruits"
   ]
  },
  {
   "cell_type": "code",
   "execution_count": null,
   "metadata": {},
   "outputs": [],
   "source": [
    "fruits = ['banana', 'orange', 'mango', 'lemon']\n",
    "check_fruits = input('Enter Fruit Name:')\n",
    "\n",
    "if check_fruits in fruits:\n",
    "    print('That fruit already exist in the list')\n",
    "else:\n",
    "    fruits.append(check_fruits)\n",
    "    print('Fruit', check_fruits, 'added!')\n",
    "    print(fruits)"
   ]
  },
  {
   "cell_type": "markdown",
   "metadata": {},
   "source": [
    "### Exercise Level 3\n",
    "\n",
    "### Number 1: Checking a dictionary"
   ]
  },
  {
   "cell_type": "code",
   "execution_count": null,
   "metadata": {},
   "outputs": [],
   "source": [
    "person = {\n",
    "'first_name': 'Abubakar',\n",
    "'last_name': 'Saleh',\n",
    "'age': 250,\n",
    "'country': 'Nigeria',\n",
    "'is_marred': False,\n",
    "'skills': ['JavaScript', 'React', 'Node', 'MongoDB', 'Python'],\n",
    "'address': {\n",
    "'street': 'Nassarawa street',\n",
    "'zipcode': '047211'\n",
    "}\n",
    "}\n",
    "input('Enter Skill')\n",
    "\n",
    "skills = person['skills']\n",
    "middle_skill = skills[len(skills) // 2]\n",
    "\n",
    "if 'skills' in person:\n",
    "    print(middle_skill)\n",
    "\n",
    "\n",
    "\n",
    "\n"
   ]
  },
  {
   "cell_type": "markdown",
   "metadata": {},
   "source": [
    "### Checking for python skills"
   ]
  },
  {
   "cell_type": "code",
   "execution_count": null,
   "metadata": {},
   "outputs": [],
   "source": [
    "if 'skills' in person:\n",
    "    python_skills = 'Python' in person['skills']\n",
    "    print(python_skills)\n",
    "\n"
   ]
  },
  {
   "cell_type": "markdown",
   "metadata": {},
   "source": [
    "### Checking for developer skills"
   ]
  },
  {
   "cell_type": "code",
   "execution_count": null,
   "metadata": {},
   "outputs": [],
   "source": [
    "\n",
    "\n",
    "if 'skills' in person:\n",
    "    skills = person['skills']\n",
    "    if skills == ['JavaScript', 'React']:\n",
    "        print('He is a front end developer')\n",
    "    elif set(['Node', 'Python', 'MongoDB']).issubset(set(skills)):\n",
    "        print('He is a backend developer')\n",
    "    elif set(['React', 'Node', 'MongoDB']).issubset(set(skills)):\n",
    "        print('He is a fullstack developer')\n",
    "    else:\n",
    "        print('Unknown title')\n"
   ]
  },
  {
   "cell_type": "markdown",
   "metadata": {},
   "source": [
    "### Checking if the person is married and lives in a specified country"
   ]
  },
  {
   "cell_type": "code",
   "execution_count": null,
   "metadata": {},
   "outputs": [],
   "source": [
    "if person.get('is_married') and person.get('country') == 'Nigeria':\n",
    "    print(f\"{person['first_name']} {person['last_name']} lives in {person['country']}. He is married.\")\n",
    "else: \n",
    "    print(f\"{person['first_name']} {person['last_name']} is not married.\")"
   ]
  }
 ],
 "metadata": {
  "kernelspec": {
   "display_name": "Python 3",
   "language": "python",
   "name": "python3"
  },
  "language_info": {
   "codemirror_mode": {
    "name": "ipython",
    "version": 3
   },
   "file_extension": ".py",
   "mimetype": "text/x-python",
   "name": "python",
   "nbconvert_exporter": "python",
   "pygments_lexer": "ipython3",
   "version": "3.11.5"
  }
 },
 "nbformat": 4,
 "nbformat_minor": 2
}
