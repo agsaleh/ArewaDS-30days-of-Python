{
 "cells": [
  {
   "cell_type": "markdown",
   "metadata": {},
   "source": [
    "# Day 18 Exercises\n",
    "### Exercise Level 1\n",
    "### Number 1: Most frequent word"
   ]
  },
  {
   "cell_type": "code",
   "execution_count": 1,
   "metadata": {},
   "outputs": [
    {
     "name": "stdout",
     "output_type": "stream",
     "text": [
      "The most common word in the paragraph is: ('you', 5)\n"
     ]
    }
   ],
   "source": [
    "from collections import Counter\n",
    "\n",
    "paragraph = 'I love teaching. If you do not love teaching what else can you love. I love Python if you do not love something which can give you all the capabilities to develop an application what else can you love.'\n",
    "\n",
    "\n",
    "word_count = Counter(paragraph.split())\n",
    "most_common_word = max(word_count.items(), key=lambda x: x[1])\n",
    "\n",
    "print('The most common word in the paragraph is:', most_common_word)\n"
   ]
  },
  {
   "cell_type": "markdown",
   "metadata": {},
   "source": [
    "### Number 2: Finding the distance between two furthest particle"
   ]
  },
  {
   "cell_type": "code",
   "execution_count": 2,
   "metadata": {},
   "outputs": [
    {
     "name": "stdout",
     "output_type": "stream",
     "text": [
      "The distance is: 20\n"
     ]
    }
   ],
   "source": [
    "points = ['-12', '-4', '-3', '-1', '0', '4', '8']\n",
    "\n",
    "sorted_points = sorted(map(int, points))\n",
    "distance = sorted_points[-1] - sorted_points[0]\n",
    "\n",
    "print('The distance is:', distance)\n"
   ]
  },
  {
   "cell_type": "markdown",
   "metadata": {},
   "source": [
    "### Exercise Level 2\n",
    "### Number 1: Pattern identifying a valid Python variable"
   ]
  },
  {
   "cell_type": "code",
   "execution_count": 3,
   "metadata": {},
   "outputs": [
    {
     "name": "stdout",
     "output_type": "stream",
     "text": [
      "A1 is a valid variable name.\n"
     ]
    }
   ],
   "source": [
    "import re\n",
    "\n",
    "def is_valid_variable(variable):\n",
    "    return bool(re.match(r'^[a-zA-Z_]\\w*$', variable))\n",
    "\n",
    "string = input('Enter Var Name')\n",
    "result = is_valid_variable(string)\n",
    "\n",
    "if result:\n",
    "    print(f'{string} is a valid variable name.')\n",
    "\n",
    "else:\n",
    "    print(f'{string} is not a valid variable name.')"
   ]
  },
  {
   "cell_type": "markdown",
   "metadata": {},
   "source": [
    "### Exercise Level 3\n",
    "### Number 1: Finding three most frequent words in a string"
   ]
  },
  {
   "cell_type": "code",
   "execution_count": 4,
   "metadata": {},
   "outputs": [
    {
     "name": "stdout",
     "output_type": "stream",
     "text": [
      "i am a teacher and i love teaching there is nothing as more rewarding as educating and empowering people i found teaching more interesting than any other jobs does this motivate you to be a teacher\n",
      "The three most frequent words are: [('i', 3), ('a', 2), ('teacher', 2)]\n"
     ]
    }
   ],
   "source": [
    "sentence = '''%I $am@% a %tea@cher%, &and& I lo%#ve %tea@ching%;. There $is nothing; &as& mo@re rewarding as educa@ting &and& @emp%o@wering peo@ple. ;I found tea@ching m%o@re interesting tha@n any other %jo@bs. %Do@es thi%s mo@tivate yo@u to be a tea@cher!?'''\n",
    "\n",
    "def clean_text(text):\n",
    "    cleaned_text = re.sub(r'[^a-zA-Z\\s]', '', text)\n",
    "    return ' '.join(cleaned_text.split()).lower()\n",
    "\n",
    "cleaned_text = clean_text(sentence)\n",
    "word_count = Counter(cleaned_text.split())\n",
    "most_frequent_words = word_count.most_common(3)\n",
    "\n",
    "print(cleaned_text)\n",
    "print(f'The three most frequent words are: {most_frequent_words}')\n"
   ]
  }
 ],
 "metadata": {
  "kernelspec": {
   "display_name": "Python 3",
   "language": "python",
   "name": "python3"
  },
  "language_info": {
   "codemirror_mode": {
    "name": "ipython",
    "version": 3
   },
   "file_extension": ".py",
   "mimetype": "text/x-python",
   "name": "python",
   "nbconvert_exporter": "python",
   "pygments_lexer": "ipython3",
   "version": "3.11.5"
  }
 },
 "nbformat": 4,
 "nbformat_minor": 2
}
