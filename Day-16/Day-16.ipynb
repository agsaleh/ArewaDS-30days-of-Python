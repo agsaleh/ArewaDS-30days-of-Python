{
 "cells": [
  {
   "cell_type": "markdown",
   "metadata": {},
   "source": [
    "# Day 16 Exercises\n",
    "### 1: Getting current date, and timestamp"
   ]
  },
  {
   "cell_type": "code",
   "execution_count": null,
   "metadata": {},
   "outputs": [],
   "source": [
    "from datetime import datetime\n",
    "\n",
    "current_date = datetime.now()\n",
    "current_day = current_date.day\n",
    "current_month = current_date.month\n",
    "current_year = current_date.year\n",
    "current_hour = current_date.hour\n",
    "current_minute = current_date.minute\n",
    "current_timestamp = current_date.timestamp()\n",
    "\n",
    "print(f'{current_date}')\n",
    "print(current_hour, ':', current_minute)\n",
    "print(current_timestamp)"
   ]
  },
  {
   "cell_type": "markdown",
   "metadata": {},
   "source": [
    "### 2: Formatting the current date"
   ]
  },
  {
   "cell_type": "code",
   "execution_count": null,
   "metadata": {},
   "outputs": [],
   "source": [
    "\n",
    "formatted_date = current_date.strftime(\"%m/%d/%Y, %H:%M:%S\")\n",
    "\n",
    "print(formatted_date)"
   ]
  },
  {
   "cell_type": "markdown",
   "metadata": {},
   "source": [
    "### 3: Changing time string to time"
   ]
  },
  {
   "cell_type": "code",
   "execution_count": null,
   "metadata": {},
   "outputs": [],
   "source": [
    "time_string = \"5 December, 2019\"\n",
    "converted_time = datetime.strptime(time_string, \"%d %B, %Y\")\n",
    "\n",
    "print(converted_time)"
   ]
  },
  {
   "cell_type": "markdown",
   "metadata": {},
   "source": [
    "### 4: Calculating the time between now and new year"
   ]
  },
  {
   "cell_type": "code",
   "execution_count": null,
   "metadata": {},
   "outputs": [],
   "source": [
    "from datetime import timedelta\n",
    "\n",
    "new_year = datetime(current_year + 1, 1, 1)\n",
    "time_until_new_year = new_year - current_date\n",
    "\n",
    "print('Time until new year is:', time_until_new_year)"
   ]
  },
  {
   "cell_type": "markdown",
   "metadata": {},
   "source": [
    "### 5: Calculating the time between 1st Jan. 1970 and now"
   ]
  },
  {
   "cell_type": "code",
   "execution_count": null,
   "metadata": {},
   "outputs": [],
   "source": [
    "since_1970 = current_date - datetime(1970, 1, 1)\n",
    "\n",
    "print('Time since 1970 is:',since_1970)"
   ]
  },
  {
   "cell_type": "markdown",
   "metadata": {},
   "source": [
    "### 6: Uses of datetime module"
   ]
  },
  {
   "cell_type": "markdown",
   "metadata": {},
   "source": [
    "## A: Timeseries\n",
    "The _datetime_ module which facilitates time series analysis serves various purposes in data analysis, such as analysing data, stock prices, weather, patterns, etc.\n",
    "## B: Timestamp\n",
    "To get a timestamp of any activity in an application we can use the _datetime.now()_ \n",
    "## C: Adding post on ablog\n",
    "To add a post on a blog, the _datetime_ is used"
   ]
  }
 ],
 "metadata": {
  "kernelspec": {
   "display_name": "Python 3",
   "language": "python",
   "name": "python3"
  },
  "language_info": {
   "codemirror_mode": {
    "name": "ipython",
    "version": 3
   },
   "file_extension": ".py",
   "mimetype": "text/x-python",
   "name": "python",
   "nbconvert_exporter": "python",
   "pygments_lexer": "ipython3",
   "version": "3.11.5"
  }
 },
 "nbformat": 4,
 "nbformat_minor": 2
}
