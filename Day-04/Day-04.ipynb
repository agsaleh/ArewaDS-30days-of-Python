{
 "cells": [
  {
   "cell_type": "markdown",
   "metadata": {},
   "source": [
    "# Day 4 Exercises\n",
    "\n",
    "### Exercise 1 -14"
   ]
  },
  {
   "cell_type": "code",
   "execution_count": null,
   "metadata": {},
   "outputs": [],
   "source": [
    "#Exercise 1\n",
    "\n",
    "a = 'Thirty ' \n",
    "b = 'Days '\n",
    "c = 'Of '\n",
    "d = 'Python'\n",
    "\n",
    "all = a + b + c + d\n",
    "print(all)\n",
    "\n",
    "#Exercise 2\n",
    "\n",
    "e = 'Coding '\n",
    "f = 'For '\n",
    "g = 'All'\n",
    "\n",
    "#Exercise 3-4\n",
    "\n",
    "company = e + f + g\n",
    "print(company)\n",
    "\n",
    "#Exercise 5\n",
    "print(len(company))\n",
    "#Exercise 6\n",
    "print(company.upper())\n",
    "#Exercise 7\n",
    "print(company.lower())\n",
    "#Exercise 8\n",
    "print(company.capitalize())\n",
    "print(company.title())\n",
    "print(company.swapcase())\n",
    "#Exercise 9\n",
    "print(company[7:])\n",
    "#Exercise 10\n",
    "print(company.find('Coding'))\n",
    "#Exercise 11\n",
    "print(company.replace('Coding ', 'Python '))\n",
    "#Exercise 12\n",
    "print(company.replace(company, 'Python For Everyone'))\n",
    "#Exercise 13\n",
    "print(company.split())\n",
    "#Exercise 14\n",
    "#Exercise 15\n",
    "print(company[0])\n",
    "#Exercise 16\n",
    "print(company[-1])\n",
    "#Exercise 15\n",
    "print(company[10])\n",
    "\n",
    "#Exercise 20\n",
    "print(company.find('C'))\n",
    "#Exercise 21\n",
    "print(company.find('F'))\n",
    "#Exercise 22\n",
    "print(company.rfind('I'))\n"
   ]
  },
  {
   "cell_type": "markdown",
   "metadata": {},
   "source": [
    "### Exercise 23-27"
   ]
  },
  {
   "cell_type": "code",
   "execution_count": 97,
   "metadata": {},
   "outputs": [
    {
     "name": "stdout",
     "output_type": "stream",
     "text": [
      "31\n",
      "47\n",
      " because because because \n"
     ]
    }
   ],
   "source": [
    "sentence = 'You cannot end a sentence with because because because is a conjunction'\n",
    "\n",
    "print(sentence.index('because'))\n",
    "\n",
    "print(sentence.rfind('because'))\n",
    "\n",
    "#print(sentence.index + sentence.rfind + len())\n",
    "\n",
    "print(sentence[30:55])"
   ]
  },
  {
   "cell_type": "code",
   "execution_count": null,
   "metadata": {},
   "outputs": [],
   "source": [
    "# Exercise 32\n",
    "a = 'I am enjoying this challenge.\\n I just wonder what is next.'\n",
    "print(a)"
   ]
  },
  {
   "cell_type": "markdown",
   "metadata": {},
   "source": [
    "### Exercise 34"
   ]
  },
  {
   "cell_type": "code",
   "execution_count": null,
   "metadata": {},
   "outputs": [],
   "source": [
    "a = 'Name\\t Age\\t Country\\t City'\n",
    "b = 'Asabe\\t 250\\t Finland\\t Helsinki'\n",
    "\n",
    "print(a.expandtabs())\n",
    "print(b.expandtabs())"
   ]
  },
  {
   "cell_type": "markdown",
   "metadata": {},
   "source": [
    "### Exercise 35"
   ]
  },
  {
   "cell_type": "code",
   "execution_count": null,
   "metadata": {},
   "outputs": [],
   "source": [
    "radius = 10\n",
    "pi = 3.14\n",
    "area = pi * radius ** 2\n",
    "result = f'The area of a circle with radius {radius} is {area} meters square.'\n",
    "print(result) "
   ]
  },
  {
   "cell_type": "markdown",
   "metadata": {},
   "source": [
    "### Exercise 36"
   ]
  },
  {
   "cell_type": "code",
   "execution_count": null,
   "metadata": {},
   "outputs": [],
   "source": [
    "strings = f'8 + 6 = {8 + 6}\\n 8 - 6 = {8 - 6}\\n 8 * 6 = {8 * 6}\\n 8 / 6 = {8 / 6}\\n 8 % 6 = {8 % 6}\\n 8 // 6 = {8 // 6}\\n 8 ** 6 = {8 ** 6}'\n",
    "\n",
    "print(strings)"
   ]
  }
 ],
 "metadata": {
  "kernelspec": {
   "display_name": "Python 3",
   "language": "python",
   "name": "python3"
  },
  "language_info": {
   "codemirror_mode": {
    "name": "ipython",
    "version": 3
   },
   "file_extension": ".py",
   "mimetype": "text/x-python",
   "name": "python",
   "nbconvert_exporter": "python",
   "pygments_lexer": "ipython3",
   "version": "3.11.5"
  }
 },
 "nbformat": 4,
 "nbformat_minor": 2
}
