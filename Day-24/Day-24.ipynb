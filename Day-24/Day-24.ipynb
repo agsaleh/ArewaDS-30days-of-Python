{
 "cells": [
  {
   "cell_type": "markdown",
   "metadata": {},
   "source": [
    "# Day 24 Exercises\n",
    "\n",
    "### 1: Checking numpy version"
   ]
  },
  {
   "cell_type": "code",
   "execution_count": 1,
   "metadata": {},
   "outputs": [
    {
     "name": "stdout",
     "output_type": "stream",
     "text": [
      "numpy: 1.26.2\n",
      "['ALLOW_THREADS', 'BUFSIZE', 'CLIP', 'DataSource', 'ERR_CALL', 'ERR_DEFAULT', 'ERR_IGNORE', 'ERR_LOG', 'ERR_PRINT', 'ERR_RAISE', 'ERR_WARN', 'FLOATING_POINT_SUPPORT', 'FPE_DIVIDEBYZERO', 'FPE_INVALID', 'FPE_OVERFLOW', 'FPE_UNDERFLOW', 'False_', 'Inf', 'Infinity', 'MAXDIMS', 'MAY_SHARE_BOUNDS', 'MAY_SHARE_EXACT', 'NAN', 'NINF', 'NZERO', 'NaN', 'PINF', 'PZERO', 'RAISE', 'RankWarning', 'SHIFT_DIVIDEBYZERO', 'SHIFT_INVALID', 'SHIFT_OVERFLOW', 'SHIFT_UNDERFLOW', 'ScalarType', 'True_', 'UFUNC_BUFSIZE_DEFAULT', 'UFUNC_PYVALS_NAME', 'WRAP', '_CopyMode', '_NoValue', '_UFUNC_API', '__NUMPY_SETUP__', '__all__', '__builtins__', '__cached__', '__config__', '__deprecated_attrs__', '__dir__', '__doc__', '__expired_functions__', '__file__', '__former_attrs__', '__future_scalars__', '__getattr__', '__loader__', '__name__', '__package__', '__path__', '__spec__', '__version__', '_add_newdoc_ufunc', '_builtins', '_distributor_init', '_financial_names', '_get_promotion_state', '_globals', '_int_extended_msg', '_mat', '_no_nep50_warning', '_pyinstaller_hooks_dir', '_pytesttester', '_set_promotion_state', '_specific_msg', '_typing', '_using_numpy2_behavior', '_utils', 'abs', 'absolute', 'add', 'add_docstring', 'add_newdoc', 'add_newdoc_ufunc', 'all', 'allclose', 'alltrue', 'amax', 'amin', 'angle', 'any', 'append', 'apply_along_axis', 'apply_over_axes', 'arange', 'arccos', 'arccosh', 'arcsin', 'arcsinh', 'arctan', 'arctan2', 'arctanh', 'argmax', 'argmin', 'argpartition', 'argsort', 'argwhere', 'around', 'array', 'array2string', 'array_equal', 'array_equiv', 'array_repr', 'array_split', 'array_str', 'asanyarray', 'asarray', 'asarray_chkfinite', 'ascontiguousarray', 'asfarray', 'asfortranarray', 'asmatrix', 'atleast_1d', 'atleast_2d', 'atleast_3d', 'average', 'bartlett', 'base_repr', 'binary_repr', 'bincount', 'bitwise_and', 'bitwise_not', 'bitwise_or', 'bitwise_xor', 'blackman', 'block', 'bmat', 'bool_', 'broadcast', 'broadcast_arrays', 'broadcast_shapes', 'broadcast_to', 'busday_count', 'busday_offset', 'busdaycalendar', 'byte', 'byte_bounds', 'bytes_', 'c_', 'can_cast', 'cast', 'cbrt', 'cdouble', 'ceil', 'cfloat', 'char', 'character', 'chararray', 'choose', 'clip', 'clongdouble', 'clongfloat', 'column_stack', 'common_type', 'compare_chararrays', 'compat', 'complex128', 'complex64', 'complex_', 'complexfloating', 'compress', 'concatenate', 'conj', 'conjugate', 'convolve', 'copy', 'copysign', 'copyto', 'corrcoef', 'correlate', 'cos', 'cosh', 'count_nonzero', 'cov', 'cross', 'csingle', 'ctypeslib', 'cumprod', 'cumproduct', 'cumsum', 'datetime64', 'datetime_as_string', 'datetime_data', 'deg2rad', 'degrees', 'delete', 'deprecate', 'deprecate_with_doc', 'diag', 'diag_indices', 'diag_indices_from', 'diagflat', 'diagonal', 'diff', 'digitize', 'disp', 'divide', 'divmod', 'dot', 'double', 'dsplit', 'dstack', 'dtype', 'dtypes', 'e', 'ediff1d', 'einsum', 'einsum_path', 'emath', 'empty', 'empty_like', 'equal', 'errstate', 'euler_gamma', 'exceptions', 'exp', 'exp2', 'expand_dims', 'expm1', 'extract', 'eye', 'fabs', 'fastCopyAndTranspose', 'fft', 'fill_diagonal', 'find_common_type', 'finfo', 'fix', 'flatiter', 'flatnonzero', 'flexible', 'flip', 'fliplr', 'flipud', 'float16', 'float32', 'float64', 'float_', 'float_power', 'floating', 'floor', 'floor_divide', 'fmax', 'fmin', 'fmod', 'format_float_positional', 'format_float_scientific', 'format_parser', 'frexp', 'from_dlpack', 'frombuffer', 'fromfile', 'fromfunction', 'fromiter', 'frompyfunc', 'fromregex', 'fromstring', 'full', 'full_like', 'gcd', 'generic', 'genfromtxt', 'geomspace', 'get_array_wrap', 'get_include', 'get_printoptions', 'getbufsize', 'geterr', 'geterrcall', 'geterrobj', 'gradient', 'greater', 'greater_equal', 'half', 'hamming', 'hanning', 'heaviside', 'histogram', 'histogram2d', 'histogram_bin_edges', 'histogramdd', 'hsplit', 'hstack', 'hypot', 'i0', 'identity', 'iinfo', 'imag', 'in1d', 'index_exp', 'indices', 'inexact', 'inf', 'info', 'infty', 'inner', 'insert', 'int16', 'int32', 'int64', 'int8', 'int_', 'intc', 'integer', 'interp', 'intersect1d', 'intp', 'invert', 'is_busday', 'isclose', 'iscomplex', 'iscomplexobj', 'isfinite', 'isfortran', 'isin', 'isinf', 'isnan', 'isnat', 'isneginf', 'isposinf', 'isreal', 'isrealobj', 'isscalar', 'issctype', 'issubclass_', 'issubdtype', 'issubsctype', 'iterable', 'ix_', 'kaiser', 'kron', 'lcm', 'ldexp', 'left_shift', 'less', 'less_equal', 'lexsort', 'lib', 'linalg', 'linspace', 'little_endian', 'load', 'loadtxt', 'log', 'log10', 'log1p', 'log2', 'logaddexp', 'logaddexp2', 'logical_and', 'logical_not', 'logical_or', 'logical_xor', 'logspace', 'longcomplex', 'longdouble', 'longfloat', 'longlong', 'lookfor', 'ma', 'mask_indices', 'mat', 'matmul', 'matrix', 'max', 'maximum', 'maximum_sctype', 'may_share_memory', 'mean', 'median', 'memmap', 'meshgrid', 'mgrid', 'min', 'min_scalar_type', 'minimum', 'mintypecode', 'mod', 'modf', 'moveaxis', 'msort', 'multiply', 'nan', 'nan_to_num', 'nanargmax', 'nanargmin', 'nancumprod', 'nancumsum', 'nanmax', 'nanmean', 'nanmedian', 'nanmin', 'nanpercentile', 'nanprod', 'nanquantile', 'nanstd', 'nansum', 'nanvar', 'nbytes', 'ndarray', 'ndenumerate', 'ndim', 'ndindex', 'nditer', 'negative', 'nested_iters', 'newaxis', 'nextafter', 'nonzero', 'not_equal', 'numarray', 'number', 'obj2sctype', 'object_', 'ogrid', 'oldnumeric', 'ones', 'ones_like', 'outer', 'packbits', 'pad', 'partition', 'percentile', 'pi', 'piecewise', 'place', 'poly', 'poly1d', 'polyadd', 'polyder', 'polydiv', 'polyfit', 'polyint', 'polymul', 'polynomial', 'polysub', 'polyval', 'positive', 'power', 'printoptions', 'prod', 'product', 'promote_types', 'ptp', 'put', 'put_along_axis', 'putmask', 'quantile', 'r_', 'rad2deg', 'radians', 'random', 'ravel', 'ravel_multi_index', 'real', 'real_if_close', 'rec', 'recarray', 'recfromcsv', 'recfromtxt', 'reciprocal', 'record', 'remainder', 'repeat', 'require', 'reshape', 'resize', 'result_type', 'right_shift', 'rint', 'roll', 'rollaxis', 'roots', 'rot90', 'round', 'round_', 'row_stack', 's_', 'safe_eval', 'save', 'savetxt', 'savez', 'savez_compressed', 'sctype2char', 'sctypeDict', 'sctypes', 'searchsorted', 'select', 'set_numeric_ops', 'set_printoptions', 'set_string_function', 'setbufsize', 'setdiff1d', 'seterr', 'seterrcall', 'seterrobj', 'setxor1d', 'shape', 'shares_memory', 'short', 'show_config', 'show_runtime', 'sign', 'signbit', 'signedinteger', 'sin', 'sinc', 'single', 'singlecomplex', 'sinh', 'size', 'sometrue', 'sort', 'sort_complex', 'source', 'spacing', 'split', 'sqrt', 'square', 'squeeze', 'stack', 'std', 'str_', 'string_', 'subtract', 'sum', 'swapaxes', 'take', 'take_along_axis', 'tan', 'tanh', 'tensordot', 'test', 'testing', 'tile', 'timedelta64', 'trace', 'tracemalloc_domain', 'transpose', 'trapz', 'tri', 'tril', 'tril_indices', 'tril_indices_from', 'trim_zeros', 'triu', 'triu_indices', 'triu_indices_from', 'true_divide', 'trunc', 'typecodes', 'typename', 'ubyte', 'ufunc', 'uint', 'uint16', 'uint32', 'uint64', 'uint8', 'uintc', 'uintp', 'ulonglong', 'unicode_', 'union1d', 'unique', 'unpackbits', 'unravel_index', 'unsignedinteger', 'unwrap', 'ushort', 'vander', 'var', 'vdot', 'vectorize', 'version', 'void', 'vsplit', 'vstack', 'where', 'who', 'zeros', 'zeros_like']\n"
     ]
    }
   ],
   "source": [
    "import numpy as np\n",
    "    # How to check the version of the numpy package\n",
    "print('numpy:', np.__version__)\n",
    "    # Checking the available methods\n",
    "print(dir(np))"
   ]
  },
  {
   "cell_type": "markdown",
   "metadata": {},
   "source": [
    "### 2: Creating numpy array"
   ]
  },
  {
   "cell_type": "code",
   "execution_count": 2,
   "metadata": {},
   "outputs": [
    {
     "name": "stdout",
     "output_type": "stream",
     "text": [
      "Type: <class 'list'>\n",
      "[1, 2, 3, 4, 5]\n",
      "[[0, 1, 2], [3, 4, 5], [6, 7, 8]]\n",
      "<class 'numpy.ndarray'>\n",
      "[1 2 3 4 5]\n"
     ]
    }
   ],
   "source": [
    "# Creating python List\n",
    "python_list = [1,2,3,4,5]\n",
    "\n",
    "    # Checking data types\n",
    "print('Type:', type (python_list)) # <class 'list'>\n",
    "    #\n",
    "print(python_list) # [1, 2, 3, 4, 5]\n",
    "\n",
    "two_dimensional_list = [[0,1,2], [3,4,5], [6,7,8]]\n",
    "\n",
    "print(two_dimensional_list)  # [[0, 1, 2], [3, 4, 5], [6, 7, 8]]\n",
    "\n",
    "    # Creating Numpy(Numerical Python) array from python list\n",
    "\n",
    "numpy_array_from_list = np.array(python_list)\n",
    "print(type (numpy_array_from_list))   # <class 'numpy.ndarray'>\n",
    "print(numpy_array_from_list) # array([1, 2, 3, 4, 5])"
   ]
  },
  {
   "cell_type": "markdown",
   "metadata": {},
   "source": [
    "### 3: Creating float numpy arrays"
   ]
  },
  {
   "cell_type": "code",
   "execution_count": 3,
   "metadata": {},
   "outputs": [
    {
     "name": "stdout",
     "output_type": "stream",
     "text": [
      "[1. 2. 3. 4. 5.]\n"
     ]
    }
   ],
   "source": [
    "# Python list\n",
    "python_list = [1,2,3,4,5]\n",
    "\n",
    "numy_array_from_list2 = np.array(python_list, dtype=float)\n",
    "\n",
    "print(numy_array_from_list2) # array([1., 2., 3., 4., 5.])\n"
   ]
  },
  {
   "cell_type": "markdown",
   "metadata": {},
   "source": [
    "### 4: Creating boolean numpy arrays, and multidimensional array using numpy"
   ]
  },
  {
   "cell_type": "code",
   "execution_count": 4,
   "metadata": {},
   "outputs": [
    {
     "name": "stdout",
     "output_type": "stream",
     "text": [
      "[False  True  True False False]\n",
      "<class 'numpy.ndarray'>\n",
      "[[0 1 2]\n",
      " [3 4 5]\n",
      " [6 7 8]]\n"
     ]
    }
   ],
   "source": [
    "\n",
    "numpy_bool_array = np.array([0, 1, -1, 0, 0], dtype=bool)\n",
    "\n",
    "print(numpy_bool_array) # array([False,  True,  True, False, False])\n",
    "\n",
    "\n",
    "two_dimensional_list = [[0,1,2], [3,4,5], [6,7,8]]\n",
    "numpy_two_dimensional_list = np.array(two_dimensional_list)\n",
    "print(type (numpy_two_dimensional_list))\n",
    "print(numpy_two_dimensional_list)\n"
   ]
  },
  {
   "cell_type": "markdown",
   "metadata": {},
   "source": [
    "### 5: Converting numpy array to list"
   ]
  },
  {
   "cell_type": "code",
   "execution_count": 5,
   "metadata": {},
   "outputs": [
    {
     "name": "stdout",
     "output_type": "stream",
     "text": [
      "<class 'list'>\n",
      "one dimensional array: [1, 2, 3, 4, 5]\n",
      "two dimensional array:  [[0, 1, 2], [3, 4, 5], [6, 7, 8]]\n"
     ]
    }
   ],
   "source": [
    "np_to_list = numpy_array_from_list.tolist()\n",
    "print(type (np_to_list))\n",
    "print('one dimensional array:', np_to_list)\n",
    "print('two dimensional array: ', numpy_two_dimensional_list.tolist())"
   ]
  },
  {
   "cell_type": "markdown",
   "metadata": {},
   "source": [
    "### 6: Creating numpy array from tuple"
   ]
  },
  {
   "cell_type": "code",
   "execution_count": 6,
   "metadata": {},
   "outputs": [
    {
     "name": "stdout",
     "output_type": "stream",
     "text": [
      "<class 'tuple'>\n",
      "python_tuple:  (1, 2, 3, 4, 5)\n",
      "<class 'numpy.ndarray'>\n",
      "numpy_array_from_tuple:  [1 2 3 4 5]\n"
     ]
    }
   ],
   "source": [
    "python_tuple = (1,2,3,4,5)\n",
    "print(type (python_tuple)) \n",
    "print('python_tuple: ', python_tuple) \n",
    "\n",
    "numpy_array_from_tuple = np.array(python_tuple)\n",
    "print(type (numpy_array_from_tuple)) \n",
    "print('numpy_array_from_tuple: ', numpy_array_from_tuple) "
   ]
  },
  {
   "cell_type": "markdown",
   "metadata": {},
   "source": [
    "### 7: Shape of numpy array"
   ]
  },
  {
   "cell_type": "code",
   "execution_count": 7,
   "metadata": {},
   "outputs": [
    {
     "name": "stdout",
     "output_type": "stream",
     "text": [
      "[1 2 3 4 5]\n",
      "shape of nums:  (5,)\n",
      "[[0 1 2]\n",
      " [3 4 5]\n",
      " [6 7 8]]\n",
      "shape of numpy_two_dimensional_list:  (3, 3)\n",
      "(3, 4)\n"
     ]
    }
   ],
   "source": [
    "nums = np.array([1, 2, 3, 4, 5])\n",
    "\n",
    "print(nums)\n",
    "print('shape of nums: ', nums.shape)\n",
    "print(numpy_two_dimensional_list)\n",
    "print('shape of numpy_two_dimensional_list: ', numpy_two_dimensional_list.shape)\n",
    "\n",
    "three_by_four_array = np.array([[0, 1, 2, 3],\n",
    "[4,5,6,7],\n",
    "[8,9,10, 11]])\n",
    "\n",
    "print(three_by_four_array.shape)"
   ]
  },
  {
   "cell_type": "markdown",
   "metadata": {},
   "source": [
    "### 8: Data type of numpy array"
   ]
  },
  {
   "cell_type": "code",
   "execution_count": 8,
   "metadata": {},
   "outputs": [
    {
     "name": "stdout",
     "output_type": "stream",
     "text": [
      "[-3 -2 -1  0  1  2  3]\n",
      "int32\n",
      "[-3. -2. -1.  0.  1.  2.  3.]\n",
      "float64\n"
     ]
    }
   ],
   "source": [
    "int_lists = [-3, -2, -1, 0, 1, 2,3]\n",
    "int_array = np.array(int_lists)\n",
    "float_array = np.array(int_lists, dtype=float)\n",
    "\n",
    "print(int_array)\n",
    "print(int_array.dtype)\n",
    "print(float_array)\n",
    "print(float_array.dtype)"
   ]
  },
  {
   "cell_type": "markdown",
   "metadata": {},
   "source": [
    "### 9: Size of a numpy array"
   ]
  },
  {
   "cell_type": "code",
   "execution_count": 9,
   "metadata": {},
   "outputs": [
    {
     "name": "stdout",
     "output_type": "stream",
     "text": [
      "The size: 5\n",
      "The size: 9\n"
     ]
    }
   ],
   "source": [
    "numpy_array_from_list = np.array([1, 2, 3, 4, 5])\n",
    "two_dimensional_list = np.array([[0, 1, 2],\n",
    "                              [3, 4, 5],\n",
    "                              [6, 7, 8]])\n",
    "\n",
    "print('The size:', numpy_array_from_list.size) \n",
    "print('The size:', two_dimensional_list.size) "
   ]
  },
  {
   "cell_type": "markdown",
   "metadata": {},
   "source": [
    "## Mathematical Operation using numpy\n",
    "### 11: Addition"
   ]
  },
  {
   "cell_type": "code",
   "execution_count": 10,
   "metadata": {},
   "outputs": [
    {
     "name": "stdout",
     "output_type": "stream",
     "text": [
      "original array:  [1 2 3 4 5]\n",
      "[11 12 13 14 15]\n"
     ]
    }
   ],
   "source": [
    "numpy_array_from_list = np.array([1, 2, 3, 4, 5])\n",
    "\n",
    "print('original array: ', numpy_array_from_list)\n",
    "\n",
    "ten_plus_original = numpy_array_from_list  + 10\n",
    "\n",
    "print(ten_plus_original)\n"
   ]
  },
  {
   "cell_type": "markdown",
   "metadata": {},
   "source": [
    "### 12: Subtraction"
   ]
  },
  {
   "cell_type": "code",
   "execution_count": 11,
   "metadata": {},
   "outputs": [
    {
     "name": "stdout",
     "output_type": "stream",
     "text": [
      "original array:  [1 2 3 4 5]\n",
      "[-9 -8 -7 -6 -5]\n"
     ]
    }
   ],
   "source": [
    "numpy_array_from_list = np.array([1, 2, 3, 4, 5])\n",
    "\n",
    "print('original array: ', numpy_array_from_list)\n",
    "\n",
    "ten_minus_original = numpy_array_from_list  - 10\n",
    "\n",
    "print(ten_minus_original)"
   ]
  },
  {
   "cell_type": "markdown",
   "metadata": {},
   "source": [
    "### 13: Multiplication"
   ]
  },
  {
   "cell_type": "code",
   "execution_count": 12,
   "metadata": {},
   "outputs": [
    {
     "name": "stdout",
     "output_type": "stream",
     "text": [
      "original array:  [1 2 3 4 5]\n",
      "[10 20 30 40 50]\n"
     ]
    }
   ],
   "source": [
    "numpy_array_from_list = np.array([1, 2, 3, 4, 5])\n",
    "\n",
    "print('original array: ', numpy_array_from_list)\n",
    "\n",
    "ten_times_original = numpy_array_from_list * 10\n",
    "\n",
    "print(ten_times_original)"
   ]
  },
  {
   "cell_type": "markdown",
   "metadata": {},
   "source": [
    "### 14: Division"
   ]
  },
  {
   "cell_type": "code",
   "execution_count": 13,
   "metadata": {},
   "outputs": [
    {
     "name": "stdout",
     "output_type": "stream",
     "text": [
      "original array:  [1 2 3 4 5]\n",
      "[0.1 0.2 0.3 0.4 0.5]\n"
     ]
    }
   ],
   "source": [
    "numpy_array_from_list = np.array([1, 2, 3, 4, 5])\n",
    "\n",
    "print('original array: ', numpy_array_from_list)\n",
    "\n",
    "ten_times_original = numpy_array_from_list / 10\n",
    "\n",
    "print(ten_times_original)"
   ]
  },
  {
   "cell_type": "markdown",
   "metadata": {},
   "source": [
    "### 15: Modulus"
   ]
  },
  {
   "cell_type": "code",
   "execution_count": 14,
   "metadata": {},
   "outputs": [
    {
     "name": "stdout",
     "output_type": "stream",
     "text": [
      "original array:  [1 2 3 4 5]\n",
      "[1 2 0 1 2]\n"
     ]
    }
   ],
   "source": [
    "numpy_array_from_list = np.array([1, 2, 3, 4, 5])\n",
    "\n",
    "print('original array: ', numpy_array_from_list)\n",
    "\n",
    "ten_times_original = numpy_array_from_list % 3\n",
    "\n",
    "print(ten_times_original)"
   ]
  },
  {
   "cell_type": "markdown",
   "metadata": {},
   "source": [
    "### 16: Floor Division"
   ]
  },
  {
   "cell_type": "code",
   "execution_count": 15,
   "metadata": {},
   "outputs": [
    {
     "name": "stdout",
     "output_type": "stream",
     "text": [
      "original array:  [1 2 3 4 5]\n",
      "[0 0 1 1 1]\n"
     ]
    }
   ],
   "source": [
    "numpy_array_from_list = np.array([1, 2, 3, 4, 5])\n",
    "\n",
    "print('original array: ', numpy_array_from_list)\n",
    "\n",
    "ten_times_original = numpy_array_from_list // 3\n",
    "\n",
    "print(ten_times_original)"
   ]
  },
  {
   "cell_type": "markdown",
   "metadata": {},
   "source": [
    "### 17: Expoonential"
   ]
  },
  {
   "cell_type": "code",
   "execution_count": 16,
   "metadata": {},
   "outputs": [
    {
     "name": "stdout",
     "output_type": "stream",
     "text": [
      "original array:  [1 2 3 4 5]\n",
      "[  1   8  27  64 125]\n"
     ]
    }
   ],
   "source": [
    "numpy_array_from_list = np.array([1, 2, 3, 4, 5])\n",
    "\n",
    "print('original array: ', numpy_array_from_list)\n",
    "\n",
    "ten_times_original = numpy_array_from_list ** 3\n",
    "\n",
    "print(ten_times_original)"
   ]
  },
  {
   "cell_type": "markdown",
   "metadata": {},
   "source": [
    "### 18: Checking data types"
   ]
  },
  {
   "cell_type": "code",
   "execution_count": 17,
   "metadata": {},
   "outputs": [
    {
     "name": "stdout",
     "output_type": "stream",
     "text": [
      "int32\n",
      "float64\n",
      "bool\n"
     ]
    }
   ],
   "source": [
    "numpy_int_arr = np.array([1,2,3,4])\n",
    "numpy_float_arr = np.array([1.1, 2.0,3.2])\n",
    "numpy_bool_arr = np.array([-3, -2, 0, 1,2,3], dtype='bool')\n",
    "\n",
    "print(numpy_int_arr.dtype)\n",
    "print(numpy_float_arr.dtype)\n",
    "print(numpy_bool_arr.dtype)"
   ]
  },
  {
   "cell_type": "markdown",
   "metadata": {},
   "source": [
    "### Converting data types\n",
    "### 19: Int to Float"
   ]
  },
  {
   "cell_type": "code",
   "execution_count": 18,
   "metadata": {},
   "outputs": [
    {
     "data": {
      "text/plain": [
       "array([1., 2., 3., 4.])"
      ]
     },
     "execution_count": 18,
     "metadata": {},
     "output_type": "execute_result"
    }
   ],
   "source": [
    "numpy_int_arr = np.array([1,2,3,4], dtype = 'float')\n",
    "numpy_int_arr"
   ]
  },
  {
   "cell_type": "markdown",
   "metadata": {},
   "source": [
    "### 20: Float to Int"
   ]
  },
  {
   "cell_type": "code",
   "execution_count": 19,
   "metadata": {},
   "outputs": [
    {
     "data": {
      "text/plain": [
       "array([1, 2, 3, 4])"
      ]
     },
     "execution_count": 19,
     "metadata": {},
     "output_type": "execute_result"
    }
   ],
   "source": [
    "numpy_int_arr = np.array([1., 2., 3., 4.], dtype = 'int')\n",
    "numpy_int_arr"
   ]
  },
  {
   "cell_type": "markdown",
   "metadata": {},
   "source": [
    "### 21: Int to boolean"
   ]
  },
  {
   "cell_type": "code",
   "execution_count": 20,
   "metadata": {},
   "outputs": [
    {
     "data": {
      "text/plain": [
       "array([ True,  True, False,  True,  True,  True])"
      ]
     },
     "execution_count": 20,
     "metadata": {},
     "output_type": "execute_result"
    }
   ],
   "source": [
    "np.array([-3, -2, 0, 1,2,3], dtype='bool')"
   ]
  },
  {
   "cell_type": "markdown",
   "metadata": {},
   "source": [
    "### 22: Int to str"
   ]
  },
  {
   "cell_type": "code",
   "execution_count": 21,
   "metadata": {},
   "outputs": [],
   "source": [
    "#numpy_float_list = .astype('int').astype('str')"
   ]
  },
  {
   "cell_type": "markdown",
   "metadata": {},
   "source": [
    "### Multi-dimensional Arrays\n",
    "### 23: 2-Dimension Array"
   ]
  },
  {
   "cell_type": "code",
   "execution_count": 22,
   "metadata": {},
   "outputs": [
    {
     "name": "stdout",
     "output_type": "stream",
     "text": [
      "<class 'numpy.ndarray'>\n",
      "[[1 2 3]\n",
      " [4 5 6]\n",
      " [7 8 9]]\n",
      "Shape:  (3, 3)\n",
      "Size: 9\n",
      "Data type: int32\n"
     ]
    }
   ],
   "source": [
    "two_dimension_array = np.array([(1,2,3),(4,5,6), (7,8,9)])\n",
    "\n",
    "print(type (two_dimension_array))\n",
    "print(two_dimension_array)\n",
    "print('Shape: ', two_dimension_array.shape)\n",
    "print('Size:', two_dimension_array.size)\n",
    "print('Data type:', two_dimension_array.dtype)"
   ]
  },
  {
   "cell_type": "markdown",
   "metadata": {},
   "source": [
    "### 24: Getting items from a numpy array"
   ]
  },
  {
   "cell_type": "code",
   "execution_count": 23,
   "metadata": {},
   "outputs": [
    {
     "name": "stdout",
     "output_type": "stream",
     "text": [
      "First row: [1 2 3]\n",
      "Second row: [4 5 6]\n",
      "Third row:  [7 8 9]\n",
      "First column: [1 4 7]\n",
      "Second column: [2 5 8]\n",
      "Third column:  [3 6 9]\n",
      "[[1 2 3]\n",
      " [4 5 6]\n",
      " [7 8 9]]\n"
     ]
    }
   ],
   "source": [
    "#Example 1\n",
    "\n",
    "two_dimension_array = np.array([[1,2,3],[4,5,6], [7,8,9]])\n",
    "first_row = two_dimension_array[0]\n",
    "second_row = two_dimension_array[1]\n",
    "third_row = two_dimension_array[2]\n",
    "\n",
    "print('First row:', first_row)\n",
    "print('Second row:', second_row)\n",
    "print('Third row: ', third_row)\n",
    "\n",
    "#Example 2\n",
    "\n",
    "first_column= two_dimension_array[:,0]\n",
    "second_column = two_dimension_array[:,1]\n",
    "third_column = two_dimension_array[:,2]\n",
    "print('First column:', first_column)\n",
    "print('Second column:', second_column)\n",
    "print('Third column: ', third_column)\n",
    "print(two_dimension_array)\n"
   ]
  },
  {
   "cell_type": "markdown",
   "metadata": {},
   "source": [
    "### 25: Slicing Numpy array"
   ]
  },
  {
   "cell_type": "code",
   "execution_count": 24,
   "metadata": {},
   "outputs": [
    {
     "name": "stdout",
     "output_type": "stream",
     "text": [
      "[[1 2]\n",
      " [4 5]]\n"
     ]
    }
   ],
   "source": [
    "two_dimension_array = np.array([[1,2,3],[4,5,6], [7,8,9]])\n",
    "first_two_rows_and_columns = two_dimension_array[0:2, 0:2]\n",
    "\n",
    "print(first_two_rows_and_columns)"
   ]
  },
  {
   "cell_type": "markdown",
   "metadata": {},
   "source": [
    "### 26: Reversing rows and the whole array"
   ]
  },
  {
   "cell_type": "code",
   "execution_count": 25,
   "metadata": {},
   "outputs": [
    {
     "data": {
      "text/plain": [
       "array([[1, 2, 3],\n",
       "       [4, 5, 6],\n",
       "       [7, 8, 9]])"
      ]
     },
     "execution_count": 25,
     "metadata": {},
     "output_type": "execute_result"
    }
   ],
   "source": [
    "two_dimension_array[::]"
   ]
  },
  {
   "cell_type": "markdown",
   "metadata": {},
   "source": [
    "### 27: Reversing the row and column positions"
   ]
  },
  {
   "cell_type": "code",
   "execution_count": 26,
   "metadata": {},
   "outputs": [
    {
     "data": {
      "text/plain": [
       "array([[9, 8, 7],\n",
       "       [6, 5, 4],\n",
       "       [3, 2, 1]])"
      ]
     },
     "execution_count": 26,
     "metadata": {},
     "output_type": "execute_result"
    }
   ],
   "source": [
    "two_dimension_array = np.array([[1,2,3],[4,5,6], [7,8,9]])\n",
    "two_dimension_array[::-1,::-1]"
   ]
  },
  {
   "cell_type": "markdown",
   "metadata": {},
   "source": [
    "### 28: Representing missing values"
   ]
  },
  {
   "cell_type": "code",
   "execution_count": 27,
   "metadata": {},
   "outputs": [
    {
     "name": "stdout",
     "output_type": "stream",
     "text": [
      "[[1 2 3]\n",
      " [4 5 6]\n",
      " [7 8 9]]\n",
      "[[ 1  2  3]\n",
      " [ 4 55 44]\n",
      " [ 7  8  9]]\n"
     ]
    }
   ],
   "source": [
    "print(two_dimension_array)\n",
    "\n",
    "two_dimension_array[1,1] = 55\n",
    "two_dimension_array[1,2] =44\n",
    "\n",
    "print(two_dimension_array)"
   ]
  },
  {
   "cell_type": "markdown",
   "metadata": {},
   "source": [
    "### 29: Numpy zeroes"
   ]
  },
  {
   "cell_type": "code",
   "execution_count": 28,
   "metadata": {},
   "outputs": [
    {
     "name": "stdout",
     "output_type": "stream",
     "text": [
      "[[1 1 1]\n",
      " [1 1 1]\n",
      " [1 1 1]]\n"
     ]
    }
   ],
   "source": [
    "numpy_zeroes = np.zeros((3,3),dtype=int,order='C')\n",
    "numpy_zeroes\n",
    "\n",
    "numpy_ones = np.ones((3,3),dtype=int,order='C')\n",
    "print(numpy_ones)"
   ]
  },
  {
   "cell_type": "markdown",
   "metadata": {},
   "source": [
    "### 30: Numpy reshape"
   ]
  },
  {
   "cell_type": "code",
   "execution_count": 29,
   "metadata": {},
   "outputs": [
    {
     "name": "stdout",
     "output_type": "stream",
     "text": [
      "[[1 2 3]\n",
      " [4 5 6]]\n",
      "[[1 2]\n",
      " [3 4]\n",
      " [5 6]]\n"
     ]
    },
    {
     "data": {
      "text/plain": [
       "array([1, 2, 3, 4, 5, 6])"
      ]
     },
     "execution_count": 29,
     "metadata": {},
     "output_type": "execute_result"
    }
   ],
   "source": [
    "first_shape  = np.array([(1,2,3), (4,5,6)])\n",
    "print(first_shape)\n",
    "reshaped = first_shape.reshape(3,2)\n",
    "print(reshaped)\n",
    "\n",
    "#Flattened\n",
    "flattened = reshaped.flatten()\n",
    "flattened"
   ]
  },
  {
   "cell_type": "markdown",
   "metadata": {},
   "source": [
    "### 31: Horizontal stack"
   ]
  },
  {
   "cell_type": "code",
   "execution_count": 30,
   "metadata": {},
   "outputs": [
    {
     "name": "stdout",
     "output_type": "stream",
     "text": [
      "[5 7 9]\n",
      "Horizontal Append: [1 2 3 4 5 6]\n"
     ]
    }
   ],
   "source": [
    "np_list_one = np.array([1,2,3])\n",
    "np_list_two = np.array([4,5,6])\n",
    "\n",
    "print(np_list_one + np_list_two)\n",
    "\n",
    "print('Horizontal Append:', np.hstack((np_list_one, np_list_two)))"
   ]
  },
  {
   "cell_type": "markdown",
   "metadata": {},
   "source": [
    " ### 32: Vertical Stack"
   ]
  },
  {
   "cell_type": "code",
   "execution_count": 31,
   "metadata": {},
   "outputs": [
    {
     "name": "stdout",
     "output_type": "stream",
     "text": [
      "Vertical Append: [[1 2 3]\n",
      " [4 5 6]]\n"
     ]
    }
   ],
   "source": [
    "print('Vertical Append:', np.vstack((np_list_one, np_list_two)))"
   ]
  },
  {
   "cell_type": "markdown",
   "metadata": {},
   "source": [
    "### 33: Generating Random Numbers"
   ]
  },
  {
   "cell_type": "code",
   "execution_count": 32,
   "metadata": {},
   "outputs": [
    {
     "data": {
      "text/plain": [
       "array([0.78033155, 0.22131482, 0.86895211, 0.92395491, 0.69403115])"
      ]
     },
     "execution_count": 32,
     "metadata": {},
     "output_type": "execute_result"
    }
   ],
   "source": [
    "# Generate a random float  number\n",
    "random_float = np.random.random()\n",
    "random_float\n",
    "\n",
    "# Generate a random float  number\n",
    "random_floats = np.random.random(5)\n",
    "random_floats\n"
   ]
  },
  {
   "cell_type": "markdown",
   "metadata": {},
   "source": [
    "### 34: Generating a random integers between 0 and 10"
   ]
  },
  {
   "cell_type": "code",
   "execution_count": 33,
   "metadata": {},
   "outputs": [
    {
     "data": {
      "text/plain": [
       "8"
      ]
     },
     "execution_count": 33,
     "metadata": {},
     "output_type": "execute_result"
    }
   ],
   "source": [
    "random_int = np.random.randint(0, 11)\n",
    "random_int\n"
   ]
  },
  {
   "cell_type": "markdown",
   "metadata": {},
   "source": [
    "### 35: Generating a random integers between 2 and 11, and creating a one row array"
   ]
  },
  {
   "cell_type": "code",
   "execution_count": 34,
   "metadata": {},
   "outputs": [
    {
     "data": {
      "text/plain": [
       "array([2, 7, 3, 6])"
      ]
     },
     "execution_count": 34,
     "metadata": {},
     "output_type": "execute_result"
    }
   ],
   "source": [
    "random_int = np.random.randint(2,10, size=4)\n",
    "random_int"
   ]
  },
  {
   "cell_type": "markdown",
   "metadata": {},
   "source": [
    "### 36: Generating a random integers between 0 and 10"
   ]
  },
  {
   "cell_type": "code",
   "execution_count": 35,
   "metadata": {},
   "outputs": [
    {
     "data": {
      "text/plain": [
       "array([[2, 7, 3],\n",
       "       [6, 9, 9],\n",
       "       [8, 6, 8]])"
      ]
     },
     "execution_count": 35,
     "metadata": {},
     "output_type": "execute_result"
    }
   ],
   "source": [
    "random_int = np.random.randint(2,10, size=(3,3))\n",
    "random_int"
   ]
  },
  {
   "cell_type": "markdown",
   "metadata": {},
   "source": [
    "### 37: Generationg random numbers"
   ]
  },
  {
   "cell_type": "code",
   "execution_count": 36,
   "metadata": {},
   "outputs": [
    {
     "data": {
      "text/plain": [
       "array([ 74.83520832,  73.63321488,  80.86857178,  90.21523256,\n",
       "        95.58483835, 103.93223514,  78.31052846,  70.28489443,\n",
       "        88.77172671,  75.65562225,  92.35053484,  48.32369696,\n",
       "        76.62560124, 114.48702488,  77.39998396,  35.61120303,\n",
       "        73.57147363,  49.85325716,  52.30650049,  76.73773571,\n",
       "        66.60105886,  99.10172062,  75.70437784,  82.34726526,\n",
       "        72.8791721 ,  86.10452703,  72.69939273,  83.9635261 ,\n",
       "       113.3145492 ,  59.5982638 ,  62.98952319,  89.87175691,\n",
       "        82.87597913,  67.45637099,  79.36201491,  85.37833804,\n",
       "        89.71143399,  50.38246667, 101.7889913 ,  66.85180595,\n",
       "        80.70057797,  74.28397139,  70.36326053,  81.86851935,\n",
       "        75.83682593,  82.82412606,  75.62098315,  78.00291914,\n",
       "        95.30940654,  89.98074984,  81.08775251,  68.3272172 ,\n",
       "        92.08950541,  96.03184717,  64.41743472,  76.02698516,\n",
       "        79.11430376, 114.6423556 ,  55.71961097,  74.99600003,\n",
       "        85.23298751,  72.50536937,  81.4653737 ,  82.87858777,\n",
       "        89.02602123,  76.09552831,  97.66284847,  83.54735313,\n",
       "        71.97145107,  77.21315866, 108.25085756,  64.20880833,\n",
       "        89.59288922,  71.22341316,  87.01542489,  82.15482676,\n",
       "        66.82262589,  72.19579549,  74.34946239,  88.70383192])"
      ]
     },
     "execution_count": 36,
     "metadata": {},
     "output_type": "execute_result"
    }
   ],
   "source": [
    "normal_array = np.random.normal(79, 15, 80)\n",
    "normal_array"
   ]
  },
  {
   "cell_type": "markdown",
   "metadata": {},
   "source": [
    "### 38: Numpy and Statistics"
   ]
  },
  {
   "cell_type": "code",
   "execution_count": null,
   "metadata": {},
   "outputs": [],
   "source": []
  },
  {
   "cell_type": "code",
   "execution_count": 37,
   "metadata": {},
   "outputs": [
    {
     "ename": "ModuleNotFoundError",
     "evalue": "No module named 'matplotlib'",
     "output_type": "error",
     "traceback": [
      "\u001b[1;31m---------------------------------------------------------------------------\u001b[0m",
      "\u001b[1;31mModuleNotFoundError\u001b[0m                       Traceback (most recent call last)",
      "Cell \u001b[1;32mIn[37], line 1\u001b[0m\n\u001b[1;32m----> 1\u001b[0m \u001b[38;5;28;01mimport\u001b[39;00m \u001b[38;5;21;01mmatplotlib\u001b[39;00m\u001b[38;5;21;01m.\u001b[39;00m\u001b[38;5;21;01mpyplot\u001b[39;00m \u001b[38;5;28;01mas\u001b[39;00m \u001b[38;5;21;01mplt\u001b[39;00m\n\u001b[0;32m      2\u001b[0m \u001b[38;5;28;01mimport\u001b[39;00m \u001b[38;5;21;01mseaborn\u001b[39;00m \u001b[38;5;28;01mas\u001b[39;00m \u001b[38;5;21;01msns\u001b[39;00m\n\u001b[0;32m      3\u001b[0m sns\u001b[38;5;241m.\u001b[39mset()\n",
      "\u001b[1;31mModuleNotFoundError\u001b[0m: No module named 'matplotlib'"
     ]
    }
   ],
   "source": [
    "import matplotlib.pyplot as plt\n",
    "import seaborn as sns\n",
    "sns.set()\n",
    "plt.hist(normal_array, color=\"grey\", bins=50)\n"
   ]
  },
  {
   "cell_type": "markdown",
   "metadata": {},
   "source": [
    "### 39: Matrix in numpy"
   ]
  },
  {
   "cell_type": "code",
   "execution_count": 38,
   "metadata": {},
   "outputs": [
    {
     "data": {
      "text/plain": [
       "matrix([[1., 1., 1., 1.],\n",
       "        [1., 1., 1., 1.],\n",
       "        [1., 1., 1., 1.],\n",
       "        [1., 1., 1., 1.]])"
      ]
     },
     "execution_count": 38,
     "metadata": {},
     "output_type": "execute_result"
    }
   ],
   "source": [
    "four_by_four_matrix = np.matrix(np.ones((4,4), dtype=float))\n",
    "four_by_four_matrix"
   ]
  },
  {
   "cell_type": "markdown",
   "metadata": {},
   "source": [
    "### 40: numpy.arange()"
   ]
  },
  {
   "cell_type": "code",
   "execution_count": null,
   "metadata": {},
   "outputs": [
    {
     "ename": "",
     "evalue": "",
     "output_type": "error",
     "traceback": [
      "\u001b[1;31mFailed to start the Kernel. \n",
      "\u001b[1;31mUnable to start Kernel 'Python 3.11.5' due to a timeout waiting for the ports to get used. \n",
      "\u001b[1;31mView Jupyter <a href='command:jupyter.viewOutput'>log</a> for further details."
     ]
    }
   ],
   "source": [
    "lst = range(0, 11, 2)\n",
    "lst\n",
    "\n",
    "range(0, 11, 2)\n",
    "\n",
    "for l in lst:\n",
    "    print(l)"
   ]
  },
  {
   "cell_type": "markdown",
   "metadata": {},
   "source": []
  },
  {
   "cell_type": "code",
   "execution_count": null,
   "metadata": {},
   "outputs": [
    {
     "ename": "",
     "evalue": "",
     "output_type": "error",
     "traceback": [
      "\u001b[1;31mFailed to start the Kernel. \n",
      "\u001b[1;31mUnable to start Kernel 'Python 3.11.5' due to a timeout waiting for the ports to get used. \n",
      "\u001b[1;31mView Jupyter <a href='command:jupyter.viewOutput'>log</a> for further details."
     ]
    }
   ],
   "source": [
    "# Whole numbers\n",
    "whole_numbers = np.arange(0, 20, 1)\n",
    "whole_numbers\n",
    "\n",
    "# Natural Numbers\n",
    "natural_numbers = np.arange(1, 20, 1)\n",
    "natural_numbers\n",
    "\n",
    "# Odd Numbers\n",
    "odd_numbers = np.arange(1, 20, 2)\n",
    "odd_numbers\n",
    "\n",
    "# Even Numbers\n",
    "even_numbers = np.arange(2, 20, 2)\n",
    "even_numbers"
   ]
  },
  {
   "cell_type": "markdown",
   "metadata": {},
   "source": [
    "### 41: Creating sequence of numbers using linspace"
   ]
  },
  {
   "cell_type": "code",
   "execution_count": null,
   "metadata": {},
   "outputs": [
    {
     "ename": "",
     "evalue": "",
     "output_type": "error",
     "traceback": [
      "\u001b[1;31mFailed to start the Kernel. \n",
      "\u001b[1;31mUnable to start Kernel 'Python 3.11.5' due to a timeout waiting for the ports to get used. \n",
      "\u001b[1;31mView Jupyter <a href='command:jupyter.viewOutput'>log</a> for further details."
     ]
    }
   ],
   "source": [
    "np.linspace(1.0, 5.0, num=10)\n",
    "\n",
    "np.linspace(1.0, 5.0, num=5, endpoint=False)\n",
    "\n",
    "np.logspace(2, 4.0, num=4)"
   ]
  },
  {
   "cell_type": "markdown",
   "metadata": {},
   "source": [
    "### 42: Checking the size of an array"
   ]
  },
  {
   "cell_type": "code",
   "execution_count": null,
   "metadata": {},
   "outputs": [
    {
     "ename": "",
     "evalue": "",
     "output_type": "error",
     "traceback": [
      "\u001b[1;31mFailed to start the Kernel. \n",
      "\u001b[1;31mUnable to start Kernel 'Python 3.11.5' due to a timeout waiting for the ports to get used. \n",
      "\u001b[1;31mView Jupyter <a href='command:jupyter.viewOutput'>log</a> for further details."
     ]
    }
   ],
   "source": [
    "x = np.array([1,2,3], dtype=np.complex128)\n",
    "x"
   ]
  },
  {
   "cell_type": "markdown",
   "metadata": {},
   "source": [
    "### 43: indexing and Slicing NumPy Arrays in Python\n"
   ]
  },
  {
   "cell_type": "code",
   "execution_count": null,
   "metadata": {},
   "outputs": [
    {
     "ename": "",
     "evalue": "",
     "output_type": "error",
     "traceback": [
      "\u001b[1;31mFailed to start the Kernel. \n",
      "\u001b[1;31mUnable to start Kernel 'Python 3.11.5' due to a timeout waiting for the ports to get used. \n",
      "\u001b[1;31mView Jupyter <a href='command:jupyter.viewOutput'>log</a> for further details."
     ]
    }
   ],
   "source": [
    "#Indexing\n",
    "np_list = np.array([(1,2,3), (4,5,6)])\n",
    "np_list\n",
    "\n",
    "#Slicing\n",
    "print('First row: ', np_list[0])\n",
    "print('Second row: ', np_list[1])\n",
    "\n",
    "print('First column: ', np_list[:,0])\n",
    "print('Second column: ', np_list[:,1])\n",
    "print('Third column: ', np_list[:,2])\n"
   ]
  },
  {
   "cell_type": "markdown",
   "metadata": {},
   "source": [
    "### 44: NumPy Statistical Functions with Example"
   ]
  },
  {
   "cell_type": "code",
   "execution_count": null,
   "metadata": {},
   "outputs": [
    {
     "ename": "",
     "evalue": "",
     "output_type": "error",
     "traceback": [
      "\u001b[1;31mFailed to start the Kernel. \n",
      "\u001b[1;31mUnable to start Kernel 'Python 3.11.5' due to a timeout waiting for the ports to get used. \n",
      "\u001b[1;31mView Jupyter <a href='command:jupyter.viewOutput'>log</a> for further details."
     ]
    }
   ],
   "source": [
    "## min, max, mean, median, sd\n",
    "print('min: ', two_dimension_array.min())\n",
    "print('max: ', two_dimension_array.max())\n",
    "print('mean: ',two_dimension_array.mean())\n",
    "\n",
    "# print('median: ', two_dimension_array.median())\n",
    "print('sd: ', two_dimension_array.std())\n",
    "\n",
    "print(two_dimension_array)\n",
    "print('Column with minimum: ', np.amin(two_dimension_array,axis=0))\n",
    "print('Column with maximum: ', np.amax(two_dimension_array,axis=0))\n",
    "print('=== Row ==')\n",
    "print('Row with minimum: ', np.amin(two_dimension_array,axis=1))\n",
    "print('Row with maximum: ', np.amax(two_dimension_array,axis=1))\n"
   ]
  },
  {
   "cell_type": "markdown",
   "metadata": {},
   "source": [
    "### 45: Creating repeating sequences"
   ]
  },
  {
   "cell_type": "code",
   "execution_count": null,
   "metadata": {},
   "outputs": [
    {
     "ename": "",
     "evalue": "",
     "output_type": "error",
     "traceback": [
      "\u001b[1;31mFailed to start the Kernel. \n",
      "\u001b[1;31mUnable to start Kernel 'Python 3.11.5' due to a timeout waiting for the ports to get used. \n",
      "\u001b[1;31mView Jupyter <a href='command:jupyter.viewOutput'>log</a> for further details."
     ]
    }
   ],
   "source": [
    "a = [1,2,3]\n",
    "\n",
    "# Repeat whole of 'a' two times\n",
    "print('Tile:   ', np.tile(a, 2))\n",
    "\n",
    "# Repeat each element of 'a' two times\n",
    "print('Repeat: ', np.repeat(a, 2))"
   ]
  },
  {
   "cell_type": "markdown",
   "metadata": {},
   "source": [
    "### 46: Generating random numbers"
   ]
  },
  {
   "cell_type": "code",
   "execution_count": null,
   "metadata": {},
   "outputs": [
    {
     "ename": "",
     "evalue": "",
     "output_type": "error",
     "traceback": [
      "\u001b[1;31mFailed to start the Kernel. \n",
      "\u001b[1;31mUnable to start Kernel 'Python 3.11.5' due to a timeout waiting for the ports to get used. \n",
      "\u001b[1;31mView Jupyter <a href='command:jupyter.viewOutput'>log</a> for further details."
     ]
    }
   ],
   "source": [
    "# One random number between [0,1)\n",
    "one_random_num = np.random.random()\n",
    "one_random_in = np.random\n",
    "print(one_random_num)\n",
    "\n",
    "# Random numbers between [0,1) of shape 2,3\n",
    "r = np.random.random(size=[2,3])\n",
    "print(r)\n",
    "\n",
    "print(np.random.choice(['a', 'e', 'i', 'o', 'u'], size=10))\n",
    "\n",
    "## Random numbers between [0, 1] of shape 2, 2\n",
    "rand = np.random.rand(2,2)\n",
    "rand\n",
    "\n",
    "rand_int = np.random.randint(0, 10, size=[5,3])\n",
    "rand_int"
   ]
  },
  {
   "cell_type": "markdown",
   "metadata": {},
   "source": [
    "### 47: Generating "
   ]
  },
  {
   "cell_type": "code",
   "execution_count": null,
   "metadata": {},
   "outputs": [
    {
     "ename": "",
     "evalue": "",
     "output_type": "error",
     "traceback": [
      "\u001b[1;31mFailed to start the Kernel. \n",
      "\u001b[1;31mUnable to start Kernel 'Python 3.11.5' due to a timeout waiting for the ports to get used. \n",
      "\u001b[1;31mView Jupyter <a href='command:jupyter.viewOutput'>log</a> for further details."
     ]
    }
   ],
   "source": [
    "from scipy import stats\n",
    "np_normal_dis = np.random.normal(5, 0.5, 1000) # mean, standard deviation, number of samples\n",
    "np_normal_dis\n",
    "## min, max, mean, median, sd\n",
    "print('min: ', np.min(np_normal_dis))\n",
    "print('max: ', np.max(np_normal_dis))\n",
    "print('mean: ', np.mean(np_normal_dis))\n",
    "print('median: ', np.median(np_normal_dis))\n",
    "print('mode: ', stats.mode(np_normal_dis))\n",
    "print('sd: ', np.std(np_normal_dis))\n"
   ]
  },
  {
   "cell_type": "code",
   "execution_count": null,
   "metadata": {},
   "outputs": [
    {
     "ename": "",
     "evalue": "",
     "output_type": "error",
     "traceback": [
      "\u001b[1;31mFailed to start the Kernel. \n",
      "\u001b[1;31mUnable to start Kernel 'Python 3.11.5' due to a timeout waiting for the ports to get used. \n",
      "\u001b[1;31mView Jupyter <a href='command:jupyter.viewOutput'>log</a> for further details."
     ]
    }
   ],
   "source": [
    "plt.hist(np_normal_dis, color=\"grey\", bins=21)\n",
    "plt.show()\n",
    "\n",
    "![png](../test_files/test_121_0.png)"
   ]
  },
  {
   "cell_type": "markdown",
   "metadata": {},
   "source": [
    "### Linear Algebra\n",
    "### 48: Dot Product"
   ]
  },
  {
   "cell_type": "code",
   "execution_count": null,
   "metadata": {},
   "outputs": [
    {
     "ename": "",
     "evalue": "",
     "output_type": "error",
     "traceback": [
      "\u001b[1;31mFailed to start the Kernel. \n",
      "\u001b[1;31mUnable to start Kernel 'Python 3.11.5' due to a timeout waiting for the ports to get used. \n",
      "\u001b[1;31mView Jupyter <a href='command:jupyter.viewOutput'>log</a> for further details."
     ]
    }
   ],
   "source": [
    "### Dot product: product of two arrays\n",
    "f = np.array([1,2,3])\n",
    "g = np.array([4,5,3])\n",
    "\n",
    "### 1*4+2*5 + 3*6\n",
    "np.dot(f, g)"
   ]
  },
  {
   "cell_type": "markdown",
   "metadata": {},
   "source": [
    "### 49: NumPy Matrix Multiplication with np.matmul()"
   ]
  },
  {
   "cell_type": "code",
   "execution_count": null,
   "metadata": {},
   "outputs": [
    {
     "ename": "",
     "evalue": "",
     "output_type": "error",
     "traceback": [
      "\u001b[1;31mFailed to start the Kernel. \n",
      "\u001b[1;31mUnable to start Kernel 'Python 3.11.5' due to a timeout waiting for the ports to get used. \n",
      "\u001b[1;31mView Jupyter <a href='command:jupyter.viewOutput'>log</a> for further details."
     ]
    }
   ],
   "source": [
    "### Matmul: matruc product of two arrays\n",
    "h = [[1,2],[3,4]]\n",
    "i = [[5,6],[7,8]]\n",
    "\n",
    "### 1*5+2*7 = 19\n",
    "np.matmul(h, i)"
   ]
  },
  {
   "cell_type": "markdown",
   "metadata": {},
   "source": [
    "### 50: Determinant 2*2 matrix"
   ]
  },
  {
   "cell_type": "code",
   "execution_count": null,
   "metadata": {},
   "outputs": [
    {
     "ename": "",
     "evalue": "",
     "output_type": "error",
     "traceback": [
      "\u001b[1;31mFailed to start the Kernel. \n",
      "\u001b[1;31mUnable to start Kernel 'Python 3.11.5' due to a timeout waiting for the ports to get used. \n",
      "\u001b[1;31mView Jupyter <a href='command:jupyter.viewOutput'>log</a> for further details."
     ]
    }
   ],
   "source": [
    "### 5*8-7*6np.linalg.det(i)\n",
    "\n",
    "#np.linalg.det(i)\n",
    "\n",
    "Z = np.zeros((8,8))\n",
    "Z[1::2,::2] = 1\n",
    "Z[::2,1::2] = 1\n",
    "\n",
    "Z"
   ]
  },
  {
   "cell_type": "markdown",
   "metadata": {},
   "source": [
    "### 51: New list"
   ]
  },
  {
   "cell_type": "code",
   "execution_count": null,
   "metadata": {},
   "outputs": [
    {
     "ename": "",
     "evalue": "",
     "output_type": "error",
     "traceback": [
      "\u001b[1;31mFailed to start the Kernel. \n",
      "\u001b[1;31mUnable to start Kernel 'Python 3.11.5' due to a timeout waiting for the ports to get used. \n",
      "\u001b[1;31mView Jupyter <a href='command:jupyter.viewOutput'>log</a> for further details."
     ]
    }
   ],
   "source": [
    "new_list = [ x + 2 for x in range(0, 11)]\n",
    "new_list"
   ]
  },
  {
   "cell_type": "code",
   "execution_count": null,
   "metadata": {},
   "outputs": [
    {
     "ename": "",
     "evalue": "",
     "output_type": "error",
     "traceback": [
      "\u001b[1;31mFailed to start the Kernel. \n",
      "\u001b[1;31mUnable to start Kernel 'Python 3.11.5' due to a timeout waiting for the ports to get used. \n",
      "\u001b[1;31mView Jupyter <a href='command:jupyter.viewOutput'>log</a> for further details."
     ]
    }
   ],
   "source": [
    "Z = np.zeros((8,8))\n",
    "Z[1::2,::2] = 1\n",
    "Z[::2,1::2] = 1\n",
    "\n",
    "Z"
   ]
  },
  {
   "cell_type": "markdown",
   "metadata": {},
   "source": [
    "### 52: Linear equation for quantities which have linear relationship"
   ]
  },
  {
   "cell_type": "code",
   "execution_count": null,
   "metadata": {},
   "outputs": [
    {
     "ename": "",
     "evalue": "",
     "output_type": "error",
     "traceback": [
      "\u001b[1;31mFailed to start the Kernel. \n",
      "\u001b[1;31mUnable to start Kernel 'Python 3.11.5' due to a timeout waiting for the ports to get used. \n",
      "\u001b[1;31mView Jupyter <a href='command:jupyter.viewOutput'>log</a> for further details."
     ]
    }
   ],
   "source": [
    "temp = np.array([1,2,3,4,5])\n",
    "pressure = temp * 2 + 5\n",
    "pressure"
   ]
  }
 ],
 "metadata": {
  "kernelspec": {
   "display_name": "Python 3",
   "language": "python",
   "name": "python3"
  },
  "language_info": {
   "codemirror_mode": {
    "name": "ipython",
    "version": 3
   },
   "file_extension": ".py",
   "mimetype": "text/x-python",
   "name": "python",
   "nbconvert_exporter": "python",
   "pygments_lexer": "ipython3",
   "version": "3.11.5"
  }
 },
 "nbformat": 4,
 "nbformat_minor": 2
}
