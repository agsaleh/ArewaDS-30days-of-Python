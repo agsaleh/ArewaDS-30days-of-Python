{
 "cells": [
  {
   "cell_type": "markdown",
   "metadata": {},
   "source": [
    "# Exercise Day 3"
   ]
  },
  {
   "cell_type": "markdown",
   "metadata": {},
   "source": [
    "### Area of a Triangle"
   ]
  },
  {
   "cell_type": "code",
   "execution_count": null,
   "metadata": {},
   "outputs": [],
   "source": [
    "\n",
    "age = int\n",
    "height = float(input('Height:'))\n",
    "base = float(input('Base:'))\n",
    "area = 0.5 * base * height\n",
    "print('Area of Triangle is:', area)\n"
   ]
  },
  {
   "cell_type": "markdown",
   "metadata": {},
   "source": [
    "### Perimeter of a Triangle"
   ]
  },
  {
   "cell_type": "code",
   "execution_count": null,
   "metadata": {},
   "outputs": [],
   "source": [
    "\n",
    "side_a = float(input('Side A:'))\n",
    "side_b = float(input('Side B:'))\n",
    "side_c = float(input('Side C:'))\n",
    "perimeter = side_a + side_b + side_c\n",
    "\n",
    "print('Perimeter of Triangle is:', perimeter)\n"
   ]
  },
  {
   "cell_type": "markdown",
   "metadata": {},
   "source": [
    "### Length & Width of a Rectangle\n"
   ]
  },
  {
   "cell_type": "code",
   "execution_count": null,
   "metadata": {},
   "outputs": [],
   "source": [
    "length = float(input('Enter Length: '))\n",
    "width = float(input('Enter Width: '))\n",
    "\n",
    "area = length * width\n",
    "perimeter = 2 * (length + width)\n",
    "\n",
    "print('Area is:', area)\n",
    "print('Perimeter is:', perimeter)"
   ]
  },
  {
   "cell_type": "markdown",
   "metadata": {},
   "source": [
    "### Radius  & Circumference of a Circle\n"
   ]
  },
  {
   "cell_type": "code",
   "execution_count": null,
   "metadata": {},
   "outputs": [],
   "source": [
    "r = float(input('Input Radius:'))\n",
    "area = 3.14 * r ** 2\n",
    "print('Area is: ', area)\n",
    "\n",
    "circum_of_circle = 2 * 3.14159 * r\n",
    "print('Circumference of the circle is: ', circum_of_circle)"
   ]
  },
  {
   "cell_type": "markdown",
   "metadata": {},
   "source": [
    "### Calculating the Slope"
   ]
  },
  {
   "cell_type": "code",
   "execution_count": null,
   "metadata": {},
   "outputs": [],
   "source": [
    "slope = 2\n",
    "y_intercept = -2\n",
    "\n",
    "print('Slope is:', slope)\n",
    "print('Y-intercept is:', y_intercept)"
   ]
  },
  {
   "cell_type": "markdown",
   "metadata": {},
   "source": [
    "### Slope and Euclidean Distance"
   ]
  },
  {
   "cell_type": "code",
   "execution_count": null,
   "metadata": {},
   "outputs": [],
   "source": [
    "x1, y1 = 2, 2\n",
    "x2, y2 = 6, 10\n",
    "\n",
    "slope = (y2 - y1) / (x2 - x1)\n",
    "\n",
    "distance = ((x2 - x1)**2 + (y2 -y1)**2)**0.5\n",
    "\n",
    "print('Slope between pionts is:', slope)\n",
    "print('Euclidean distance between pionts is:', distance)"
   ]
  },
  {
   "cell_type": "markdown",
   "metadata": {},
   "source": [
    "### Calculating y(x) = x^2+ 6x + 9"
   ]
  },
  {
   "cell_type": "code",
   "execution_count": null,
   "metadata": {},
   "outputs": [],
   "source": [
    "import sympy as sp\n",
    "\n",
    "x = sp.symbols('x')\n",
    "equation = x**2 + 6*x + 9\n",
    "\n",
    "solns = sp.solve(equation, x)\n",
    "print('Values of x when y = 0:', solns)"
   ]
  },
  {
   "cell_type": "markdown",
   "metadata": {},
   "source": [
    "### Finding length & making comparism"
   ]
  },
  {
   "cell_type": "code",
   "execution_count": null,
   "metadata": {},
   "outputs": [],
   "source": [
    "word_one = 'python'\n",
    "word_two = 'dragon'\n",
    "\n",
    "word_onel = len(word_one)\n",
    "word_twol = len(word_two)\n",
    "\n",
    "comparison = word_onel == word_twol\n",
    "\n",
    "print(\"Length of 'python':\", word_onel)\n",
    "print(\"Length of 'dragon':\", word_twol)\n",
    "print('Comparison:', comparison)\n"
   ]
  },
  {
   "cell_type": "markdown",
   "metadata": {},
   "source": [
    "### Checking for 'jargon' in a sentence"
   ]
  },
  {
   "cell_type": "code",
   "execution_count": null,
   "metadata": {},
   "outputs": [],
   "source": [
    "sentence = 'I hope this course is not full of jargon'\n",
    "\n",
    "if 'jargon' in sentence:\n",
    "    print(\"'jargon' is in the sentence.\")\n",
    "else:\n",
    "    print(\"'jargon' is not in the sentence.\")"
   ]
  },
  {
   "cell_type": "markdown",
   "metadata": {},
   "source": [
    "### Checking for 'on' absence"
   ]
  },
  {
   "cell_type": "code",
   "execution_count": null,
   "metadata": {},
   "outputs": [],
   "source": [
    "word_one = 'dragon'\n",
    "word_two = 'python'\n",
    "\n",
    "abs1 = 'on' not in word_one\n",
    "abs2 = 'on' not in word_two\n",
    "\n",
    "print(\"'on' in 'dragon':\", abs1)\n",
    "print(\"'on' in 'python':\", abs2)"
   ]
  },
  {
   "cell_type": "markdown",
   "metadata": {},
   "source": [
    "### Length of python to float to string"
   ]
  },
  {
   "cell_type": "code",
   "execution_count": null,
   "metadata": {},
   "outputs": [],
   "source": [
    "text = 'python'\n",
    "lengtht = len(text)\n",
    "floatl = float(lengtht)\n",
    "stringf = str(floatl)\n",
    "\n",
    "print('Length of \"python\"', lengtht)\n",
    "print('Float conversion:', floatl)\n",
    "print('String conversion:', stringf)"
   ]
  },
  {
   "cell_type": "markdown",
   "metadata": {},
   "source": [
    "### Checking for Even Numbers"
   ]
  },
  {
   "cell_type": "code",
   "execution_count": null,
   "metadata": {},
   "outputs": [],
   "source": [
    "number = int(input('Input number:'))\n",
    "\n",
    "if number % 2 == 0:\n",
    "    print(number, 'is an even number')\n",
    "else:\n",
    "    print(number, 'is not an even number')"
   ]
  },
  {
   "cell_type": "markdown",
   "metadata": {},
   "source": [
    "### Floor Division"
   ]
  },
  {
   "cell_type": "code",
   "execution_count": null,
   "metadata": {},
   "outputs": [],
   "source": [
    "floor_div = 7 // 3\n",
    "int_conv = int(2.7)\n",
    "\n",
    "print('Floor division of 7 by 3:', floor_div)\n",
    "print('Integer dcoverted of 2.7', int_conv)\n",
    "print('Are they equal?:', floor_div == int_conv)"
   ]
  },
  {
   "cell_type": "markdown",
   "metadata": {},
   "source": [
    "### Type comparison"
   ]
  },
  {
   "cell_type": "code",
   "execution_count": null,
   "metadata": {},
   "outputs": [],
   "source": [
    "num_str = '10'\n",
    "num_int = 10\n",
    "\n",
    "compared = type(num_str) == type(num_int)\n",
    "\n",
    "print('Type of \"10\":', type(num_str))\n",
    "print('Type of 10:', type(num_int))\n",
    "print('Are they equal?:', compared)"
   ]
  },
  {
   "cell_type": "markdown",
   "metadata": {},
   "source": [
    "### Interger conversion comparison"
   ]
  },
  {
   "cell_type": "code",
   "execution_count": null,
   "metadata": {},
   "outputs": [],
   "source": [
    "try:\n",
    "    conv = int(9.8)\n",
    "    ans = conv == 10\n",
    "    print('Successful!')\n",
    "except ValueError:\n",
    "    print('Failed!')"
   ]
  },
  {
   "cell_type": "markdown",
   "metadata": {},
   "source": [
    "### Calculating the pay of a person "
   ]
  },
  {
   "cell_type": "code",
   "execution_count": null,
   "metadata": {},
   "outputs": [],
   "source": [
    "hours = int(input('Enter number of hours: '))\n",
    "rate = int(input('Enter rate: '))\n",
    "\n",
    "weekly_earning = hours * rate\n",
    "\n",
    "print('Your weekly earning is: ', weekly_earning)"
   ]
  },
  {
   "cell_type": "markdown",
   "metadata": {},
   "source": [
    "### Number of seconds a person can live"
   ]
  },
  {
   "cell_type": "code",
   "execution_count": null,
   "metadata": {},
   "outputs": [],
   "source": [
    "years = int(input('Enter number of years: '))\n",
    "\n",
    "seconds = 365 * 24 * 60 * 60\n",
    "total_seconds = years * seconds\n",
    "\n",
    "print('Number of seconds a person can live in', years, 'years is:', total_seconds)"
   ]
  },
  {
   "cell_type": "markdown",
   "metadata": {},
   "source": [
    "### Displaying a Matrix table"
   ]
  },
  {
   "cell_type": "code",
   "execution_count": null,
   "metadata": {},
   "outputs": [],
   "source": [
    "for i in range(5):\n",
    "    for j in range(5):\n",
    "        print(i, j, end='\\t')\n",
    "    print()\n",
    "     \n",
    "    \n",
    "   \n",
    "  \n",
    "    "
   ]
  }
 ],
 "metadata": {
  "kernelspec": {
   "display_name": "Python 3",
   "language": "python",
   "name": "python3"
  },
  "language_info": {
   "codemirror_mode": {
    "name": "ipython",
    "version": 3
   },
   "file_extension": ".py",
   "mimetype": "text/x-python",
   "name": "python",
   "nbconvert_exporter": "python",
   "pygments_lexer": "ipython3",
   "version": "3.11.5"
  }
 },
 "nbformat": 4,
 "nbformat_minor": 2
}
