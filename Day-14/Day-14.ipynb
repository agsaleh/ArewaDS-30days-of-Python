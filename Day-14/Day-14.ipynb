{
 "cells": [
  {
   "cell_type": "markdown",
   "metadata": {},
   "source": [
    "# Day 14 Exercises\n",
    "### Exercise Level 1\n",
    "### Number 1: Difference between map, filter, and reduce."
   ]
  },
  {
   "cell_type": "markdown",
   "metadata": {},
   "source": [
    "### Map\n",
    "The _map()_ function is a built-in function that takes a function and iterable as parameters.\n",
    "\n",
    "### Filter\n",
    "The _filter()_ function calls the specified function which returns boolean for each item of the specified iterable (list). It filters the items that satisfy the filtering criteria.\n",
    "\n",
    "### Reduce\n",
    "The _reduce()_ function like map and filter it takes two parameters, a function and an iterable. However, it does not return another iterable, instead it returns a single value."
   ]
  },
  {
   "cell_type": "markdown",
   "metadata": {},
   "source": [
    "### Number 2: Difference between higher order function, closure and decorator"
   ]
  },
  {
   "cell_type": "markdown",
   "metadata": {},
   "source": [
    "### Higher Order \n",
    "_Higher Order_ is a function that either takes another function as an argument or returns a function.\n",
    "\n",
    "### Closure\n",
    "_Closure_ is created by nesting a function inside another encapsulating function and then returning the inner function. \n",
    "\n",
    "### Decorator\n",
    "A _Decorator_ is a design pattern in Python that allows a user to add new functionality to an existing object without modifying its structure."
   ]
  },
  {
   "cell_type": "markdown",
   "metadata": {},
   "source": [
    "### Number 3: Defining a call function before map, filter or reduce"
   ]
  },
  {
   "cell_type": "code",
   "execution_count": 1,
   "metadata": {},
   "outputs": [
    {
     "name": "stdout",
     "output_type": "stream",
     "text": [
      "25\n",
      "HELLO\n"
     ]
    }
   ],
   "source": [
    "def call_function(func, arg):\n",
    "    return func(arg)\n",
    "\n",
    "# Usage examples\n",
    "print(call_function(lambda x: x * x, 5))  # Output: 25\n",
    "print(call_function(str.upper, 'hello'))  # Output: 'HELLO'\n"
   ]
  },
  {
   "cell_type": "markdown",
   "metadata": {},
   "source": [
    "### 4: Using for loop to print each country in the countries list"
   ]
  },
  {
   "cell_type": "code",
   "execution_count": 2,
   "metadata": {},
   "outputs": [
    {
     "name": "stdout",
     "output_type": "stream",
     "text": [
      "Estonia\n",
      "Finland\n",
      "Sweden\n",
      "Denmark\n",
      "Norway\n",
      "Iceland\n"
     ]
    }
   ],
   "source": [
    "countries = ['Estonia', 'Finland', 'Sweden', 'Denmark', 'Norway', 'Iceland']\n",
    "for country in countries:\n",
    "    print(country)\n"
   ]
  },
  {
   "cell_type": "markdown",
   "metadata": {},
   "source": [
    "### 5: Using for loop to print each name in the names list"
   ]
  },
  {
   "cell_type": "code",
   "execution_count": 3,
   "metadata": {},
   "outputs": [
    {
     "name": "stdout",
     "output_type": "stream",
     "text": [
      "Asabeneh\n",
      "Lidiya\n",
      "Ermias\n",
      "Abraham\n"
     ]
    }
   ],
   "source": [
    "names = ['Asabeneh', 'Lidiya', 'Ermias', 'Abraham']\n",
    "for name in names:\n",
    "    print(name)\n"
   ]
  },
  {
   "cell_type": "markdown",
   "metadata": {},
   "source": [
    "### 6: Using for loop to print each number in the numbers list"
   ]
  },
  {
   "cell_type": "code",
   "execution_count": 4,
   "metadata": {},
   "outputs": [
    {
     "name": "stdout",
     "output_type": "stream",
     "text": [
      "1\n",
      "2\n",
      "3\n",
      "4\n",
      "5\n",
      "6\n",
      "7\n",
      "8\n",
      "9\n",
      "10\n"
     ]
    }
   ],
   "source": [
    "numbers = [1, 2, 3, 4, 5, 6, 7, 8, 9, 10]\n",
    "for number in numbers:\n",
    "    print(number)\n"
   ]
  },
  {
   "cell_type": "markdown",
   "metadata": {},
   "source": [
    "# Day 14 Exercises\n",
    "### Exercise Level 2\n",
    "### Number 1: Using map to create a new list by changing each country to uppercase in the countries list"
   ]
  },
  {
   "cell_type": "code",
   "execution_count": 5,
   "metadata": {},
   "outputs": [
    {
     "name": "stdout",
     "output_type": "stream",
     "text": [
      "['ESTONIA', 'FINLAND', 'SWEDEN', 'DENMARK', 'NORWAY', 'ICELAND']\n"
     ]
    }
   ],
   "source": [
    "countries = ['Estonia', 'Finland', 'Sweden', 'Denmark', 'Norway', 'Iceland']\n",
    "uppercase_countries = list(map(str.upper, countries))\n",
    "print(uppercase_countries)\n"
   ]
  },
  {
   "cell_type": "markdown",
   "metadata": {},
   "source": [
    "### Number 2: Using map to create a new list by changing each number to its square in the numbers list"
   ]
  },
  {
   "cell_type": "code",
   "execution_count": 6,
   "metadata": {},
   "outputs": [
    {
     "name": "stdout",
     "output_type": "stream",
     "text": [
      "[1, 4, 9, 16, 25, 36, 49, 64, 81, 100]\n"
     ]
    }
   ],
   "source": [
    "numbers = [1, 2, 3, 4, 5, 6, 7, 8, 9, 10]\n",
    "squared_numbers = list(map(lambda x: x * x, numbers))\n",
    "print(squared_numbers)\n"
   ]
  },
  {
   "cell_type": "markdown",
   "metadata": {},
   "source": [
    "### 3: Using map to change each name to uppercase in the names list"
   ]
  },
  {
   "cell_type": "code",
   "execution_count": 7,
   "metadata": {},
   "outputs": [
    {
     "name": "stdout",
     "output_type": "stream",
     "text": [
      "['ASABENEH', 'LIDIYA', 'ERMIAS', 'ABRAHAM']\n"
     ]
    }
   ],
   "source": [
    "names = ['Asabeneh', 'Lidiya', 'Ermias', 'Abraham']\n",
    "uppercase_names = list(map(str.upper, names))\n",
    "print(uppercase_names)\n"
   ]
  },
  {
   "cell_type": "markdown",
   "metadata": {},
   "source": [
    "### 4: Using filter to filter out countries containing 'land'"
   ]
  },
  {
   "cell_type": "code",
   "execution_count": 8,
   "metadata": {},
   "outputs": [
    {
     "name": "stdout",
     "output_type": "stream",
     "text": [
      "['Finland', 'Iceland']\n"
     ]
    }
   ],
   "source": [
    "countries = ['Estonia', 'Finland', 'Sweden', 'Denmark', 'Norway', 'Iceland']\n",
    "filtered_countries = list(filter(lambda country: 'land' in country.lower(), countries))\n",
    "print(filtered_countries)"
   ]
  },
  {
   "cell_type": "markdown",
   "metadata": {},
   "source": [
    "### 5: Using filter to filter out countries having exactly six characters"
   ]
  },
  {
   "cell_type": "code",
   "execution_count": 9,
   "metadata": {},
   "outputs": [
    {
     "name": "stdout",
     "output_type": "stream",
     "text": [
      "['Sweden', 'Norway']\n"
     ]
    }
   ],
   "source": [
    "countries = ['Estonia', 'Finland', 'Sweden', 'Denmark', 'Norway', 'Iceland']\n",
    "filtered_countries = list(filter(lambda country: len(country) == 6, countries))\n",
    "print(filtered_countries)\n"
   ]
  },
  {
   "cell_type": "markdown",
   "metadata": {},
   "source": [
    "### 6: Filtering out countries having exactly six characters or more"
   ]
  },
  {
   "cell_type": "code",
   "execution_count": 10,
   "metadata": {},
   "outputs": [
    {
     "name": "stdout",
     "output_type": "stream",
     "text": [
      "['Estonia', 'Finland', 'Sweden', 'Denmark', 'Norway', 'Iceland']\n"
     ]
    }
   ],
   "source": [
    "countries = ['Estonia', 'Finland', 'Sweden', 'Denmark', 'Norway', 'Iceland']\n",
    "filtered_countries = list(filter(lambda country: len(country) >= 6, countries))\n",
    "print(filtered_countries)\n"
   ]
  },
  {
   "cell_type": "markdown",
   "metadata": {},
   "source": [
    "### 7: Filtering out countries starting with an 'E'"
   ]
  },
  {
   "cell_type": "code",
   "execution_count": 11,
   "metadata": {},
   "outputs": [
    {
     "name": "stdout",
     "output_type": "stream",
     "text": [
      "['Estonia']\n"
     ]
    }
   ],
   "source": [
    "countries = ['Estonia', 'Finland', 'Sweden', 'Denmark', 'Norway', 'Iceland']\n",
    "filtered_countries = list(filter(lambda country: country.startswith('E'), countries))\n",
    "print(filtered_countries)\n"
   ]
  },
  {
   "cell_type": "markdown",
   "metadata": {},
   "source": [
    "### 8: Chaining two or more list iterators"
   ]
  },
  {
   "cell_type": "code",
   "execution_count": 12,
   "metadata": {},
   "outputs": [
    {
     "name": "stdout",
     "output_type": "stream",
     "text": [
      "[4, 16, 36, 64, 100]\n"
     ]
    }
   ],
   "source": [
    "# arr.map(callback).filter(callback).reduce(callback)).\n",
    "\n",
    "numbers = [1, 2, 3, 4, 5, 6, 7, 8, 9, 10]\n",
    "result = list(map(lambda x: x * x, filter(lambda x: x % 2 == 0, numbers)))\n",
    "print(result)"
   ]
  },
  {
   "cell_type": "markdown",
   "metadata": {},
   "source": [
    "### 9: Printing a list containing only string items"
   ]
  },
  {
   "cell_type": "code",
   "execution_count": 13,
   "metadata": {},
   "outputs": [
    {
     "name": "stdout",
     "output_type": "stream",
     "text": [
      "['apple', 'banana', 'orange']\n"
     ]
    }
   ],
   "source": [
    "def get_string_lists(lst):\n",
    "    return list(filter(lambda x: isinstance(x, str), lst))\n",
    "\n",
    "# Example usage:\n",
    "mixed_list = [1, 'apple', 'banana', 3.14, 'orange']\n",
    "strings_only = get_string_lists(mixed_list)\n",
    "print(strings_only)"
   ]
  },
  {
   "cell_type": "markdown",
   "metadata": {},
   "source": [
    "### 10: Using reduce to sum all the numbers in the numbers list"
   ]
  },
  {
   "cell_type": "code",
   "execution_count": 14,
   "metadata": {},
   "outputs": [
    {
     "name": "stdout",
     "output_type": "stream",
     "text": [
      "55\n"
     ]
    }
   ],
   "source": [
    "from functools import reduce\n",
    "\n",
    "numbers = [1, 2, 3, 4, 5, 6, 7, 8, 9, 10]\n",
    "sum_of_numbers = reduce(lambda x, y: x + y, numbers)\n",
    "print(sum_of_numbers)\n"
   ]
  },
  {
   "cell_type": "markdown",
   "metadata": {},
   "source": [
    "### 11: Using reduce to concatenate all countries "
   ]
  },
  {
   "cell_type": "code",
   "execution_count": 15,
   "metadata": {},
   "outputs": [
    {
     "name": "stdout",
     "output_type": "stream",
     "text": [
      "Estonia, Finland, Sweden, Denmark, Norway, Iceland are north European countries.\n"
     ]
    }
   ],
   "source": [
    "from functools import reduce\n",
    "\n",
    "countries = ['Estonia', 'Finland', 'Sweden', 'Denmark', 'Norway', 'Iceland']\n",
    "sentence = reduce(lambda x, y: f\"{x}, {y}\", countries)\n",
    "print(f\"{sentence} are north European countries.\")"
   ]
  },
  {
   "cell_type": "markdown",
   "metadata": {},
   "source": [
    "### 12: Declaring a function _categorize_countries_ that returns a list of countries with some common pattern"
   ]
  },
  {
   "cell_type": "code",
   "execution_count": 16,
   "metadata": {},
   "outputs": [
    {
     "name": "stdout",
     "output_type": "stream",
     "text": [
      "{'land': ['Finland', 'Iceland'], 'ia': ['Estonia'], 'island': [], 'stan': []}\n"
     ]
    }
   ],
   "source": [
    "def categorize_countries(country_list):\n",
    "    patterns = ['land', 'ia', 'island', 'stan']  \n",
    "    categorized = {pattern: [country for country in country_list if pattern.lower() in country.lower()] for pattern in patterns}\n",
    "    return categorized\n",
    "\n",
    "# Example usage:\n",
    "countries = ['Estonia', 'Finland', 'Sweden', 'Denmark', 'Norway', 'Iceland']\n",
    "result = categorize_countries(countries)\n",
    "print(result)\n"
   ]
  },
  {
   "cell_type": "markdown",
   "metadata": {},
   "source": [
    "### 13: Printing starting letters of countries and their numbers "
   ]
  },
  {
   "cell_type": "code",
   "execution_count": 17,
   "metadata": {},
   "outputs": [
    {
     "name": "stdout",
     "output_type": "stream",
     "text": [
      "{'E': 1, 'F': 1, 'S': 1, 'D': 1, 'N': 1, 'I': 1}\n"
     ]
    }
   ],
   "source": [
    "def countries_with_letter(country_list):\n",
    "    country_dict = {}\n",
    "    for country in country_list:\n",
    "        first_letter = country[0].upper()\n",
    "        if first_letter in country_dict:\n",
    "            country_dict[first_letter] += 1\n",
    "        else:\n",
    "            country_dict[first_letter] = 1\n",
    "    return country_dict\n",
    "\n",
    "# Example usage:\n",
    "countries = ['Estonia', 'Finland', 'Sweden', 'Denmark', 'Norway', 'Iceland']\n",
    "result = countries_with_letter(countries)\n",
    "print(result)\n"
   ]
  },
  {
   "cell_type": "markdown",
   "metadata": {},
   "source": [
    "### 14: Getting the first ten countries"
   ]
  },
  {
   "cell_type": "code",
   "execution_count": 18,
   "metadata": {},
   "outputs": [
    {
     "name": "stdout",
     "output_type": "stream",
     "text": [
      "['Estonia', 'Finland', 'Sweden', 'Denmark', 'Norway', 'Iceland']\n"
     ]
    }
   ],
   "source": [
    "def get_first_ten_countries(country_list):\n",
    "    return country_list[:10]\n",
    "\n",
    "# Example usage:\n",
    "countries = ['Estonia', 'Finland', 'Sweden', 'Denmark', 'Norway', 'Iceland']\n",
    "result = get_first_ten_countries(countries)\n",
    "print(result)\n"
   ]
  },
  {
   "cell_type": "markdown",
   "metadata": {},
   "source": [
    "### 15: Getting the last ten countries"
   ]
  },
  {
   "cell_type": "code",
   "execution_count": 19,
   "metadata": {},
   "outputs": [
    {
     "name": "stdout",
     "output_type": "stream",
     "text": [
      "['Estonia', 'Finland', 'Sweden', 'Denmark', 'Norway', 'Iceland']\n"
     ]
    }
   ],
   "source": [
    "def get_last_ten_countries(country_list):\n",
    "    return country_list[-10:]\n",
    "\n",
    "# Example usage:\n",
    "countries = ['Estonia', 'Finland', 'Sweden', 'Denmark', 'Norway', 'Iceland']\n",
    "result = get_last_ten_countries(countries)\n",
    "print(result)\n"
   ]
  },
  {
   "cell_type": "markdown",
   "metadata": {},
   "source": [
    "### Exercise Level 3\n",
    "### Number 1i: Sorting the countries by name, by capital and population"
   ]
  },
  {
   "cell_type": "code",
   "execution_count": 20,
   "metadata": {},
   "outputs": [
    {
     "ename": "ModuleNotFoundError",
     "evalue": "No module named 'countries_data'",
     "output_type": "error",
     "traceback": [
      "\u001b[1;31m---------------------------------------------------------------------------\u001b[0m",
      "\u001b[1;31mModuleNotFoundError\u001b[0m                       Traceback (most recent call last)",
      "Cell \u001b[1;32mIn[20], line 1\u001b[0m\n\u001b[1;32m----> 1\u001b[0m \u001b[38;5;28;01mfrom\u001b[39;00m \u001b[38;5;21;01mcountries_data\u001b[39;00m \u001b[38;5;28;01mimport\u001b[39;00m countries \n\u001b[0;32m      3\u001b[0m sorted_by_name \u001b[38;5;241m=\u001b[39m \u001b[38;5;28msorted\u001b[39m(countries, key\u001b[38;5;241m=\u001b[39m\u001b[38;5;28;01mlambda\u001b[39;00m x: x[\u001b[38;5;124m'\u001b[39m\u001b[38;5;124mname\u001b[39m\u001b[38;5;124m'\u001b[39m])\n\u001b[0;32m      4\u001b[0m \u001b[38;5;28mprint\u001b[39m(\u001b[38;5;124m\"\u001b[39m\u001b[38;5;124mCountries sorted by name:\u001b[39m\u001b[38;5;124m\"\u001b[39m)\n",
      "\u001b[1;31mModuleNotFoundError\u001b[0m: No module named 'countries_data'"
     ]
    }
   ],
   "source": [
    "from countries_data import countries \n",
    "\n",
    "sorted_by_name = sorted(countries, key=lambda x: x['name'])\n",
    "print(\"Countries sorted by name:\")\n",
    "for country in sorted_by_name:\n",
    "    print(country['name'])\n",
    "\n",
    "sorted_by_capital = sorted(countries, key=lambda x: x['capital'])\n",
    "print(\"\\nCountries sorted by capital:\")\n",
    "for country in sorted_by_capital:\n",
    "    print(country['name'], \"-\", country['capital'])\n",
    "\n",
    "sorted_by_population = sorted(countries, key=lambda x: x['population'], reverse=True)\n",
    "print(\"\\nCountries sorted by population:\")\n",
    "for country in sorted_by_population:\n",
    "    print(country['name'], \"-\", country['population'])\n"
   ]
  },
  {
   "cell_type": "markdown",
   "metadata": {},
   "source": [
    "### Number 1ii: Sorting the ten most spoken languages"
   ]
  },
  {
   "cell_type": "code",
   "execution_count": null,
   "metadata": {},
   "outputs": [],
   "source": [
    "from countries_data import countries \n",
    "\n",
    "all_languages = [lang for country in countries for lang in country['languages']]\n",
    "\n",
    "language_count = {lang: all_languages.count(lang) for lang in set(all_languages)}\n",
    "\n",
    "sorted_languages = sorted(language_count.items(), key=lambda x: x[1], reverse=True)[:10]\n",
    "\n",
    "print(\"Ten most spoken languages by location:\")\n",
    "for lang, count in sorted_languages:\n",
    "    print(f\"{lang}: {count}\")\n"
   ]
  },
  {
   "cell_type": "markdown",
   "metadata": {},
   "source": [
    "### Number 1iii: Sorting the ten most populated countries"
   ]
  },
  {
   "cell_type": "code",
   "execution_count": null,
   "metadata": {},
   "outputs": [],
   "source": [
    "from countries-data import countries \n",
    "\n",
    "sorted_by_population = sorted(countries, key=lambda x: x['population'], reverse=True)[:10]\n",
    "\n",
    "print(\"Ten most populated countries:\")\n",
    "for country in sorted_by_population:\n",
    "    print(f\"{country['name']}: {country['population']}\")"
   ]
  }
 ],
 "metadata": {
  "kernelspec": {
   "display_name": "Python 3",
   "language": "python",
   "name": "python3"
  },
  "language_info": {
   "codemirror_mode": {
    "name": "ipython",
    "version": 3
   },
   "file_extension": ".py",
   "mimetype": "text/x-python",
   "name": "python",
   "nbconvert_exporter": "python",
   "pygments_lexer": "ipython3",
   "version": "3.11.5"
  }
 },
 "nbformat": 4,
 "nbformat_minor": 2
}
