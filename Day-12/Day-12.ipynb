{
 "cells": [
  {
   "cell_type": "markdown",
   "metadata": {},
   "source": [
    "# Day 12 Exercises\n",
    "### Exercise Level 1\n",
    "### Exercise 1: Generating a six-digit random user ID"
   ]
  },
  {
   "cell_type": "code",
   "execution_count": 1,
   "metadata": {},
   "outputs": [
    {
     "name": "stdout",
     "output_type": "stream",
     "text": [
      "ws7Zzj\n"
     ]
    }
   ],
   "source": [
    "import random\n",
    "import string\n",
    "\n",
    "def random_user_id():\n",
    "    return ''.join(random.choices(string.ascii_letters + string.digits, k=6))\n",
    "\n",
    "print(random_user_id())"
   ]
  },
  {
   "cell_type": "markdown",
   "metadata": {},
   "source": [
    "### Exercise 2: Modifying the first function"
   ]
  },
  {
   "cell_type": "code",
   "execution_count": 2,
   "metadata": {},
   "outputs": [
    {
     "name": "stdout",
     "output_type": "stream",
     "text": [
      "['#M63Lt', '#YhEcl', '#OQlft', '#7eToB', '#SI81B']\n"
     ]
    }
   ],
   "source": [
    "def user_id_gen_by_user():\n",
    "    length = int(input('Enter the Number of Characters for each ID: '))\n",
    "    count = int(input('Enter the Number of IDs to generate:'))\n",
    "\n",
    "    user_ids = []\n",
    "    for _ in range(count):\n",
    "        user_ids.append('#' + ''.join(random.choices(string.ascii_letters + string.digits, k=length)))\n",
    "    return user_ids\n",
    "\n",
    "print(user_id_gen_by_user())"
   ]
  },
  {
   "cell_type": "markdown",
   "metadata": {},
   "source": [
    "### Exercise 3: RGB colours"
   ]
  },
  {
   "cell_type": "code",
   "execution_count": 3,
   "metadata": {},
   "outputs": [
    {
     "name": "stdout",
     "output_type": "stream",
     "text": [
      "(81, 93, 4)\n"
     ]
    }
   ],
   "source": [
    "def rgb_color_gen():\n",
    "    return tuple(random.randint(0, 255) for _ in range(3))\n",
    "\n",
    "print(rgb_color_gen())"
   ]
  },
  {
   "cell_type": "markdown",
   "metadata": {},
   "source": [
    "### Exercise Level 2\n",
    "### Exercise 1: Generating hexadecimal colours"
   ]
  },
  {
   "cell_type": "code",
   "execution_count": 4,
   "metadata": {},
   "outputs": [
    {
     "name": "stdout",
     "output_type": "stream",
     "text": [
      "['#403f96', '#fd92ce', '#217681', '#d91603', '#87193b']\n"
     ]
    }
   ],
   "source": [
    "def list_of_hexa_colors(color_num):\n",
    "    hex_colors = ['#' + ''.join(random.choices('0123456789abcdef', k=6)) for _ in range(color_num)]\n",
    "    return hex_colors\n",
    "\n",
    "print(list_of_hexa_colors(5))"
   ]
  },
  {
   "cell_type": "markdown",
   "metadata": {},
   "source": [
    "### Exercise 2: Generating a list of colours"
   ]
  },
  {
   "cell_type": "code",
   "execution_count": 5,
   "metadata": {},
   "outputs": [
    {
     "name": "stdout",
     "output_type": "stream",
     "text": [
      "[(147, 45, 186), (172, 13, 176), (250, 194, 131)]\n"
     ]
    }
   ],
   "source": [
    "def gen_colours(color_num):\n",
    "    col_rgb = [tuple(random.randint(0, 255) for _ in range(3)) for _ in range(color_num)]\n",
    "    return col_rgb\n",
    "\n",
    "print(gen_colours(3))"
   ]
  },
  {
   "cell_type": "markdown",
   "metadata": {},
   "source": [
    "### Exercise 3: Generating any number of hexa or rgb colours"
   ]
  },
  {
   "cell_type": "code",
   "execution_count": 6,
   "metadata": {},
   "outputs": [],
   "source": [
    "def gen_colours(col_type, col_num):\n",
    "    if col_type == 'hexa':\n",
    "        return list_of_hexa_colors(col_num)\n",
    "    elif col_type == 'rgb':\n",
    "        return rgb_color_gen(col_num)\n",
    "    else:\n",
    "        return 'Invalid Colour Type'\n",
    "    \n",
    "    print(gen_colours('hexa', 3))\n",
    "    print(gen_colours('rgb', 1))"
   ]
  },
  {
   "cell_type": "markdown",
   "metadata": {},
   "source": [
    "### Exercise Level 3\n",
    "### Exercise 1: Shuffling a list"
   ]
  },
  {
   "cell_type": "code",
   "execution_count": 7,
   "metadata": {},
   "outputs": [],
   "source": [
    "def shuffle_list(my_list):\n",
    "    shuffled = my_list[:]\n",
    "    random.shuffle(shuffled)\n",
    "    return shuffled\n"
   ]
  },
  {
   "cell_type": "markdown",
   "metadata": {},
   "source": [
    "### Exercise 2: Generating an array of 7 unique random numbers"
   ]
  },
  {
   "cell_type": "code",
   "execution_count": 8,
   "metadata": {},
   "outputs": [],
   "source": [
    "def unique_rn():\n",
    "    return random.sample(range(10), 7)"
   ]
  }
 ],
 "metadata": {
  "kernelspec": {
   "display_name": "Python 3",
   "language": "python",
   "name": "python3"
  },
  "language_info": {
   "codemirror_mode": {
    "name": "ipython",
    "version": 3
   },
   "file_extension": ".py",
   "mimetype": "text/x-python",
   "name": "python",
   "nbconvert_exporter": "python",
   "pygments_lexer": "ipython3",
   "version": "3.11.5"
  }
 },
 "nbformat": 4,
 "nbformat_minor": 2
}
