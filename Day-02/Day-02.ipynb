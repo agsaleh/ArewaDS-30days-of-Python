{
 "cells": [
  {
   "cell_type": "markdown",
   "metadata": {},
   "source": [
    "# Exercise Level I & II\n",
    "\n",
    "### Declaring Variables"
   ]
  },
  {
   "cell_type": "code",
   "execution_count": 15,
   "metadata": {},
   "outputs": [
    {
     "name": "stdout",
     "output_type": "stream",
     "text": [
      "Abubakar Saleh Nigeria 300 True\n"
     ]
    }
   ],
   "source": [
    "\n",
    "first_name = 'Abubakar'\n",
    "last_name = 'Saleh'\n",
    "full_name = 'Abubakar Saleh'\n",
    "country = 'Nigeria'\n",
    "city = 'Bauchi'\n",
    "age = 300\n",
    "year = 2023\n",
    "is_married = False\n",
    "is_true = True\n",
    "is_light = True\n",
    "\n",
    "# Declaring multiple variables in one line\n",
    "\n",
    "first_name, last_name, country, age, is_married = 'Abubakar', 'Saleh', 'Nigeria', '300', True\n",
    "\n",
    "print(first_name, last_name, country, age, is_married)\n"
   ]
  },
  {
   "cell_type": "markdown",
   "metadata": {},
   "source": [
    "### Checking the Datatpe of Variable\n",
    "\n"
   ]
  },
  {
   "cell_type": "code",
   "execution_count": 16,
   "metadata": {},
   "outputs": [
    {
     "name": "stdout",
     "output_type": "stream",
     "text": [
      "<class 'str'>\n",
      "<class 'str'>\n",
      "<class 'str'>\n",
      "<class 'str'>\n",
      "<class 'str'>\n",
      "<class 'str'>\n",
      "<class 'int'>\n",
      "<class 'bool'>\n",
      "<class 'bool'>\n",
      "<class 'bool'>\n"
     ]
    }
   ],
   "source": [
    "print(type(first_name))\n",
    "print(type(last_name))\n",
    "print(type(full_name)) \n",
    "print(type(country))\n",
    "print(type(city))\n",
    "print(type(age))\n",
    "print(type(year))\n",
    "print(type(is_married))\n",
    "print(type(is_true))\n",
    "print(type(is_light))"
   ]
  },
  {
   "cell_type": "markdown",
   "metadata": {},
   "source": [
    "### Finding the Lehgth of first name\n",
    "\n"
   ]
  },
  {
   "cell_type": "code",
   "execution_count": 17,
   "metadata": {},
   "outputs": [
    {
     "name": "stdout",
     "output_type": "stream",
     "text": [
      "8\n"
     ]
    }
   ],
   "source": [
    "print(len(first_name))"
   ]
  },
  {
   "cell_type": "markdown",
   "metadata": {},
   "source": [
    "### Varialbe declaration & assignment\n",
    "\n"
   ]
  },
  {
   "cell_type": "code",
   "execution_count": 18,
   "metadata": {},
   "outputs": [
    {
     "name": "stdout",
     "output_type": "stream",
     "text": [
      "The total is: 9\n",
      "The difference is: -1\n",
      "The product is: 20\n",
      "The division is: 1.25\n",
      "The remainder is: 4\n",
      "The exponential is: 625\n",
      "The floor division is: 1\n"
     ]
    }
   ],
   "source": [
    "num_one = 5\n",
    "num_two = 4\n",
    "total = num_one + num_two\n",
    "diff = num_two - num_one\n",
    "product = num_two * num_one\n",
    "division = num_one / num_two\n",
    "remainder = num_two % num_one\n",
    "exp = num_one ** num_two\n",
    "floor_division = num_one // num_two\n",
    "\n",
    "print('The total is:',total)\n",
    "print('The difference is:', diff)\n",
    "print('The product is:', product)\n",
    "print('The division is:', division)\n",
    "print('The remainder is:', remainder)\n",
    "print('The exponential is:', exp)\n",
    "print('The floor division is:', floor_division)"
   ]
  },
  {
   "cell_type": "markdown",
   "metadata": {},
   "source": [
    "### Area of a Circle\n",
    "\n",
    "\n"
   ]
  },
  {
   "cell_type": "code",
   "execution_count": 19,
   "metadata": {},
   "outputs": [
    {
     "name": "stdout",
     "output_type": "stream",
     "text": [
      "Area of the circle: 2827.431\n"
     ]
    }
   ],
   "source": [
    "radius = 30\n",
    "area_of_circle = 3.14159 * radius ** 2\n",
    "print(\"Area of the circle:\", area_of_circle)"
   ]
  },
  {
   "cell_type": "markdown",
   "metadata": {},
   "source": [
    "### Circumference of a Circle\n"
   ]
  },
  {
   "cell_type": "code",
   "execution_count": 20,
   "metadata": {},
   "outputs": [
    {
     "name": "stdout",
     "output_type": "stream",
     "text": [
      "Circumference of the circle: 188.4954\n"
     ]
    }
   ],
   "source": [
    "circum_of_circle = 2 * 3.14159 * radius\n",
    "print('Circumference of the circle:', circum_of_circle)"
   ]
  },
  {
   "cell_type": "markdown",
   "metadata": {},
   "source": [
    "### Taking radius as user input"
   ]
  },
  {
   "cell_type": "code",
   "execution_count": 21,
   "metadata": {},
   "outputs": [
    {
     "name": "stdout",
     "output_type": "stream",
     "text": [
      "Area of the circle is: 491.88960000000003\n"
     ]
    }
   ],
   "source": [
    "radius1 = float(input('Enter radius:' ))\n",
    "area_of_circle1 = 3.4159 * radius1 ** 2\n",
    "print('Area of the circle is:', area_of_circle1)"
   ]
  },
  {
   "cell_type": "markdown",
   "metadata": {},
   "source": [
    "### Using built-in function to get first name, last name, country, and age\n"
   ]
  },
  {
   "cell_type": "code",
   "execution_count": 22,
   "metadata": {},
   "outputs": [
    {
     "name": "stdout",
     "output_type": "stream",
     "text": [
      "First Name: Abubakar\n",
      "Last Name: Saleh\n",
      "Country: Nigeria\n",
      "Age: 300\n"
     ]
    }
   ],
   "source": [
    "input('Enter First Name:')\n",
    "input('Enter Last Name:')\n",
    "input('Country:')\n",
    "input('Enter Age:')\n",
    "\n",
    "print('First Name:', first_name)\n",
    "print('Last Name:', last_name)\n",
    "print('Country:', country)\n",
    "print('Age:', age)"
   ]
  }
 ],
 "metadata": {
  "kernelspec": {
   "display_name": "Python 3",
   "language": "python",
   "name": "python3"
  },
  "language_info": {
   "codemirror_mode": {
    "name": "ipython",
    "version": 3
   },
   "file_extension": ".py",
   "mimetype": "text/x-python",
   "name": "python",
   "nbconvert_exporter": "python",
   "pygments_lexer": "ipython3",
   "version": "3.11.5"
  }
 },
 "nbformat": 4,
 "nbformat_minor": 2
}
