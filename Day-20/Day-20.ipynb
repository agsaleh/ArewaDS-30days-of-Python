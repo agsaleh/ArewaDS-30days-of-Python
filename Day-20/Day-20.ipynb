{
 "cells": [
  {
   "cell_type": "markdown",
   "metadata": {},
   "source": [
    "# Day 20 Exercise\n",
    "### Exercise Number 1: Ten most frequent words"
   ]
  },
  {
   "cell_type": "code",
   "execution_count": 4,
   "metadata": {},
   "outputs": [
    {
     "name": "stdout",
     "output_type": "stream",
     "text": [
      "[('the', 5), ('gutenberg', 4), ('to', 4), ('you', 4), ('project', 3), ('about', 3), ('contact', 3), ('of', 3), ('and', 3), ('help', 3)]\n"
     ]
    }
   ],
   "source": [
    "import requests\n",
    "from bs4 import BeautifulSoup\n",
    "from collections import Counter\n",
    "import re\n",
    "\n",
    "def find_most_frequent_words_url(url, limit):\n",
    "    response = requests.get(url)\n",
    "    soup = BeautifulSoup(response.text, 'html.parser')\n",
    "    text = ' '.join(soup.get_text().split()) \n",
    "    words = re.findall(r'\\b\\w+\\b', text.lower())\n",
    "    word_count = Counter(words)\n",
    "    return word_count.most_common(limit)\n",
    "\n",
    "\n",
    "print(find_most_frequent_words_url('http://www.gutenberg.org/files/1112/1112.txt', 10))\n"
   ]
  },
  {
   "cell_type": "markdown",
   "metadata": {},
   "source": [
    "### Number 2: Reading the cats API"
   ]
  },
  {
   "cell_type": "code",
   "execution_count": 5,
   "metadata": {},
   "outputs": [
    {
     "name": "stdout",
     "output_type": "stream",
     "text": [
      "({}, {'min': 8.0, 'max': 18.0, 'mean': 12.074626865671641, 'median': 12.0, 'std_dev': 1.814645500809068})\n"
     ]
    }
   ],
   "source": [
    "\n",
    "import requests\n",
    "import numpy as np\n",
    "\n",
    "def analyze_cats(api_url):\n",
    "    response = requests.get(api_url)\n",
    "    data = response.json()\n",
    "\n",
    "    # Extracting weights and lifespans\n",
    "    weights = [cat['weight']['metric'][:-3] for cat in data if 'weight' in cat and cat['weight']['metric'][:-3].replace('.', '').isdigit()]\n",
    "    lifespans = [cat['life_span'].split()[0] for cat in data if 'life_span' in cat]\n",
    "\n",
    "    # Convert strings to numerical values for analysis\n",
    "    weights = np.array(weights, dtype=float)\n",
    "    lifespans = np.array(lifespans, dtype=float)\n",
    "\n",
    "    # Calculate statistics\n",
    "    weight_stats = {}\n",
    "    lifespan_stats = {}\n",
    "\n",
    "    if len(weights) > 0:\n",
    "        weight_stats = {\n",
    "            'min': np.min(weights),\n",
    "            'max': np.max(weights),\n",
    "            'mean': np.mean(weights),\n",
    "            'median': np.median(weights),\n",
    "            'std_dev': np.std(weights)\n",
    "        }\n",
    "        \n",
    "    if len(lifespans) > 0:\n",
    "        lifespan_stats = {\n",
    "            'min': np.min(lifespans),\n",
    "            'max': np.max(lifespans),\n",
    "            'mean': np.mean(lifespans),\n",
    "            'median': np.median(lifespans),\n",
    "            'std_dev': np.std(lifespans)\n",
    "        }\n",
    "\n",
    "    return weight_stats, lifespan_stats\n",
    "\n",
    "\n",
    "print(analyze_cats('https://api.thecatapi.com/v1/breeds'))\n",
    "    "
   ]
  },
  {
   "cell_type": "markdown",
   "metadata": {},
   "source": [
    "### Number 3: Reading Countries API"
   ]
  },
  {
   "cell_type": "code",
   "execution_count": 6,
   "metadata": {},
   "outputs": [
    {
     "name": "stdout",
     "output_type": "stream",
     "text": [
      "[{'name': 'Russian Federation', 'topLevelDomain': ['.ru'], 'alpha2Code': 'RU', 'alpha3Code': 'RUS', 'callingCodes': ['7'], 'capital': 'Moscow', 'altSpellings': ['RU', 'Rossiya', 'Russian Federation', 'Российская Федерация', 'Rossiyskaya Federatsiya'], 'subregion': 'Eastern Europe', 'region': 'Europe', 'population': 144104080, 'latlng': [60.0, 100.0], 'demonym': 'Russian', 'area': 17124442.0, 'gini': 37.5, 'timezones': ['UTC+03:00', 'UTC+04:00', 'UTC+06:00', 'UTC+07:00', 'UTC+08:00', 'UTC+09:00', 'UTC+10:00', 'UTC+11:00', 'UTC+12:00'], 'borders': ['AZE', 'BLR', 'CHN', 'EST', 'FIN', 'GEO', 'KAZ', 'PRK', 'LVA', 'LTU', 'MNG', 'NOR', 'POL', 'UKR'], 'nativeName': 'Россия', 'numericCode': '643', 'flags': {'svg': 'https://flagcdn.com/ru.svg', 'png': 'https://flagcdn.com/w320/ru.png'}, 'currencies': [{'code': 'RUB', 'name': 'Russian ruble', 'symbol': '₽'}], 'languages': [{'iso639_1': 'ru', 'iso639_2': 'rus', 'name': 'Russian', 'nativeName': 'Русский'}], 'translations': {'br': 'Rusia', 'pt': 'Rússia', 'nl': 'Rusland', 'hr': 'Rusija', 'fa': 'روسیه', 'de': 'Russland', 'es': 'Rusia', 'fr': 'Russie', 'ja': 'ロシア連邦', 'it': 'Russia', 'hu': 'Oroszország'}, 'flag': 'https://flagcdn.com/ru.svg', 'regionalBlocs': [{'acronym': 'EEU', 'name': 'Eurasian Economic Union', 'otherAcronyms': ['EAEU']}], 'cioc': 'RUS', 'independent': True}, {'name': 'Antarctica', 'topLevelDomain': ['.aq'], 'alpha2Code': 'AQ', 'alpha3Code': 'ATA', 'callingCodes': ['672'], 'subregion': 'Antarctica', 'region': 'Polar', 'population': 1000, 'latlng': [-74.65, 4.48], 'demonym': 'Antarctic', 'area': 14000000.0, 'timezones': ['UTC-03:00', 'UTC+03:00', 'UTC+05:00', 'UTC+06:00', 'UTC+07:00', 'UTC+08:00', 'UTC+10:00', 'UTC+12:00'], 'nativeName': 'Antarctica', 'numericCode': '010', 'flags': {'svg': 'https://flagcdn.com/aq.svg', 'png': 'https://flagcdn.com/w320/aq.png'}, 'languages': [{'iso639_1': 'en', 'iso639_2': 'eng', 'name': 'English', 'nativeName': 'English'}, {'iso639_1': 'ru', 'iso639_2': 'rus', 'name': 'Russian', 'nativeName': 'Русский'}], 'translations': {'br': 'Antarktika', 'pt': 'Antárctida', 'nl': 'Antarctica', 'hr': 'Antarktika', 'fa': 'جنوبگان', 'de': 'Antarktika', 'es': 'Antártida', 'fr': 'Antarctique', 'ja': '南極大陸', 'it': 'Antartide', 'hu': 'Antarktisz'}, 'flag': 'https://flagcdn.com/aq.svg', 'independent': False}, {'name': 'Canada', 'topLevelDomain': ['.ca'], 'alpha2Code': 'CA', 'alpha3Code': 'CAN', 'callingCodes': ['1'], 'capital': 'Ottawa', 'altSpellings': ['CA'], 'subregion': 'Northern America', 'region': 'Americas', 'population': 38005238, 'latlng': [60.0, -95.0], 'demonym': 'Canadian', 'area': 9984670.0, 'gini': 33.3, 'timezones': ['UTC-08:00', 'UTC-07:00', 'UTC-06:00', 'UTC-05:00', 'UTC-04:00', 'UTC-03:30'], 'borders': ['USA'], 'nativeName': 'Canada', 'numericCode': '124', 'flags': {'svg': 'https://flagcdn.com/ca.svg', 'png': 'https://flagcdn.com/w320/ca.png'}, 'currencies': [{'code': 'CAD', 'name': 'Canadian dollar', 'symbol': '$'}], 'languages': [{'iso639_1': 'en', 'iso639_2': 'eng', 'name': 'English', 'nativeName': 'English'}, {'iso639_1': 'fr', 'iso639_2': 'fra', 'name': 'French', 'nativeName': 'français'}], 'translations': {'br': 'Kanada', 'pt': 'Canadá', 'nl': 'Canada', 'hr': 'Kanada', 'fa': 'کانادا', 'de': 'Kanada', 'es': 'Canadá', 'fr': 'Canada', 'ja': 'カナダ', 'it': 'Canada', 'hu': 'Kanada'}, 'flag': 'https://flagcdn.com/ca.svg', 'regionalBlocs': [{'acronym': 'NAFTA', 'name': 'North American Free Trade Agreement', 'otherNames': ['Tratado de Libre Comercio de América del Norte', 'Accord de Libre-échange Nord-Américain']}], 'cioc': 'CAN', 'independent': True}, {'name': 'China', 'topLevelDomain': ['.cn'], 'alpha2Code': 'CN', 'alpha3Code': 'CHN', 'callingCodes': ['86'], 'capital': 'Beijing', 'altSpellings': ['CN', 'Zhōngguó', 'Zhongguo', 'Zhonghua', \"People's Republic of China\", '中华人民共和国', 'Zhōnghuá Rénmín Gònghéguó'], 'subregion': 'Eastern Asia', 'region': 'Asia', 'population': 1402112000, 'latlng': [35.0, 105.0], 'demonym': 'Chinese', 'area': 9640011.0, 'gini': 38.5, 'timezones': ['UTC+08:00'], 'borders': ['AFG', 'BTN', 'MMR', 'HKG', 'IND', 'KAZ', 'PRK', 'KGZ', 'LAO', 'MAC', 'MNG', 'PAK', 'RUS', 'TJK', 'VNM', 'NPL'], 'nativeName': '中国', 'numericCode': '156', 'flags': {'svg': 'https://flagcdn.com/cn.svg', 'png': 'https://flagcdn.com/w320/cn.png'}, 'currencies': [{'code': 'CNY', 'name': 'Chinese yuan', 'symbol': '¥'}], 'languages': [{'iso639_1': 'zh', 'iso639_2': 'zho', 'name': 'Chinese', 'nativeName': '中文 (Zhōngwén)'}], 'translations': {'br': 'Sina', 'pt': 'China', 'nl': 'China', 'hr': 'Kina', 'fa': 'چین', 'de': 'China', 'es': 'China', 'fr': 'Chine', 'ja': '中国', 'it': 'Cina', 'hu': 'Kína'}, 'flag': 'https://flagcdn.com/cn.svg', 'cioc': 'CHN', 'independent': True}, {'name': 'United States of America', 'topLevelDomain': ['.us'], 'alpha2Code': 'US', 'alpha3Code': 'USA', 'callingCodes': ['1'], 'capital': 'Washington, D.C.', 'altSpellings': ['US', 'USA', 'United States of America'], 'subregion': 'Northern America', 'region': 'Americas', 'population': 329484123, 'latlng': [38.0, -97.0], 'demonym': 'American', 'area': 9629091.0, 'gini': 41.4, 'timezones': ['UTC-12:00', 'UTC-11:00', 'UTC-10:00', 'UTC-09:00', 'UTC-08:00', 'UTC-07:00', 'UTC-06:00', 'UTC-05:00', 'UTC-04:00', 'UTC+10:00', 'UTC+12:00'], 'borders': ['CAN', 'MEX'], 'nativeName': 'United States', 'numericCode': '840', 'flags': {'svg': 'https://flagcdn.com/us.svg', 'png': 'https://flagcdn.com/w320/us.png'}, 'currencies': [{'code': 'USD', 'name': 'United States dollar', 'symbol': '$'}], 'languages': [{'iso639_1': 'en', 'iso639_2': 'eng', 'name': 'English', 'nativeName': 'English'}], 'translations': {'br': 'Stadoù-Unanet', 'pt': 'Estados Unidos', 'nl': 'Verenigde Staten', 'hr': 'Sjedinjene Američke Države', 'fa': 'ایالات متحده آمریکا', 'de': 'Vereinigte Staaten von Amerika', 'es': 'Estados Unidos', 'fr': 'États-Unis', 'ja': 'アメリカ合衆国', 'it': \"Stati Uniti D'America\", 'hu': 'Amerikai Egyesült Államok'}, 'flag': 'https://flagcdn.com/us.svg', 'regionalBlocs': [{'acronym': 'NAFTA', 'name': 'North American Free Trade Agreement', 'otherNames': ['Tratado de Libre Comercio de América del Norte', 'Accord de Libre-échange Nord-Américain']}], 'cioc': 'USA', 'independent': True}, {'name': 'Brazil', 'topLevelDomain': ['.br'], 'alpha2Code': 'BR', 'alpha3Code': 'BRA', 'callingCodes': ['55'], 'capital': 'Brasília', 'altSpellings': ['BR', 'Brasil', 'Federative Republic of Brazil', 'República Federativa do Brasil'], 'subregion': 'South America', 'region': 'Americas', 'population': 212559409, 'latlng': [-10.0, -55.0], 'demonym': 'Brazilian', 'area': 8515767.0, 'gini': 53.4, 'timezones': ['UTC-05:00', 'UTC-04:00', 'UTC-03:00', 'UTC-02:00'], 'borders': ['ARG', 'BOL', 'COL', 'FRA', 'GUF', 'GUY', 'PRY', 'PER', 'SUR', 'URY', 'VEN'], 'nativeName': 'Brasil', 'numericCode': '076', 'flags': {'svg': 'https://flagcdn.com/br.svg', 'png': 'https://flagcdn.com/w320/br.png'}, 'currencies': [{'code': 'BRL', 'name': 'Brazilian real', 'symbol': 'R$'}], 'languages': [{'iso639_1': 'pt', 'iso639_2': 'por', 'name': 'Portuguese', 'nativeName': 'Português'}], 'translations': {'br': 'Brazil', 'pt': 'Brasil', 'nl': 'Brazilië', 'hr': 'Brazil', 'fa': 'برزیل', 'de': 'Brasilien', 'es': 'Brasil', 'fr': 'Brésil', 'ja': 'ブラジル', 'it': 'Brasile', 'hu': 'Brazília'}, 'flag': 'https://flagcdn.com/br.svg', 'regionalBlocs': [{'acronym': 'USAN', 'name': 'Union of South American Nations', 'otherAcronyms': ['UNASUR', 'UNASUL', 'UZAN'], 'otherNames': ['Unión de Naciones Suramericanas', 'União de Nações Sul-Americanas', 'Unie van Zuid-Amerikaanse Naties', 'South American Union']}], 'cioc': 'BRA', 'independent': True}, {'name': 'Australia', 'topLevelDomain': ['.au'], 'alpha2Code': 'AU', 'alpha3Code': 'AUS', 'callingCodes': ['61'], 'capital': 'Canberra', 'altSpellings': ['AU'], 'subregion': 'Australia and New Zealand', 'region': 'Oceania', 'population': 25687041, 'latlng': [-27.0, 133.0], 'demonym': 'Australian', 'area': 7692024.0, 'gini': 34.4, 'timezones': ['UTC+05:00', 'UTC+06:30', 'UTC+07:00', 'UTC+08:00', 'UTC+09:30', 'UTC+10:00', 'UTC+10:30', 'UTC+11:30'], 'nativeName': 'Australia', 'numericCode': '036', 'flags': {'svg': 'https://flagcdn.com/au.svg', 'png': 'https://flagcdn.com/w320/au.png'}, 'currencies': [{'code': 'AUD', 'name': 'Australian dollar', 'symbol': '$'}], 'languages': [{'iso639_1': 'en', 'iso639_2': 'eng', 'name': 'English', 'nativeName': 'English'}], 'translations': {'br': 'Aostralia', 'pt': 'Austrália', 'nl': 'Australië', 'hr': 'Australija', 'fa': 'استرالیا', 'de': 'Australien', 'es': 'Australia', 'fr': 'Australie', 'ja': 'オーストラリア', 'it': 'Australia', 'hu': 'Ausztrália'}, 'flag': 'https://flagcdn.com/au.svg', 'cioc': 'AUS', 'independent': True}, {'name': 'India', 'topLevelDomain': ['.in'], 'alpha2Code': 'IN', 'alpha3Code': 'IND', 'callingCodes': ['91'], 'capital': 'New Delhi', 'altSpellings': ['IN', 'Bhārat', 'Republic of India', 'Bharat Ganrajya'], 'subregion': 'Southern Asia', 'region': 'Asia', 'population': 1380004385, 'latlng': [20.0, 77.0], 'demonym': 'Indian', 'area': 3287590.0, 'gini': 35.7, 'timezones': ['UTC+05:30'], 'borders': ['AFG', 'BGD', 'BTN', 'MMR', 'CHN', 'NPL', 'PAK', 'LKA'], 'nativeName': 'भारत', 'numericCode': '356', 'flags': {'svg': 'https://flagcdn.com/in.svg', 'png': 'https://flagcdn.com/w320/in.png'}, 'currencies': [{'code': 'INR', 'name': 'Indian rupee', 'symbol': '₹'}], 'languages': [{'iso639_1': 'hi', 'iso639_2': 'hin', 'name': 'Hindi', 'nativeName': 'हिन्दी'}, {'iso639_1': 'en', 'iso639_2': 'eng', 'name': 'English', 'nativeName': 'English'}], 'translations': {'br': 'India', 'pt': 'Índia', 'nl': 'India', 'hr': 'Indija', 'fa': 'هند', 'de': 'Indien', 'es': 'India', 'fr': 'Inde', 'ja': 'インド', 'it': 'India', 'hu': 'India'}, 'flag': 'https://flagcdn.com/in.svg', 'regionalBlocs': [{'acronym': 'SAARC', 'name': 'South Asian Association for Regional Cooperation'}], 'cioc': 'IND', 'independent': True}, {'name': 'Argentina', 'topLevelDomain': ['.ar'], 'alpha2Code': 'AR', 'alpha3Code': 'ARG', 'callingCodes': ['54'], 'capital': 'Buenos Aires', 'altSpellings': ['AR', 'Argentine Republic', 'República Argentina'], 'subregion': 'South America', 'region': 'Americas', 'population': 45376763, 'latlng': [-34.0, -64.0], 'demonym': 'Argentinean', 'area': 2780400.0, 'gini': 42.9, 'timezones': ['UTC-03:00'], 'borders': ['BOL', 'BRA', 'CHL', 'PRY', 'URY'], 'nativeName': 'Argentina', 'numericCode': '032', 'flags': {'svg': 'https://flagcdn.com/ar.svg', 'png': 'https://flagcdn.com/w320/ar.png'}, 'currencies': [{'code': 'ARS', 'name': 'Argentine peso', 'symbol': '$'}], 'languages': [{'iso639_1': 'es', 'iso639_2': 'spa', 'name': 'Spanish', 'nativeName': 'Español'}, {'iso639_1': 'gn', 'iso639_2': 'grn', 'name': 'Guaraní', 'nativeName': \"Avañe'ẽ\"}], 'translations': {'br': \"Arc'hantina\", 'pt': 'Argentina', 'nl': 'Argentinië', 'hr': 'Argentina', 'fa': 'آرژانتین', 'de': 'Argentinien', 'es': 'Argentina', 'fr': 'Argentine', 'ja': 'アルゼンチン', 'it': 'Argentina', 'hu': 'Argentína'}, 'flag': 'https://flagcdn.com/ar.svg', 'regionalBlocs': [{'acronym': 'USAN', 'name': 'Union of South American Nations', 'otherAcronyms': ['UNASUR', 'UNASUL', 'UZAN'], 'otherNames': ['Unión de Naciones Suramericanas', 'União de Nações Sul-Americanas', 'Unie van Zuid-Amerikaanse Naties', 'South American Union']}], 'cioc': 'ARG', 'independent': True}, {'name': 'Kazakhstan', 'topLevelDomain': ['.kz', '.қаз'], 'alpha2Code': 'KZ', 'alpha3Code': 'KAZ', 'callingCodes': ['76', '77'], 'capital': 'Nur-Sultan', 'altSpellings': ['KZ', 'Qazaqstan', 'Казахстан', 'Republic of Kazakhstan', 'Қазақстан Республикасы', 'Qazaqstan Respublïkası', 'Республика Казахстан', 'Respublika Kazakhstan'], 'subregion': 'Central Asia', 'region': 'Asia', 'population': 18754440, 'latlng': [48.0, 68.0], 'demonym': 'Kazakhstani', 'area': 2724900.0, 'gini': 27.8, 'timezones': ['UTC+05:00', 'UTC+06:00'], 'borders': ['CHN', 'KGZ', 'RUS', 'TKM', 'UZB'], 'nativeName': 'Қазақстан', 'numericCode': '398', 'flags': {'svg': 'https://flagcdn.com/kz.svg', 'png': 'https://flagcdn.com/w320/kz.png'}, 'currencies': [{'code': 'KZT', 'name': 'Kazakhstani tenge', 'symbol': '₸'}], 'languages': [{'iso639_1': 'kk', 'iso639_2': 'kaz', 'name': 'Kazakh', 'nativeName': 'қазақ тілі'}, {'iso639_1': 'ru', 'iso639_2': 'rus', 'name': 'Russian', 'nativeName': 'Русский'}], 'translations': {'br': 'Kazakstan', 'pt': 'Cazaquistão', 'nl': 'Kazachstan', 'hr': 'Kazahstan', 'fa': 'قزاقستان', 'de': 'Kasachstan', 'es': 'Kazajistán', 'fr': 'Kazakhstan', 'ja': 'カザフスタン', 'it': 'Kazakistan', 'hu': 'Kazahsztán'}, 'flag': 'https://flagcdn.com/kz.svg', 'regionalBlocs': [{'acronym': 'EEU', 'name': 'Eurasian Economic Union', 'otherAcronyms': ['EAEU']}], 'cioc': 'KAZ', 'independent': True}]\n",
      "[('English', 91), ('French', 45), ('Arabic', 25), ('Spanish', 24), ('Portuguese', 10), ('Russian', 8), ('Dutch', 8), ('German', 7), ('Chinese', 5), ('Serbian', 4)]\n",
      "The total languages are: 123\n"
     ]
    }
   ],
   "source": [
    "import requests\n",
    "from collections import Counter\n",
    "\n",
    "def analyze_countries_api(api_url):\n",
    "    response = requests.get(api_url)\n",
    "    if response.status_code != 200:\n",
    "       \n",
    "        print(f\"Failed to fetch data. Status code: {response.status_code}\")\n",
    "        return None, None, None\n",
    "\n",
    "    countries_data = response.json()\n",
    "\n",
    "   \n",
    "    try:\n",
    "        largest_countries = sorted(countries_data, key=lambda x: x.get('area', 0), reverse=True)[:10]\n",
    "    except KeyError as e:\n",
    "        print(f\"KeyError: {e}. 'area' key not found in the data.\")\n",
    "        largest_countries = []\n",
    "\n",
    "   \n",
    "    languages = [lang['name'] for country in countries_data for lang in country.get('languages', [])]\n",
    "    common_languages = Counter(languages).most_common(10)\n",
    "\n",
    "   \n",
    "    total_languages = len(set(languages))\n",
    "\n",
    "    return largest_countries, common_languages, total_languages\n",
    "\n",
    "largest, spoken_languages, total_langs = analyze_countries_api('https://restcountries.com/v2/all')\n",
    "\n",
    "print(largest)\n",
    "print(spoken_languages)\n",
    "print(f'The total languages are: {total_langs}')\n"
   ]
  },
  {
   "cell_type": "markdown",
   "metadata": {},
   "source": [
    "### Number 4: Reading the content of UCL"
   ]
  },
  {
   "cell_type": "code",
   "execution_count": 7,
   "metadata": {},
   "outputs": [
    {
     "name": "stdout",
     "output_type": "stream",
     "text": [
      "['/datasets', '/datasets', '/datasets', '/datasets']\n"
     ]
    }
   ],
   "source": [
    "import requests\n",
    "from bs4 import BeautifulSoup\n",
    "\n",
    "def explore_uci_datasets(url):\n",
    "    response = requests.get(url)\n",
    "    soup = BeautifulSoup(response.text, 'html.parser')\n",
    "    links = soup.find_all('a')\n",
    "    \n",
    "    dataset_links = [link['href'] for link in links if 'datasets' in str(link.get('href'))]\n",
    "    \n",
    "    return dataset_links\n",
    "\n",
    "# Usage example:\n",
    "uci_datasets = explore_uci_datasets('https://archive.ics.uci.edu/ml/datasets.')\n",
    "print(uci_datasets)\n"
   ]
  }
 ],
 "metadata": {
  "kernelspec": {
   "display_name": "Python 3",
   "language": "python",
   "name": "python3"
  },
  "language_info": {
   "codemirror_mode": {
    "name": "ipython",
    "version": 3
   },
   "file_extension": ".py",
   "mimetype": "text/x-python",
   "name": "python",
   "nbconvert_exporter": "python",
   "pygments_lexer": "ipython3",
   "version": "3.11.5"
  }
 },
 "nbformat": 4,
 "nbformat_minor": 2
}
