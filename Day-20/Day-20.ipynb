{
 "cells": [
  {
   "cell_type": "markdown",
   "metadata": {},
   "source": [
    "# Day 20 Exercise\n",
    "### Exercise Number 1:Ten most frequent words"
   ]
  },
  {
   "cell_type": "code",
   "execution_count": 1,
   "metadata": {},
   "outputs": [
    {
     "ename": "ModuleNotFoundError",
     "evalue": "No module named 'requests'",
     "output_type": "error",
     "traceback": [
      "\u001b[1;31m---------------------------------------------------------------------------\u001b[0m",
      "\u001b[1;31mModuleNotFoundError\u001b[0m                       Traceback (most recent call last)",
      "\u001b[1;32mc:\\Users\\user\\Desktop\\ArewaDS\\ArewaDS-30days-of-Python\\Day-20\\Day-20.ipynb Cell 2\u001b[0m line \u001b[0;36m1\n\u001b[1;32m----> <a href='vscode-notebook-cell:/c%3A/Users/user/Desktop/ArewaDS/ArewaDS-30days-of-Python/Day-20/Day-20.ipynb#W1sZmlsZQ%3D%3D?line=0'>1</a>\u001b[0m \u001b[39mimport\u001b[39;00m \u001b[39mrequests\u001b[39;00m\n\u001b[0;32m      <a href='vscode-notebook-cell:/c%3A/Users/user/Desktop/ArewaDS/ArewaDS-30days-of-Python/Day-20/Day-20.ipynb#W1sZmlsZQ%3D%3D?line=1'>2</a>\u001b[0m \u001b[39mfrom\u001b[39;00m \u001b[39mbs4\u001b[39;00m \u001b[39mimport\u001b[39;00m BeautifulSoup\n\u001b[0;32m      <a href='vscode-notebook-cell:/c%3A/Users/user/Desktop/ArewaDS/ArewaDS-30days-of-Python/Day-20/Day-20.ipynb#W1sZmlsZQ%3D%3D?line=2'>3</a>\u001b[0m \u001b[39mfrom\u001b[39;00m \u001b[39mcollections\u001b[39;00m \u001b[39mimport\u001b[39;00m Counter\n",
      "\u001b[1;31mModuleNotFoundError\u001b[0m: No module named 'requests'"
     ]
    }
   ],
   "source": [
    "import requests\n",
    "from bs4 import BeautifulSoup\n",
    "from collections import Counter\n",
    "\n",
    "def find_most_frequent_words_url(url, limit):\n",
    "    response = requests.get(url)\n",
    "    soup = BeautifulSoup(response.text, 'html.parser')\n",
    "    text = ' '.join(soup.get_text().split())  # Extract visible text\n",
    "    words = re.findall(r'\\b\\w+\\b', text.lower())\n",
    "    word_count = Counter(words)\n",
    "    return word_count.most_common(limit)\n",
    "\n",
    "# Usage example:\n",
    "print(find_most_frequent_words_url('http://www.gutenberg.org/files/1112/1112.txt', 10))\n"
   ]
  },
  {
   "cell_type": "markdown",
   "metadata": {},
   "source": [
    "### Number 2"
   ]
  },
  {
   "cell_type": "code",
   "execution_count": 2,
   "metadata": {},
   "outputs": [
    {
     "ename": "ModuleNotFoundError",
     "evalue": "No module named 'requests'",
     "output_type": "error",
     "traceback": [
      "\u001b[1;31m---------------------------------------------------------------------------\u001b[0m",
      "\u001b[1;31mModuleNotFoundError\u001b[0m                       Traceback (most recent call last)",
      "\u001b[1;32mc:\\Users\\user\\Desktop\\ArewaDS\\ArewaDS-30days-of-Python\\Day-20\\Day-20.ipynb Cell 4\u001b[0m line \u001b[0;36m1\n\u001b[1;32m----> <a href='vscode-notebook-cell:/c%3A/Users/user/Desktop/ArewaDS/ArewaDS-30days-of-Python/Day-20/Day-20.ipynb#W3sZmlsZQ%3D%3D?line=0'>1</a>\u001b[0m \u001b[39mimport\u001b[39;00m \u001b[39mrequests\u001b[39;00m\n\u001b[0;32m      <a href='vscode-notebook-cell:/c%3A/Users/user/Desktop/ArewaDS/ArewaDS-30days-of-Python/Day-20/Day-20.ipynb#W3sZmlsZQ%3D%3D?line=1'>2</a>\u001b[0m \u001b[39mimport\u001b[39;00m \u001b[39mnumpy\u001b[39;00m \u001b[39mas\u001b[39;00m \u001b[39mnp\u001b[39;00m\n\u001b[0;32m      <a href='vscode-notebook-cell:/c%3A/Users/user/Desktop/ArewaDS/ArewaDS-30days-of-Python/Day-20/Day-20.ipynb#W3sZmlsZQ%3D%3D?line=3'>4</a>\u001b[0m \u001b[39mdef\u001b[39;00m \u001b[39manalyze_cats\u001b[39m(api_url):\n",
      "\u001b[1;31mModuleNotFoundError\u001b[0m: No module named 'requests'"
     ]
    }
   ],
   "source": [
    "import requests\n",
    "import numpy as np\n",
    "\n",
    "def analyze_cats(api_url):\n",
    "    response = requests.get(api_url)\n",
    "    data = response.json()\n",
    "\n",
    "    # Extracting weights and lifespans\n",
    "    weights = [cat['weight']['metric'][:-3] for cat in data if 'weight' in cat]\n",
    "    lifespans = [cat['life_span'].split()[0] for cat in data if 'life_span' in cat]\n",
    "\n",
    "    # Convert strings to numerical values for analysis\n",
    "    weights = np.array(weights, dtype=float)\n",
    "    lifespans = np.array(lifespans, dtype=float)\n",
    "\n",
    "    # Calculate statistics\n",
    "    weight_stats = {\n",
    "        'min': np.min(weights),\n",
    "        'max': np.max(weights),\n",
    "        'mean': np.mean(weights),\n",
    "        'median': np.median(weights),\n",
    "        'std_dev': np.std(weights)\n",
    "    }\n",
    "    lifespan_stats = {\n",
    "        'min': np.min(lifespans),\n",
    "        'max': np.max(lifespans),\n",
    "        'mean': np.mean(lifespans),\n",
    "        'median': np.median(lifespans),\n",
    "        'std_dev': np.std(lifespans)\n",
    "    }\n",
    "\n",
    "    return weight_stats, lifespan_stats\n",
    "\n",
    "# Usage example:\n",
    "print(analyze_cats('https://api.thecatapi.com/v1/breeds'))\n"
   ]
  },
  {
   "cell_type": "markdown",
   "metadata": {},
   "source": [
    "### Number 3"
   ]
  },
  {
   "cell_type": "code",
   "execution_count": null,
   "metadata": {},
   "outputs": [
    {
     "ename": "",
     "evalue": "",
     "output_type": "error",
     "traceback": [
      "\u001b[1;31mFailed to start the Kernel. \n",
      "\u001b[1;31mUnable to start Kernel 'Python 3.11.5' due to a timeout waiting for the ports to get used. \n",
      "\u001b[1;31mView Jupyter <a href='command:jupyter.viewOutput'>log</a> for further details."
     ]
    }
   ],
   "source": [
    "def analyze_countries_api(api_url):\n",
    "    response = requests.get(api_url)\n",
    "    countries_data = response.json()\n",
    "\n",
    "    # Finding the 10 largest countries\n",
    "    largest_countries = sorted(countries_data, key=lambda x: x['area'], reverse=True)[:10]\n",
    "\n",
    "    # Finding the 10 most spoken languages\n",
    "    languages = [lang['languages'] for country in countries_data for lang in country['languages']]\n",
    "    languages_flat = [lang for sublist in languages for lang in sublist]\n",
    "    common_languages = Counter(languages_flat).most_common(10)\n",
    "\n",
    "    # Total number of languages\n",
    "    total_languages = len(set(languages_flat))\n",
    "\n",
    "    return largest_countries, common_languages, total_languages\n",
    "\n",
    "# Usage example:\n",
    "largest, spoken_languages, total_langs = analyze_countries_api('https://restcountries.eu/rest/v2/all')\n"
   ]
  },
  {
   "cell_type": "markdown",
   "metadata": {},
   "source": [
    "### 4"
   ]
  },
  {
   "cell_type": "code",
   "execution_count": 1,
   "metadata": {},
   "outputs": [
    {
     "ename": "ModuleNotFoundError",
     "evalue": "No module named 'requests'",
     "output_type": "error",
     "traceback": [
      "\u001b[1;31m---------------------------------------------------------------------------\u001b[0m",
      "\u001b[1;31mModuleNotFoundError\u001b[0m                       Traceback (most recent call last)",
      "\u001b[1;32mc:\\Users\\user\\Desktop\\ArewaDS\\ArewaDS-30days-of-Python\\Day-20\\Day-20.ipynb Cell 8\u001b[0m line \u001b[0;36m1\n\u001b[1;32m----> <a href='vscode-notebook-cell:/c%3A/Users/user/Desktop/ArewaDS/ArewaDS-30days-of-Python/Day-20/Day-20.ipynb#X11sZmlsZQ%3D%3D?line=0'>1</a>\u001b[0m \u001b[39mimport\u001b[39;00m \u001b[39mrequests\u001b[39;00m\n\u001b[0;32m      <a href='vscode-notebook-cell:/c%3A/Users/user/Desktop/ArewaDS/ArewaDS-30days-of-Python/Day-20/Day-20.ipynb#X11sZmlsZQ%3D%3D?line=1'>2</a>\u001b[0m \u001b[39mfrom\u001b[39;00m \u001b[39mbs4\u001b[39;00m \u001b[39mimport\u001b[39;00m BeautifulSoup\n\u001b[0;32m      <a href='vscode-notebook-cell:/c%3A/Users/user/Desktop/ArewaDS/ArewaDS-30days-of-Python/Day-20/Day-20.ipynb#X11sZmlsZQ%3D%3D?line=3'>4</a>\u001b[0m \u001b[39mdef\u001b[39;00m \u001b[39mexplore_uci_datasets\u001b[39m(url):\n",
      "\u001b[1;31mModuleNotFoundError\u001b[0m: No module named 'requests'"
     ]
    }
   ],
   "source": [
    "import requests\n",
    "from bs4 import BeautifulSoup\n",
    "\n",
    "def explore_uci_datasets(url):\n",
    "    response = requests.get(url)\n",
    "    soup = BeautifulSoup(response.text, 'html.parser')\n",
    "    links = soup.find_all('a')\n",
    "    \n",
    "    dataset_links = [link['href'] for link in links if 'datasets' in str(link.get('href'))]\n",
    "    \n",
    "    return dataset_links\n",
    "\n",
    "# Usage example:\n",
    "uci_datasets = explore_uci_datasets('https://archive.ics.uci.edu/ml/datasets.php')\n"
   ]
  }
 ],
 "metadata": {
  "kernelspec": {
   "display_name": "Python 3",
   "language": "python",
   "name": "python3"
  },
  "language_info": {
   "codemirror_mode": {
    "name": "ipython",
    "version": 3
   },
   "file_extension": ".py",
   "mimetype": "text/x-python",
   "name": "python",
   "nbconvert_exporter": "python",
   "pygments_lexer": "ipython3",
   "version": "3.11.5"
  }
 },
 "nbformat": 4,
 "nbformat_minor": 2
}
