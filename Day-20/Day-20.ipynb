{
 "cells": [
  {
   "cell_type": "markdown",
   "metadata": {},
   "source": [
    "# Day 20 Exercise\n",
    "### Exercise Number 1:Ten most frequent words"
   ]
  },
  {
   "cell_type": "code",
   "execution_count": null,
   "metadata": {},
   "outputs": [],
   "source": [
    "import requests\n",
    "from bs4 import BeautifulSoup\n",
    "from collections import Counter\n",
    "import re\n",
    "\n",
    "def find_most_frequent_words_url(url, limit):\n",
    "    response = requests.get(url)\n",
    "    soup = BeautifulSoup(response.text, 'html.parser')\n",
    "    text = ' '.join(soup.get_text().split()) \n",
    "    words = re.findall(r'\\b\\w+\\b', text.lower())\n",
    "    word_count = Counter(words)\n",
    "    return word_count.most_common(limit)\n",
    "\n",
    "\n",
    "print(find_most_frequent_words_url('http://www.gutenberg.org/files/1112/1112.txt', 10))\n"
   ]
  },
  {
   "cell_type": "markdown",
   "metadata": {},
   "source": [
    "### Number 2"
   ]
  },
  {
   "cell_type": "code",
   "execution_count": null,
   "metadata": {},
   "outputs": [],
   "source": [
    "\n",
    "import requests\n",
    "import numpy as np\n",
    "\n",
    "def analyze_cats(api_url):\n",
    "    response = requests.get(api_url)\n",
    "    data = response.json()\n",
    "\n",
    "    # Extracting weights and lifespans\n",
    "    weights = [cat['weight']['metric'][:-3] for cat in data if 'weight' in cat and cat['weight']['metric'][:-3].replace('.', '').isdigit()]\n",
    "    lifespans = [cat['life_span'].split()[0] for cat in data if 'life_span' in cat]\n",
    "\n",
    "    # Convert strings to numerical values for analysis\n",
    "    weights = np.array(weights, dtype=float)\n",
    "    lifespans = np.array(lifespans, dtype=float)\n",
    "\n",
    "    # Calculate statistics\n",
    "    weight_stats = {}\n",
    "    lifespan_stats = {}\n",
    "\n",
    "    if len(weights) > 0:\n",
    "        weight_stats = {\n",
    "            'min': np.min(weights),\n",
    "            'max': np.max(weights),\n",
    "            'mean': np.mean(weights),\n",
    "            'median': np.median(weights),\n",
    "            'std_dev': np.std(weights)\n",
    "        }\n",
    "        \n",
    "    if len(lifespans) > 0:\n",
    "        lifespan_stats = {\n",
    "            'min': np.min(lifespans),\n",
    "            'max': np.max(lifespans),\n",
    "            'mean': np.mean(lifespans),\n",
    "            'median': np.median(lifespans),\n",
    "            'std_dev': np.std(lifespans)\n",
    "        }\n",
    "\n",
    "    return weight_stats, lifespan_stats\n",
    "\n",
    "\n",
    "print(analyze_cats('https://api.thecatapi.com/v1/breeds'))\n",
    "    "
   ]
  },
  {
   "cell_type": "markdown",
   "metadata": {},
   "source": [
    "### Number 3"
   ]
  },
  {
   "cell_type": "code",
   "execution_count": null,
   "metadata": {},
   "outputs": [],
   "source": [
    "def analyze_countries_api(api_url):\n",
    "    response = requests.get(api_url)\n",
    "    countries_data = response.json()\n",
    "\n",
    "    # Finding the 10 largest countries\n",
    "    largest_countries = sorted(countries_data, key=lambda x: x['area'], reverse=True)[:10]\n",
    "\n",
    "    # Finding the 10 most spoken languages\n",
    "    languages = [lang['languages'] for country in countries_data for lang in country['languages']]\n",
    "    languages_flat = [lang for sublist in languages for lang in sublist]\n",
    "    common_languages = Counter(languages_flat).most_common(10)\n",
    "\n",
    "    # Total number of languages\n",
    "    total_languages = len(set(languages_flat))\n",
    "\n",
    "    return largest_countries, common_languages, total_languages\n",
    "\n",
    "# Usage example:\n",
    "largest, spoken_languages, total_langs = analyze_countries_api('https://restcountries.eu/rest/v2/all')\n"
   ]
  },
  {
   "cell_type": "markdown",
   "metadata": {},
   "source": [
    "### 4"
   ]
  },
  {
   "cell_type": "code",
   "execution_count": null,
   "metadata": {},
   "outputs": [],
   "source": [
    "import requests\n",
    "from bs4 import BeautifulSoup\n",
    "\n",
    "def explore_uci_datasets(url):\n",
    "    response = requests.get(url)\n",
    "    soup = BeautifulSoup(response.text, 'html.parser')\n",
    "    links = soup.find_all('a')\n",
    "    \n",
    "    dataset_links = [link['href'] for link in links if 'datasets' in str(link.get('href'))]\n",
    "    \n",
    "    return dataset_links\n",
    "\n",
    "# Usage example:\n",
    "uci_datasets = explore_uci_datasets('https://archive.ics.uci.edu/ml/datasets.')\n",
    "print(uci_datasets)\n"
   ]
  }
 ],
 "metadata": {
  "kernelspec": {
   "display_name": "Python 3",
   "language": "python",
   "name": "python3"
  },
  "language_info": {
   "codemirror_mode": {
    "name": "ipython",
    "version": 3
   },
   "file_extension": ".py",
   "mimetype": "text/x-python",
   "name": "python",
   "nbconvert_exporter": "python",
   "pygments_lexer": "ipython3",
   "version": "3.11.5"
  }
 },
 "nbformat": 4,
 "nbformat_minor": 2
}
