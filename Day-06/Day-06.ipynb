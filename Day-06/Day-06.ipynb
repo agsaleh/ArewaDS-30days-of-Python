{
 "cells": [
  {
   "cell_type": "markdown",
   "metadata": {},
   "source": [
    "# Day 6 Exercises\n",
    "## Exercise Level 1\n",
    "\n",
    "### Number 1: Creating an empty tuple"
   ]
  },
  {
   "cell_type": "code",
   "execution_count": 1,
   "metadata": {},
   "outputs": [
    {
     "name": "stdout",
     "output_type": "stream",
     "text": [
      "()\n"
     ]
    }
   ],
   "source": [
    "empty_tuple = ()\n",
    "\n",
    "print(empty_tuple)"
   ]
  },
  {
   "cell_type": "markdown",
   "metadata": {},
   "source": [
    "### Number 2: Creating a tuple for brothers and sisters"
   ]
  },
  {
   "cell_type": "code",
   "execution_count": 2,
   "metadata": {},
   "outputs": [
    {
     "name": "stdout",
     "output_type": "stream",
     "text": [
      "Brothers: ('Ali', 'Umar', 'Muhammad', 'Usman', 'Ibrahim', 'Abdurrahman')\n",
      "Sisters: ('Hauwa', 'Maryam', 'Khadija')\n"
     ]
    }
   ],
   "source": [
    "brothers = ('Ali', 'Umar', 'Muhammad', 'Usman', 'Ibrahim', 'Abdurrahman')\n",
    "sisters = ('Hauwa', 'Maryam', 'Khadija')\n",
    "\n",
    "print('Brothers:', brothers)\n",
    "print('Sisters:', sisters)"
   ]
  },
  {
   "cell_type": "markdown",
   "metadata": {},
   "source": [
    "### Number 3: Joining the tuples"
   ]
  },
  {
   "cell_type": "code",
   "execution_count": 3,
   "metadata": {},
   "outputs": [
    {
     "name": "stdout",
     "output_type": "stream",
     "text": [
      "Siblings: ('Ali', 'Umar', 'Muhammad', 'Usman', 'Ibrahim', 'Abdurrahman', 'Hauwa', 'Maryam', 'Khadija')\n"
     ]
    }
   ],
   "source": [
    "siblings = brothers + sisters\n",
    "print('Siblings:', siblings)"
   ]
  },
  {
   "cell_type": "markdown",
   "metadata": {},
   "source": [
    "### Number 4: Number of siblings"
   ]
  },
  {
   "cell_type": "code",
   "execution_count": 4,
   "metadata": {},
   "outputs": [
    {
     "name": "stdout",
     "output_type": "stream",
     "text": [
      "9\n"
     ]
    }
   ],
   "source": [
    "\n",
    "print(len(siblings))"
   ]
  },
  {
   "cell_type": "markdown",
   "metadata": {},
   "source": [
    "### Number 5: Modifying the siblings tuple"
   ]
  },
  {
   "cell_type": "code",
   "execution_count": 5,
   "metadata": {},
   "outputs": [
    {
     "name": "stdout",
     "output_type": "stream",
     "text": [
      "Family Members are: ('Saleh', 'Mum', 'Ali', 'Umar', 'Muhammad', 'Usman', 'Ibrahim', 'Abdurrahman', 'Hauwa', 'Maryam', 'Khadija')\n"
     ]
    }
   ],
   "source": [
    "\n",
    "family_members = list(siblings)\n",
    "father = 'Saleh'\n",
    "mother = 'Mum'\n",
    "\n",
    "family_members = (father, mother) + siblings\n",
    "print('Family Members are:', family_members)"
   ]
  },
  {
   "cell_type": "markdown",
   "metadata": {},
   "source": [
    "# Exercise Level 2\n",
    "\n",
    "### Number 1: Unpacking sibling and parents"
   ]
  },
  {
   "cell_type": "code",
   "execution_count": 6,
   "metadata": {},
   "outputs": [
    {
     "name": "stdout",
     "output_type": "stream",
     "text": [
      "('Saleh', 'Mum')\n",
      "('Ali', 'Umar', 'Muhammad', 'Usman', 'Ibrahim', 'Abdurrahman', 'Hauwa', 'Maryam', 'Khadija')\n"
     ]
    }
   ],
   "source": [
    "parents = family_members[:2]\n",
    "siblings = family_members[2:]\n",
    "\n",
    "print(parents)\n",
    "print(siblings)"
   ]
  },
  {
   "cell_type": "markdown",
   "metadata": {},
   "source": [
    "### Number 2: Creating Fruits, Vegetable and Animal product tuples"
   ]
  },
  {
   "cell_type": "code",
   "execution_count": 7,
   "metadata": {},
   "outputs": [
    {
     "name": "stdout",
     "output_type": "stream",
     "text": [
      "('Apple', 'Mango', 'Watermelon', 'Cabbage', 'Lettuce', 'Carrots', 'meat', 'Egg', 'Chicken')\n"
     ]
    }
   ],
   "source": [
    "fruits = ('Apple', 'Mango', 'Watermelon')\n",
    "vegetables = ('Cabbage', 'Lettuce', 'Carrots')\n",
    "animal_products = ('meat', 'Egg', 'Chicken')\n",
    "\n",
    "food_stuff_tp = fruits + vegetables + animal_products\n",
    "print(food_stuff_tp)"
   ]
  },
  {
   "cell_type": "markdown",
   "metadata": {},
   "source": [
    "### Number 3: Changing the food_stuff_tp"
   ]
  },
  {
   "cell_type": "code",
   "execution_count": 8,
   "metadata": {},
   "outputs": [
    {
     "name": "stdout",
     "output_type": "stream",
     "text": [
      "['Apple', 'Mango', 'Watermelon', 'Cabbage', 'Lettuce', 'Carrots', 'meat', 'Egg', 'Chicken']\n"
     ]
    }
   ],
   "source": [
    "food_stuff_lt = list(food_stuff_tp)\n",
    "print(food_stuff_lt)"
   ]
  },
  {
   "cell_type": "markdown",
   "metadata": {},
   "source": [
    "### 4: Slicing out the middle item"
   ]
  },
  {
   "cell_type": "code",
   "execution_count": 9,
   "metadata": {},
   "outputs": [
    {
     "name": "stdout",
     "output_type": "stream",
     "text": [
      "Lettuce\n"
     ]
    }
   ],
   "source": [
    "middle_item = food_stuff_lt[len(food_stuff_lt) // 2]\n",
    "print(middle_item)"
   ]
  },
  {
   "cell_type": "markdown",
   "metadata": {},
   "source": [
    "### 5: Slicing out the first three and last three items"
   ]
  },
  {
   "cell_type": "code",
   "execution_count": 10,
   "metadata": {},
   "outputs": [
    {
     "name": "stdout",
     "output_type": "stream",
     "text": [
      "['Apple', 'Mango', 'Watermelon']\n",
      "['meat', 'Egg', 'Chicken']\n"
     ]
    }
   ],
   "source": [
    "first_three = food_stuff_lt[:3]\n",
    "print(first_three)\n",
    "\n",
    "last_three = food_stuff_lt[-3:]\n",
    "print(last_three)\n"
   ]
  },
  {
   "cell_type": "markdown",
   "metadata": {},
   "source": [
    "### 6: Deleting the food_stuff_tp tuple"
   ]
  },
  {
   "cell_type": "code",
   "execution_count": 11,
   "metadata": {},
   "outputs": [],
   "source": [
    "del food_stuff_tp\n"
   ]
  },
  {
   "cell_type": "markdown",
   "metadata": {},
   "source": [
    "### 7: Checking for an item 'Apple' in the tuple"
   ]
  },
  {
   "cell_type": "code",
   "execution_count": 12,
   "metadata": {},
   "outputs": [
    {
     "name": "stdout",
     "output_type": "stream",
     "text": [
      "True\n"
     ]
    }
   ],
   "source": [
    "print('Apple' in food_stuff_lt)\n",
    "\n"
   ]
  },
  {
   "cell_type": "markdown",
   "metadata": {},
   "source": [
    "### Checking if 'Estonia' is a nordic country"
   ]
  },
  {
   "cell_type": "code",
   "execution_count": 13,
   "metadata": {},
   "outputs": [
    {
     "name": "stdout",
     "output_type": "stream",
     "text": [
      "False\n"
     ]
    }
   ],
   "source": [
    "nordic_countries = ('Denmark', 'Finland','Iceland', 'Norway', 'Sweden')\n",
    "\n",
    "print('Estonia' in nordic_countries)\n"
   ]
  },
  {
   "cell_type": "markdown",
   "metadata": {},
   "source": [
    "### Checking if 'Iceland' is a nordic country"
   ]
  },
  {
   "cell_type": "code",
   "execution_count": 14,
   "metadata": {},
   "outputs": [
    {
     "name": "stdout",
     "output_type": "stream",
     "text": [
      "True\n"
     ]
    }
   ],
   "source": [
    "nordic_countries = ('Denmark', 'Finland','Iceland', 'Norway', 'Sweden')\n",
    "\n",
    "print('Iceland' in nordic_countries)"
   ]
  }
 ],
 "metadata": {
  "kernelspec": {
   "display_name": "Python 3",
   "language": "python",
   "name": "python3"
  },
  "language_info": {
   "codemirror_mode": {
    "name": "ipython",
    "version": 3
   },
   "file_extension": ".py",
   "mimetype": "text/x-python",
   "name": "python",
   "nbconvert_exporter": "python",
   "pygments_lexer": "ipython3",
   "version": "3.11.5"
  }
 },
 "nbformat": 4,
 "nbformat_minor": 2
}
