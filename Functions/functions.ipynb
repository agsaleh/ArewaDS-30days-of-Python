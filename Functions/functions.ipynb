{
 "cells": [
  {
   "cell_type": "markdown",
   "metadata": {},
   "source": [
    "### 8-1: Message"
   ]
  },
  {
   "cell_type": "code",
   "execution_count": 1,
   "metadata": {},
   "outputs": [
    {
     "name": "stdout",
     "output_type": "stream",
     "text": [
      "Hello, I'm learning functions in Python programming!\n"
     ]
    }
   ],
   "source": [
    "def display_message():\n",
    "    \"\"\"What I'm Learning\"\"\"\n",
    "    print(f\"Hello, I'm learning functions in Python programming!\")\n",
    "\n",
    "display_message()"
   ]
  },
  {
   "cell_type": "markdown",
   "metadata": {},
   "source": [
    "### 8-2: Favorite Book"
   ]
  },
  {
   "cell_type": "code",
   "execution_count": 2,
   "metadata": {},
   "outputs": [
    {
     "name": "stdout",
     "output_type": "stream",
     "text": [
      " One of my favorite books is, Python Crash Course!\n"
     ]
    }
   ],
   "source": [
    "def favorite_book(book):\n",
    "    \"\"\"Favourite Book\"\"\"\n",
    "    print(f\" One of my favorite books is, {book.title()}!\")\n",
    "    \n",
    "favorite_book('Python Crash Course')"
   ]
  },
  {
   "cell_type": "code",
   "execution_count": 3,
   "metadata": {},
   "outputs": [
    {
     "name": "stdout",
     "output_type": "stream",
     "text": [
      "\n",
      "I have a hamster.\n",
      "My hamster's name is Harry.\n",
      "\n",
      "I have a dog.\n",
      "My dog's name is Willie.\n",
      "\n",
      "I have a bird.\n",
      "My bird's name is Parrot.\n"
     ]
    }
   ],
   "source": [
    "def describe_pet(animal_type, pet_name):\n",
    "    \"\"\"Display information about a pet.\"\"\"\n",
    "    print(f\"\\nI have a {animal_type}.\")\n",
    "    print(f\"My {animal_type}'s name is {pet_name.title()}.\")\n",
    "\n",
    "describe_pet('hamster', 'harry')\n",
    "describe_pet('dog', 'willie')\n",
    "\n",
    "describe_pet(animal_type='bird', pet_name='parrot')"
   ]
  },
  {
   "cell_type": "markdown",
   "metadata": {},
   "source": [
    "### 8-3: T-Shirt"
   ]
  },
  {
   "cell_type": "code",
   "execution_count": 4,
   "metadata": {},
   "outputs": [
    {
     "name": "stdout",
     "output_type": "stream",
     "text": [
      "Shirt size: 8, Hello World!\n",
      "Shirt size: 8, Enjoying Python!\n"
     ]
    }
   ],
   "source": [
    "def make_shirt(size, text):\n",
    "    print(f\"Shirt size: {size}, {text}\")\n",
    "\n",
    "#Using positional arguments\n",
    "make_shirt(8, \"Hello World!\")\n",
    "\n",
    "#Using keyword arguments\n",
    "make_shirt(size=8, text=\"Enjoying Python!\")"
   ]
  },
  {
   "cell_type": "markdown",
   "metadata": {},
   "source": [
    "### 8-4: Large Shirts"
   ]
  },
  {
   "cell_type": "code",
   "execution_count": 5,
   "metadata": {},
   "outputs": [
    {
     "name": "stdout",
     "output_type": "stream",
     "text": [
      "The size of the shirt is 10, I love Python\n",
      "The medium size is 6, I love Python\n",
      "The large size is 12, I love Python\n",
      "This is size 4, and is Kids size\n"
     ]
    }
   ],
   "source": [
    "def make_shirt(size=10, text='I love Python'):\n",
    "\n",
    "    print(f'The size of the shirt is {size}, {text}')\n",
    "\n",
    "make_shirt()\n",
    "\n",
    "#Medium Size\n",
    "def medium_shirt(size=6, text='I love Python'):\n",
    "    print(f'The medium size is {size}, {text}')\n",
    "\n",
    "medium_shirt()\n",
    "\n",
    "#Large Size\n",
    "def large_shirt(size=12, text='I love Python'):\n",
    "    print(f'The large size is {size}, {text}')\n",
    "\n",
    "large_shirt()\n",
    "\n",
    "#Any Size\n",
    "def any_shirt(size=4, text='Kids size'):\n",
    "    print(f'This is size {size}, and is {text}')\n",
    "\n",
    "any_shirt()"
   ]
  },
  {
   "cell_type": "markdown",
   "metadata": {},
   "source": [
    "### 8-5: Cities"
   ]
  },
  {
   "cell_type": "code",
   "execution_count": 6,
   "metadata": {},
   "outputs": [
    {
     "name": "stdout",
     "output_type": "stream",
     "text": [
      "reykjavik is in Iceland.\n",
      "Gazza is in Palestine.\n",
      "Abuja is in Nigeria.\n"
     ]
    }
   ],
   "source": [
    "def describe_city(city, country=\"Nigeria\"):\n",
    "    print(f\"{city} is in {country}.\")\n",
    "\n",
    "describe_city(\"reykjavik\", \"Iceland\")\n",
    "describe_city(\"Gazza\", \"Palestine\")\n",
    "describe_city(\"Abuja\")\n",
    "\n"
   ]
  },
  {
   "cell_type": "markdown",
   "metadata": {},
   "source": [
    "### 8-6: City Names"
   ]
  },
  {
   "cell_type": "code",
   "execution_count": 7,
   "metadata": {},
   "outputs": [
    {
     "name": "stdout",
     "output_type": "stream",
     "text": [
      "Santiago, Chile\n",
      "Melbourne, Australia\n",
      "Madrid, Spain\n"
     ]
    }
   ],
   "source": [
    "def city_country(city, country):\n",
    "    return f\"{city.capitalize()}, {country.capitalize()}\"\n",
    "\n",
    "print(city_country(\"santiago\", \"chile\"))\n",
    "print(city_country(\"melbourne\", \"australia\"))\n",
    "print(city_country(\"madrid\", \"spain\"))\n"
   ]
  },
  {
   "cell_type": "markdown",
   "metadata": {},
   "source": [
    "### 8-7: Album"
   ]
  },
  {
   "cell_type": "code",
   "execution_count": 8,
   "metadata": {},
   "outputs": [
    {
     "name": "stdout",
     "output_type": "stream",
     "text": [
      "{'artist': 'Maher Zain', 'title': 'Alhamdulillah', 'songs': 15}\n",
      "{'artist': 'Akon', 'title': 'Ghetto', 'songs': 12}\n",
      "{'artist': 'P-Square', 'title': 'Get Squared'}\n"
     ]
    }
   ],
   "source": [
    "def make_album(artist, title, songs=None):\n",
    "    album = {'artist': artist, 'title': title}\n",
    "    if songs:\n",
    "        album['songs'] = songs\n",
    "    return album\n",
    "\n",
    "#Making three different album dictionaries\n",
    "album1 = make_album('Maher Zain', 'Alhamdulillah', 15)\n",
    "album2 = make_album('Akon', 'Ghetto', 12)\n",
    "album3 = make_album('P-Square', 'Get Squared')\n",
    "\n",
    "#Printing the album information\n",
    "print(album1)\n",
    "print(album2)\n",
    "print(album3)\n"
   ]
  },
  {
   "cell_type": "markdown",
   "metadata": {},
   "source": [
    "### 8-8: User Albums"
   ]
  },
  {
   "cell_type": "code",
   "execution_count": 9,
   "metadata": {},
   "outputs": [
    {
     "name": "stdout",
     "output_type": "stream",
     "text": [
      "{'artist': 'P Square', 'title': 'get squared'}\n"
     ]
    }
   ],
   "source": [
    "def make_album(artist, title, songs=None):\n",
    "    album = {'artist': artist, 'title': title}\n",
    "    if songs:\n",
    "        album['songs'] = songs\n",
    "    return album\n",
    "\n",
    "while True:\n",
    "    artist = input(\"Enter the artist's name (or 'q' to quit): \")\n",
    "    if artist.lower() == 'q':\n",
    "        break\n",
    "    title = input(\"Enter the album title: \")\n",
    "    album_info = make_album(artist, title)\n",
    "    print(album_info)\n"
   ]
  },
  {
   "cell_type": "markdown",
   "metadata": {},
   "source": [
    "### 8-9: Messages"
   ]
  },
  {
   "cell_type": "code",
   "execution_count": 10,
   "metadata": {},
   "outputs": [
    {
     "name": "stdout",
     "output_type": "stream",
     "text": [
      "Hi!\n",
      "This is my function assignment\n",
      "Python is good!\n"
     ]
    }
   ],
   "source": [
    "def show_messages(messages):\n",
    "    for message in messages:\n",
    "        print(message)\n",
    "        \n",
    "text_messages = [\n",
    "    \"Hi!\",\n",
    "    \"This is my function assignment\",\n",
    "    \"Python is good!\"\n",
    "]\n",
    "\n",
    "show_messages(text_messages)"
   ]
  },
  {
   "cell_type": "markdown",
   "metadata": {},
   "source": [
    "### 8-10: Sending Messages"
   ]
  },
  {
   "cell_type": "code",
   "execution_count": 11,
   "metadata": {},
   "outputs": [
    {
     "name": "stdout",
     "output_type": "stream",
     "text": [
      "Python is good!\n",
      "This is my function assignment\n",
      "Hi!\n",
      "\n",
      "Sent Messages:\n",
      "['Python is good!', 'This is my function assignment', 'Hi!']\n",
      "Original Messages:\n",
      "['Hi!', 'This is my function assignment', 'Python is good!']\n"
     ]
    }
   ],
   "source": [
    "def send_messages(messages, sent_messages):\n",
    "    while messages:\n",
    "        current_message = messages.pop()\n",
    "        print(current_message)\n",
    "        sent_messages.append(current_message)\n",
    "\n",
    "# List of messages and an empty list to store sent messages\n",
    "ext_messages = [\n",
    "    \"Hi!\",\n",
    "    \"This is my function assignment\",\n",
    "    \"Python is good!\"\n",
    "]\n",
    "\n",
    "sent_messages = []\n",
    "\n",
    "# Sending and displaying the messages\n",
    "send_messages(text_messages[:], sent_messages)\n",
    "print(\"\\nSent Messages:\")\n",
    "print(sent_messages)\n",
    "print(\"Original Messages:\")\n",
    "print(text_messages)\n"
   ]
  },
  {
   "cell_type": "markdown",
   "metadata": {},
   "source": [
    "### 8-11: Archived Messages"
   ]
  },
  {
   "cell_type": "code",
   "execution_count": 12,
   "metadata": {},
   "outputs": [
    {
     "name": "stdout",
     "output_type": "stream",
     "text": [
      "Python is fun!\n",
      "How are you?\n",
      "Hello!\n",
      "\n",
      "Sent Messages:\n",
      "['Python is fun!', 'How are you?', 'Hello!']\n",
      "Original Messages:\n",
      "['Hello!', 'How are you?', 'Python is fun!']\n"
     ]
    }
   ],
   "source": [
    "def send_messages(messages, sent_messages):\n",
    "    while messages:\n",
    "        current_message = messages.pop()\n",
    "        print(current_message)\n",
    "        sent_messages.append(current_message)\n",
    "\n",
    "text_messages = [\n",
    "    \"Hello!\",\n",
    "    \"How are you?\",\n",
    "    \"Python is fun!\"\n",
    "]\n",
    "sent_messages = []\n",
    "\n",
    "send_messages(text_messages[:], sent_messages)\n",
    "print(\"\\nSent Messages:\")\n",
    "print(sent_messages)\n",
    "print(\"Original Messages:\")\n",
    "print(text_messages)\n"
   ]
  },
  {
   "cell_type": "markdown",
   "metadata": {},
   "source": [
    "### 8-12: Sandwiches"
   ]
  },
  {
   "cell_type": "code",
   "execution_count": 13,
   "metadata": {},
   "outputs": [
    {
     "name": "stdout",
     "output_type": "stream",
     "text": [
      "\n",
      "Making a sandwich with the following ingredients:\n",
      "- cheese\n",
      "- ham\n",
      "\n",
      "Making a sandwich with the following ingredients:\n",
      "- turkey\n",
      "- lettuce\n",
      "- tomato\n",
      "\n",
      "Making a sandwich with the following ingredients:\n",
      "- bacon\n",
      "- egg\n",
      "- avocado\n",
      "- mayo\n"
     ]
    }
   ],
   "source": [
    "def make_sandwich(*ingredients):\n",
    "    print(\"\\nMaking a sandwich with the following ingredients:\")\n",
    "    for ingredient in ingredients:\n",
    "        print(\"- \" + ingredient)\n",
    "\n",
    "#Making sandwiches with different ingredients\n",
    "make_sandwich('cheese', 'ham')\n",
    "make_sandwich('turkey', 'lettuce', 'tomato')\n",
    "make_sandwich('bacon', 'egg', 'avocado', 'mayo')"
   ]
  },
  {
   "cell_type": "markdown",
   "metadata": {},
   "source": [
    "### 8-13: User Profile"
   ]
  },
  {
   "cell_type": "code",
   "execution_count": 14,
   "metadata": {},
   "outputs": [
    {
     "name": "stdout",
     "output_type": "stream",
     "text": [
      "{'first_name': 'Abubakar', 'last_name': 'Saleh', 'age': 30, 'location': 'Bauchi', 'hobby': 'Coding'}\n"
     ]
    }
   ],
   "source": [
    "def build_profile(first_name, last_name, **additional_info):\n",
    "    profile = {'first_name': first_name, 'last_name': last_name}\n",
    "    profile.update(additional_info)\n",
    "    return profile\n",
    "\n",
    "#Creating a profile\n",
    "my_profile = build_profile('Abubakar', 'Saleh', age=30, location='Bauchi', hobby='Coding')\n",
    "print(my_profile)"
   ]
  },
  {
   "cell_type": "markdown",
   "metadata": {},
   "source": [
    "### 8-14: Cars"
   ]
  },
  {
   "cell_type": "code",
   "execution_count": 15,
   "metadata": {},
   "outputs": [
    {
     "name": "stdout",
     "output_type": "stream",
     "text": [
      "{'manufacturer': 'subaru', 'model': 'outback', 'color': 'blue', 'tow_package': True}\n"
     ]
    }
   ],
   "source": [
    "def make_car(manufacturer, model, **car_info):\n",
    "    car = {'manufacturer': manufacturer, 'model': model}\n",
    "    car.update(car_info)\n",
    "    return car\n",
    "\n",
    "# Creating a car with additional information\n",
    "car = make_car('subaru', 'outback', color='blue', tow_package=True)\n",
    "print(car)\n"
   ]
  },
  {
   "cell_type": "markdown",
   "metadata": {},
   "source": [
    "### 8-15: Printing Models"
   ]
  },
  {
   "cell_type": "code",
   "execution_count": 16,
   "metadata": {},
   "outputs": [
    {
     "name": "stdout",
     "output_type": "stream",
     "text": [
      "Printing phone\n",
      "Printing tablet\n",
      "Printing laptop\n",
      "\n",
      "The following models have been printed:\n",
      "phone\n",
      "tablet\n",
      "laptop\n"
     ]
    }
   ],
   "source": [
    "import printing_models"
   ]
  },
  {
   "cell_type": "markdown",
   "metadata": {},
   "source": [
    "### 8-16: Imports"
   ]
  },
  {
   "cell_type": "code",
   "execution_count": 17,
   "metadata": {},
   "outputs": [
    {
     "name": "stdout",
     "output_type": "stream",
     "text": [
      "This is my function in my_module.py file!\n",
      "This is my function in my_module.py file!\n",
      "This is my function in my_module.py file!\n",
      "This is my function in my_module.py file!\n",
      "This is my function in my_module.py file!\n"
     ]
    }
   ],
   "source": [
    "# Importing approaches\n",
    "import my_module\n",
    "from my_module import my_function\n",
    "from my_module import my_function as mf\n",
    "import my_module as mm\n",
    "from my_module import *\n",
    "\n",
    "#Testing each approach\n",
    "my_module.my_function()\n",
    "my_function()\n",
    "mf()\n",
    "mm.my_function()\n",
    "my_function()"
   ]
  }
 ],
 "metadata": {
  "kernelspec": {
   "display_name": "Python 3",
   "language": "python",
   "name": "python3"
  },
  "language_info": {
   "codemirror_mode": {
    "name": "ipython",
    "version": 3
   },
   "file_extension": ".py",
   "mimetype": "text/x-python",
   "name": "python",
   "nbconvert_exporter": "python",
   "pygments_lexer": "ipython3",
   "version": "3.11.5"
  }
 },
 "nbformat": 4,
 "nbformat_minor": 2
}
