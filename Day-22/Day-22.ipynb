{
 "cells": [
  {
   "cell_type": "markdown",
   "metadata": {},
   "source": [
    "# Day 22 Exercises\n",
    "### Number 1: Scraping a website and storing the data as _json_ file"
   ]
  },
  {
   "cell_type": "code",
   "execution_count": null,
   "metadata": {},
   "outputs": [],
   "source": [
    "import requests\n",
    "from bs4 import BeautifulSoup\n",
    "import json\n",
    "\n",
    "url = 'http://www.bu.edu/president/boston-university-facts-stats/'\n",
    "\n",
    "response = requests.get(url)\n",
    "if response.status_code == 200:\n",
    "    soup = BeautifulSoup(response.content, 'html.parser')\n",
    "\n",
    "\n",
    "    paragraphs = soup.find_all('p')\n",
    "\n",
    "    data_list = [p.get_text() for p in paragraphs]\n",
    "\n",
    "    with open('bu_data.json', 'w') as file:\n",
    "        json.dump(data_list, file, indent=4)\n",
    "    print(\"Data scraped and saved as 'bu_data.json'successfully!\")\n",
    "else:\n",
    "    print(\"Failed to fetch the webpage\")\n"
   ]
  },
  {
   "cell_type": "markdown",
   "metadata": {},
   "source": [
    "### Number 2: Extracting a table and saving it as _json_ file"
   ]
  },
  {
   "cell_type": "code",
   "execution_count": null,
   "metadata": {},
   "outputs": [],
   "source": [
    "import requests\n",
    "from bs4 import BeautifulSoup\n",
    "import json\n",
    "\n",
    "url = 'https://archive.ics.uci.edu/datasets'\n",
    "\n",
    "response = requests.get(url)\n",
    "if response.status_code == 200:\n",
    "    soup = BeautifulSoup(response.content, 'html.parser')\n",
    "\n",
    "    #Finding all the tables on the page\n",
    "    tables = soup.find_all('table')\n",
    "\n",
    "    # Looping through the tables to find the one with desired data\n",
    "    target_table = None\n",
    "    for table in tables:\n",
    "        \n",
    "        #Checking if the table contains at least 5 rows \n",
    "        if len(table.find_all('tr')) >= 5:\n",
    "            target_table = table\n",
    "            break\n",
    "\n",
    "    if target_table:  #Checking if a potential table was found\n",
    "        \n",
    "        #Converting the table to a list of dictionaries\n",
    "        table_data = []\n",
    "        headers = [header.text.strip() for header in target_table.find_all('th')]\n",
    "        for row in target_table.find_all('tr')[1:]:\n",
    "            row_data = {}\n",
    "            cells = row.find_all('td')\n",
    "            if len(cells) == len(headers):  #Ensuring the correct number of cells per row\n",
    "                for i, cell in enumerate(cells):\n",
    "                    row_data[headers[i]] = cell.text.strip()\n",
    "                table_data.append(row_data)\n",
    "\n",
    "        # Storing the table data as a JSON file\n",
    "        with open('uci_ml_data.json', 'w') as file:\n",
    "            json.dump(table_data, file, indent=4)\n",
    "        print(\"The Table data extracted and saved as 'uci_ml_data.json'\")\n",
    "    else:\n",
    "        print(\"The desired table not found on the webpage\")\n",
    "else:\n",
    "    print(\"Failed to fetch the webpage\")\n",
    "\n"
   ]
  },
  {
   "cell_type": "markdown",
   "metadata": {},
   "source": [
    "### Number 3: Scraping the Presidents table and storing the data as _json_ file"
   ]
  },
  {
   "cell_type": "code",
   "execution_count": null,
   "metadata": {},
   "outputs": [],
   "source": [
    "# Task 3: Scrape the Presidents table from https://en.wikipedia.org/wiki/List_of_presidents_of_the_United_States\n",
    "url = 'https://en.wikipedia.org/wiki/List_of_presidents_of_the_United_States'\n",
    "\n",
    "response = requests.get(url)\n",
    "if response.status_code == 200:\n",
    "    soup = BeautifulSoup(response.content, 'html.parser')\n",
    "\n",
    "    # Find the table containing Presidents' data\n",
    "    presidents_table = soup.find('table', {'class': 'wikitable'})\n",
    "\n",
    "    # Extract table data\n",
    "    table_data = []\n",
    "    headers = [header.text.strip() for header in presidents_table.find_all('th')]\n",
    "    for row in presidents_table.find_all('tr')[1:]:\n",
    "        row_data = {}\n",
    "        cells = row.find_all('td')\n",
    "        if len(cells) == len(headers):  # Ensuring the correct number of cells per row\n",
    "            for i, cell in enumerate(cells):\n",
    "                row_data[headers[i]] = cell.text.strip()\n",
    "            table_data.append(row_data)\n",
    "\n",
    "    # Store Presidents' data as a JSON file\n",
    "    with open('us_presidents.json', 'w') as file:\n",
    "        json.dump(table_data, file, indent=4)\n",
    "    print(\"The Presidents' table data extracted and saved as 'us_presidents.json'\")\n",
    "else:\n",
    "    print(\"Failed to fetch the webpage\")\n"
   ]
  }
 ],
 "metadata": {
  "kernelspec": {
   "display_name": "Python 3",
   "language": "python",
   "name": "python3"
  },
  "language_info": {
   "codemirror_mode": {
    "name": "ipython",
    "version": 3
   },
   "file_extension": ".py",
   "mimetype": "text/x-python",
   "name": "python",
   "nbconvert_exporter": "python",
   "pygments_lexer": "ipython3",
   "version": "3.11.5"
  }
 },
 "nbformat": 4,
 "nbformat_minor": 2
}
