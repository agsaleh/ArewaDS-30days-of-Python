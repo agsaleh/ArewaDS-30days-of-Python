{
 "cells": [
  {
   "cell_type": "markdown",
   "metadata": {},
   "source": [
    "# Day 21 Exercises\n",
    "### Exercise Level 1\n",
    "### Number 1: Creating a class called _Statistics_"
   ]
  },
  {
   "cell_type": "code",
   "execution_count": 6,
   "metadata": {},
   "outputs": [
    {
     "name": "stdout",
     "output_type": "stream",
     "text": [
      "Count: 28\n",
      "Sum:  829\n",
      "Min:  24\n",
      "Max:  38\n",
      "Range:  14\n",
      "Mean:  29.607142857142858\n",
      "Median:  28.5\n",
      "Mode:  {'mode': 26, 'count': 5}\n"
     ]
    }
   ],
   "source": [
    "class Statistics:\n",
    "    def __init__(self, data):\n",
    "        self.data = data\n",
    "\n",
    "    def count(self):\n",
    "        return len(self.data)\n",
    "\n",
    "    def sum(self):\n",
    "        return sum(self.data)\n",
    "\n",
    "    def min(self):\n",
    "        return min(self.data)\n",
    "\n",
    "    def max(self):\n",
    "        return max(self.data)\n",
    "\n",
    "    def range(self):\n",
    "        return max(self.data) - min(self.data)\n",
    "\n",
    "    def mean(self):\n",
    "        return sum(self.data) / len(self.data)\n",
    "\n",
    "    def median(self):\n",
    "        sorted_data = sorted(self.data)\n",
    "        n = len(sorted_data)\n",
    "        if n % 2 == 0:\n",
    "            return (sorted_data[n // 2 - 1] + sorted_data[n // 2]) / 2\n",
    "        else:\n",
    "            return sorted_data[n // 2]\n",
    "\n",
    "    def mode(self):\n",
    "        counts = {item: self.data.count(item) for item in set(self.data)}\n",
    "        max_count = max(counts.values())\n",
    "        mode = [k for k, v in counts.items() if v == max_count]\n",
    "        return {'mode': mode[0], 'count': max_count}\n",
    "\n",
    "    # Continue adding methods for variance, standard deviation, and frequency distribution\n",
    "    # You can use the statistical formulas or built-in Python libraries to calculate these metrics\n",
    "\n",
    "    # ...\n",
    "\n",
    "# Sample data\n",
    "ages = [28, 33, 31, 26, 34, 37, 27, 26, 32, 32, 26, 27,  30, 27, 24, 32, 33, 27, 25, 26, 38, 37, 34, 24, 33, 29, 26, 25]\n",
    "\n",
    "# Instantiate Statistics class with sample data\n",
    "data = Statistics(ages)\n",
    "\n",
    "# Test your methods with the provided data\n",
    "print('Count:', data.count())\n",
    "print('Sum: ', data.sum())\n",
    "print('Min: ', data.min())\n",
    "print('Max: ', data.max())\n",
    "print('Range: ', data.range())\n",
    "print('Mean: ', data.mean())\n",
    "print('Median: ', data.median())\n",
    "print('Mode: ', data.mode())\n",
    "# Continue testing other methods...\n"
   ]
  },
  {
   "cell_type": "markdown",
   "metadata": {},
   "source": [
    "### Exercise Level 2\n",
    "### Number 1: Creating a class called _PersonalAccount_"
   ]
  },
  {
   "cell_type": "code",
   "execution_count": 7,
   "metadata": {},
   "outputs": [
    {
     "name": "stdout",
     "output_type": "stream",
     "text": [
      "Total Income: None\n",
      "Total Expense: None\n",
      "Account Balance: None\n"
     ]
    }
   ],
   "source": [
    "class PersonAccount:\n",
    "    def __init__(self, firstname, lastname):\n",
    "        self.firstname = firstname\n",
    "        self.lastname = lastname\n",
    "        self.incomes = {}\n",
    "        self.expenses = {}\n",
    "\n",
    "    def add_income(self, description, amount):\n",
    "        # Implement logic to add income\n",
    "        pass\n",
    "\n",
    "    def add_expense(self, description, amount):\n",
    "        # Implement logic to add expense\n",
    "        pass\n",
    "\n",
    "    def total_income(self):\n",
    "        # Implement logic to calculate total income\n",
    "        pass\n",
    "\n",
    "    def total_expense(self):\n",
    "        # Implement logic to calculate total expense\n",
    "        pass\n",
    "\n",
    "    def account_balance(self):\n",
    "        # Implement logic to calculate account balance\n",
    "        pass\n",
    "\n",
    "    def account_info(self):\n",
    "        # Implement logic to display account information\n",
    "        pass\n",
    "\n",
    "# Example usage:\n",
    "person = PersonAccount(\"John\", \"Doe\")\n",
    "person.add_income(\"Salary\", 5000)\n",
    "person.add_income(\"Freelancing\", 1000)\n",
    "person.add_expense(\"Rent\", 1500)\n",
    "person.add_expense(\"Food\", 500)\n",
    "\n",
    "# Test your methods\n",
    "print(\"Total Income:\", person.total_income())\n",
    "print(\"Total Expense:\", person.total_expense())\n",
    "print(\"Account Balance:\", person.account_balance())\n",
    "person.account_info()\n"
   ]
  }
 ],
 "metadata": {
  "kernelspec": {
   "display_name": "Python 3",
   "language": "python",
   "name": "python3"
  },
  "language_info": {
   "codemirror_mode": {
    "name": "ipython",
    "version": 3
   },
   "file_extension": ".py",
   "mimetype": "text/x-python",
   "name": "python",
   "nbconvert_exporter": "python",
   "pygments_lexer": "ipython3",
   "version": "3.11.5"
  }
 },
 "nbformat": 4,
 "nbformat_minor": 2
}
